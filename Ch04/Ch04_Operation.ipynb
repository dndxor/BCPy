{
 "cells": [
  {
   "cell_type": "markdown",
   "id": "89445843-b36c-45f9-ab59-c5b214723cd9",
   "metadata": {},
   "source": [
    "----\n",
    "## **Ch04 연산자**\n",
    "> 연산자(Operator)를 활용하여 피연산자(Operand)에 대한 연산(Operation)을 수행하는 방법을 익힌다.\n",
    "----"
   ]
  },
  {
   "cell_type": "markdown",
   "id": "8762270c-6b34-454b-8b39-8c954c6bb780",
   "metadata": {},
   "source": [
    "#### **연산자의 종류**\n",
    "##### > 일련의 연산을 결합하여 수식(Expression)으로 표현하여 컴퓨팅 작업 명령을 구성함. \n",
    "##### (대입 연산) a = 3; b = 4;\n",
    "##### (산술 연산) (a + b) / 2\n",
    "##### (비교 연산) a >= b\n",
    "##### (논리 연산) (a > b) or ( a == b)\n",
    "##### (비트 연산) a = a << 1"
   ]
  },
  {
   "cell_type": "code",
   "execution_count": 5,
   "id": "00fbb7b0-90fa-451f-8ab6-c867b19d047e",
   "metadata": {},
   "outputs": [],
   "source": [
    "## 연산의 종류: 연산 결과 예측\n",
    "a = 3; b = 4;  #대입 연산\n",
    "c = (a + b) / 2  #산술 연산\n",
    "d = a >= b  #비교 연산\n",
    "e = (a > b) or ( a == b)  #논리 연산\n",
    "a = a << 1; b = ~b + 1;  #비트 연산"
   ]
  },
  {
   "cell_type": "code",
   "execution_count": 7,
   "id": "61ae84bf-3459-42a8-945f-83b1a3aad8ae",
   "metadata": {},
   "outputs": [
    {
     "name": "stdout",
     "output_type": "stream",
     "text": [
      "6 -4 3.5 False False\n"
     ]
    }
   ],
   "source": [
    "## 연산 결과 확인\n",
    "print(a, b, c, d, e)"
   ]
  },
  {
   "cell_type": "markdown",
   "id": "28e0d16e-71ab-4339-b6e9-a1d825b5a467",
   "metadata": {},
   "source": [
    "#### **산술 연산자**\n",
    "> 연산자 종류: +, -, *, /, %, //, **\n",
    "\n",
    "##### 연산 우선순위를 지정하기 위해서 ()를 적절히 사용함.\n",
    "##### 숫자 자료형과 문자 자료형 간의 연산은 불가능함.\n",
    "##### 산술 결과 자료형은 자료의 손실을 최소화 하는 방향으로 결정된다."
   ]
  },
  {
   "cell_type": "code",
   "execution_count": 35,
   "id": "614e9d23-6d46-4f0f-a87a-0eca41cc1fd9",
   "metadata": {},
   "outputs": [],
   "source": [
    "## 연산 결과 자료형 결정: 연산 결과 자료형 예측\n",
    "a = 4; b = 2;\n",
    "c = a * b\n",
    "d = a / b\n",
    "e = a // b\n",
    "f = a % b\n",
    "g = 4 * 2.0"
   ]
  },
  {
   "cell_type": "code",
   "execution_count": 37,
   "id": "1dd1146d-4501-4cc4-8081-ea23d226f59c",
   "metadata": {},
   "outputs": [
    {
     "name": "stdout",
     "output_type": "stream",
     "text": [
      "4 2 8 2.0 2 0 8.0\n",
      "<class 'int'> <class 'float'> <class 'int'> <class 'int'> <class 'float'>\n"
     ]
    }
   ],
   "source": [
    "## 연산 결과 자료형 결정: 연산 결과 자료형 확인\n",
    "print(a, b, c, d, e, f, g)\n",
    "print(type(c), type(d), type(e), type(f), type(g))"
   ]
  },
  {
   "cell_type": "markdown",
   "id": "11ab2169-77c0-437a-bae7-0d391a66eede",
   "metadata": {},
   "source": [
    "#### **[실습] 원의 면적을 구해주는 코드 작성**\n",
    "##### 반지름은 키보드로 입력을 받는다.\n",
    "##### 원의 면적을 계산하여 출력한다."
   ]
  },
  {
   "cell_type": "code",
   "execution_count": 34,
   "id": "9219cbd9-b24d-4e70-b164-3c5e0dc41444",
   "metadata": {},
   "outputs": [
    {
     "name": "stdin",
     "output_type": "stream",
     "text": [
      ">반지름(cm) 입력:  3\n"
     ]
    },
    {
     "name": "stdout",
     "output_type": "stream",
     "text": [
      ">> 반지름이 3.000000cm 원의 면적은 28.274310cm2입니다.\n"
     ]
    }
   ],
   "source": [
    "## [실습] 원의 면적을 구하는 연산\n",
    "pi = 3.14159\n",
    "r = float(input(\">반지름(cm) 입력: \"))\n",
    "\n",
    "\n"
   ]
  },
  {
   "cell_type": "markdown",
   "id": "36628426-1bf8-4291-8fbe-a83905a4dfbc",
   "metadata": {},
   "source": [
    "##### **원주율 값 받아쓰기**\n",
    "##### math나 numpy 라이브러리를 임포트하여 사용"
   ]
  },
  {
   "cell_type": "code",
   "execution_count": 31,
   "id": "06c14a0d-6ad0-46b6-8444-bbb281b48ce0",
   "metadata": {},
   "outputs": [
    {
     "name": "stdout",
     "output_type": "stream",
     "text": [
      "원주율 값: 3.141592653589793\n"
     ]
    }
   ],
   "source": [
    "## 원주율 값 사용 방법[A]\n",
    "import math\n",
    "\n",
    "pi = math.pi\n",
    "print(\"원주율 값:\", pi)"
   ]
  },
  {
   "cell_type": "code",
   "execution_count": 32,
   "id": "ee1f0b19-bc5c-4495-bf86-8a36ca3916a4",
   "metadata": {},
   "outputs": [
    {
     "name": "stdout",
     "output_type": "stream",
     "text": [
      "원주율 값: 3.141592653589793\n"
     ]
    }
   ],
   "source": [
    "## 원주율 값 사용 방법[B]\n",
    "import numpy as np\n",
    "\n",
    "pi = np.pi\n",
    "print(\"원주율 값:\", pi)"
   ]
  },
  {
   "cell_type": "markdown",
   "id": "bbb31f49-559e-423f-9efd-794dccb91d14",
   "metadata": {},
   "source": [
    "#### **[실습] n일 후의 요일 알아보기 코드 작성**\n",
    "##### 오늘로부터 n일이 경과한 날의 요일을 알려주는 코드 작성\n",
    "###### > 오늘의 요일 값을 키보드로 입력을 받는다."
   ]
  },
  {
   "cell_type": "code",
   "execution_count": 40,
   "id": "1c062bcf-d532-4fe5-a554-3a3505590c8e",
   "metadata": {},
   "outputs": [
    {
     "name": "stdin",
     "output_type": "stream",
     "text": [
      ">오늘의 요일 값(0:일,1:월,2:화,3:수,4:목,5금,6:토) 입력:  6\n",
      ">몇일 후인가요?  7\n"
     ]
    },
    {
     "name": "stdout",
     "output_type": "stream",
     "text": [
      ">> 7일 후는 6요일입니다.\n"
     ]
    }
   ],
   "source": [
    "## [실습] n일 후의 요일 알아보기: 요일 index 값으로 해결하기\n",
    "wd = int(input(\">오늘의 요일 값(0:일,1:월,2:화,3:수,4:목,5금,6:토) 입력: \"))\n",
    "n = int(input(\">몇일 후인가요? \"))\n",
    "\n",
    "\n"
   ]
  },
  {
   "cell_type": "markdown",
   "id": "1a8d8ebe-da8d-4f7f-939a-ea5e1d9461af",
   "metadata": {},
   "source": [
    "#### **(알아두면 좋아요)**\n",
    "----\n",
    "##### **datetime 모듈 사용하기**\n",
    "##### .now() .weekday()"
   ]
  },
  {
   "cell_type": "code",
   "execution_count": 49,
   "id": "8b84b357-b0cb-40ed-81df-6bfa9ecaf57e",
   "metadata": {},
   "outputs": [
    {
     "name": "stdout",
     "output_type": "stream",
     "text": [
      "2024/3/22\n",
      "4\n"
     ]
    }
   ],
   "source": [
    "## datetime 모듈 사용하기\n",
    "import datetime\n",
    "\n",
    "# 현재 날짜와 시간을 가져오기\n",
    "now = datetime.datetime.now()\n",
    "# 년, 월, 일을 추출합니다.\n",
    "year = now.year\n",
    "month = now.month\n",
    "day = now.day\n",
    "print(str(year)+\"/\"+str(month)+\"/\"+str(day))\n",
    "\n",
    "# 현재 요일의 인덱스를 가져오기. (월요일: 0, 화요일: 1, ..., 일요일: 6)\n",
    "weekday_index = now.weekday()\n",
    "print(weekday_index)"
   ]
  },
  {
   "cell_type": "code",
   "execution_count": 44,
   "id": "65bae1a0-b311-4adf-85aa-5281c21f9205",
   "metadata": {},
   "outputs": [
    {
     "name": "stdin",
     "output_type": "stream",
     "text": [
      ">몇일 후인가요?  1\n"
     ]
    },
    {
     "name": "stdout",
     "output_type": "stream",
     "text": [
      ">> 1일 후는 토요일입니다.\n"
     ]
    }
   ],
   "source": [
    "## [실습] n일 후의 요일 알아보기: 요일 문자열 값으로 해결하기\n",
    "weekday = \"0123456\"\n",
    "weekname = \"일월화수목금토\"\n",
    "\n",
    "import datetime\n",
    "# 현재 날짜와 시간을 가져옵니다.\n",
    "now = datetime.datetime.now()\n",
    "# 현재 요일의 인덱스를 가져옵니다. (월요일: 0, 화요일: 1, ..., 일요일: 6)\n",
    "weekday_index = now.weekday()\n",
    "\n",
    "wd = (weekday_index + 1) % 7  #요일 index 조정\n",
    "n = int(input(\">몇일 후인가요? \"))\n",
    "result = (wd + n) % 7 \n",
    "print(\">> %d일 후는 %c요일입니다.\" %(n, weekname[result]))"
   ]
  },
  {
   "cell_type": "code",
   "execution_count": null,
   "id": "864eb7a3-6822-45b4-a3f2-1bb14ee0065f",
   "metadata": {},
   "outputs": [],
   "source": []
  },
  {
   "cell_type": "markdown",
   "id": "438ac5bc-d876-471a-99e8-b23ae4240b66",
   "metadata": {},
   "source": [
    "#### **비교 연산자**\n",
    "> 연산자 종류: <, >, <=, >=, ==, !=\n",
    "\n",
    "##### 두 개의 피연산자를 비교하여 참(True 또는 1)이나 거짓(False 또는 0)으로 판별\n",
    "##### 비교 연산의 결과는 True 또는 False로 사용되지만 시스템 내부에서는 1과 0 정수값으로 관리된다."
   ]
  },
  {
   "cell_type": "code",
   "execution_count": 183,
   "id": "4ee18f2d-cd50-44dc-a7c2-745f76574be7",
   "metadata": {},
   "outputs": [
    {
     "name": "stdout",
     "output_type": "stream",
     "text": [
      "True\n",
      "<class 'bool'>\n"
     ]
    }
   ],
   "source": [
    "## 비교 연산자\n",
    "a = 3; b = 4\n",
    "c = a <= b  #연산 결과는 True 또는 False (boolean형)\n",
    "\n",
    "print(c)\n",
    "print(type(c))"
   ]
  },
  {
   "cell_type": "code",
   "execution_count": 184,
   "id": "843f47e6-ab5c-4013-80b2-72090e457c8e",
   "metadata": {},
   "outputs": [
    {
     "name": "stdout",
     "output_type": "stream",
     "text": [
      "1\n",
      "<class 'int'>\n"
     ]
    }
   ],
   "source": [
    "## 비교 연산자\n",
    "a = 3; b = 4\n",
    "c = (a < b) + (a == b)  #연산 결과는 정수 값으로 저장\n",
    "\n",
    "print(c)\n",
    "print(type(c))"
   ]
  },
  {
   "cell_type": "code",
   "execution_count": 188,
   "id": "c51c7a03-40e4-4876-877c-0ff5fc49a77d",
   "metadata": {},
   "outputs": [
    {
     "name": "stdout",
     "output_type": "stream",
     "text": [
      "b가 크거나 같음.\n"
     ]
    }
   ],
   "source": [
    "## 비교 연산자\n",
    "a = 4; b = 4\n",
    "c = (a < b) + (a == b)  #연산 결과는 정수 값으로 저장\n",
    "\n",
    "if c:\n",
    "    print(\"b가 크거나 같음.\")"
   ]
  },
  {
   "cell_type": "markdown",
   "id": "c8c7a997-002b-45c7-8b97-911c8c9ff2c5",
   "metadata": {},
   "source": [
    "##### **[예제] 나이 비교**"
   ]
  },
  {
   "cell_type": "code",
   "execution_count": null,
   "id": "bd9404fd-2f3b-452f-b27a-e24548ac7b8d",
   "metadata": {},
   "outputs": [],
   "source": [
    "## 키보드로 나이를 입력받은 다음 누가 나이가 많은지를 출력\n",
    "while True : #무한 반복\n",
    "    age = int(input(\">나이 입력: \"))     \n",
    "    print(\"아~ %d살...\" % age)\n",
    "    myage = 30\n",
    "    print(\"나하고 %d살 차이가 나네요.\" % abs(myage - age))\n",
    "\n",
    "    if myage > age :\n",
    "        print(\"그럼 내가 위네요.\")  #True 시 수행\n",
    "    elif myage < age :\n",
    "        print(\"그럼 당신이 위네요.\")  \n",
    "    else :\n",
    "        print(\"그럼 동갑이네요.\")\n",
    "\n",
    "    yn = input(\">>그만 하려면 x를 입력? \")\n",
    "    if yn == 'x' or yn == 'X' :\n",
    "        break  #반복 탈출"
   ]
  },
  {
   "cell_type": "markdown",
   "id": "ca4f0199-4a35-48c8-b7b9-bf95cd8e08a7",
   "metadata": {},
   "source": [
    "#### **(알아두면 좋아요)**\n",
    "----\n",
    "##### **datetime 모듈 사용하기**\n",
    "##### .daytime()  #날자 자료형 만들기"
   ]
  },
  {
   "cell_type": "code",
   "execution_count": 70,
   "id": "f14d7944-dbe2-4704-8b2a-982b6918f368",
   "metadata": {},
   "outputs": [
    {
     "name": "stdout",
     "output_type": "stream",
     "text": [
      "나이: 23\n"
     ]
    }
   ],
   "source": [
    "## import datetime: 내 나이 계산하기\n",
    "import datetime\n",
    "# 현재 날짜와 시간을 가져오기\n",
    "now = datetime.datetime.now()\n",
    "\n",
    "# 출생일로 생년월일 객체를 생성\n",
    "mybirth = datetime.datetime(2000, 3, 25)  #My birthday\n",
    "# 나이를 계산\n",
    "myage = now.year - mybirth.year - ((now.month, now.day) < (mybirth.month, mybirth.day))\n",
    "print(\"나이:\", myage)"
   ]
  },
  {
   "cell_type": "code",
   "execution_count": 72,
   "id": "80bc092b-a990-435e-8aaa-3985570468d1",
   "metadata": {},
   "outputs": [
    {
     "data": {
      "text/plain": [
       "True"
      ]
     },
     "execution_count": 72,
     "metadata": {},
     "output_type": "execute_result"
    }
   ],
   "source": [
    "## import datetime: 날짜 (월, 일) 비교하기\n",
    "import datetime\n",
    "# 현재 날짜와 시간을 가져오기\n",
    "now = datetime.datetime.now()\n",
    "\n",
    "# 출생일로 생년월일 객체를 생성\n",
    "mybirth = datetime.datetime(2000, 3, 25)  #My birthday\n",
    "# 날짜 (월, 일) 비교\n",
    "(now.month, now.day) < (mybirth.month, mybirth.day)"
   ]
  },
  {
   "cell_type": "markdown",
   "id": "3e52b569-b57d-43de-9cd4-a36ff1e084f0",
   "metadata": {},
   "source": [
    "#### **[실습] 내 나이를 환산해주는 방식으로 코드 변경**\n",
    "##### 오늘 날자를 기준으로 내 나이(myage)를 결정해주 방식으로 변경"
   ]
  },
  {
   "cell_type": "code",
   "execution_count": 67,
   "id": "35937ab1-77eb-4e82-a20c-3070163c3d46",
   "metadata": {},
   "outputs": [
    {
     "name": "stdin",
     "output_type": "stream",
     "text": [
      ">나이 입력:  33\n"
     ]
    },
    {
     "name": "stdout",
     "output_type": "stream",
     "text": [
      "아~ 33살...\n",
      "나하고 10살 차이가 나네요.\n",
      "그럼 당신이 위네요.\n"
     ]
    },
    {
     "name": "stdin",
     "output_type": "stream",
     "text": [
      ">>그만 하려면 x를 입력?  x\n"
     ]
    }
   ],
   "source": [
    "## [실습] 내 나이를 환산해주기\n",
    "\n",
    "\n",
    "myage = 30\n",
    "\n",
    "while True : #무한 반복\n",
    "    age = int(input(\">나이 입력: \"))     \n",
    "    print(\"아~ %d살...\" % age)    \n",
    "    print(\"나하고 %d살 차이가 나네요.\" % abs(myage - age))\n",
    "\n",
    "    if myage > age :\n",
    "        print(\"그럼 내가 위네요.\")\n",
    "    elif myage < age :\n",
    "        print(\"그럼 당신이 위네요.\")\n",
    "    else :\n",
    "        print(\"그럼 동갑이네요.\")\n",
    "\n",
    "    yn = input(\">>그만 하려면 x를 입력? \")\n",
    "    if yn == 'x' or yn == 'X' :\n",
    "        break  #반복 탈출"
   ]
  },
  {
   "cell_type": "code",
   "execution_count": null,
   "id": "20582b26-97ba-4766-9287-2f784d6025e1",
   "metadata": {},
   "outputs": [],
   "source": []
  },
  {
   "cell_type": "markdown",
   "id": "98ab2cca-c860-4733-917e-3aebcc0fabb7",
   "metadata": {},
   "source": [
    "#### **논리 연산자**\n",
    "> 연산자 종류: and, or, not\n",
    "\n",
    "##### 두 개 이상의 조건(True 또는 False)을 결합하여 최종 조건(True 또는 False)을 판단하는 연산"
   ]
  },
  {
   "cell_type": "code",
   "execution_count": 189,
   "id": "14f11633-8a8e-4360-9f26-95602a0782ce",
   "metadata": {},
   "outputs": [
    {
     "name": "stdout",
     "output_type": "stream",
     "text": [
      "True\n"
     ]
    }
   ],
   "source": [
    "##논리 연산\n",
    "a = 3; b = 4;\n",
    "c = (a < b) or (a == b)  #논리 연산\n",
    "\n",
    "print(c)"
   ]
  },
  {
   "cell_type": "code",
   "execution_count": 190,
   "id": "f1589b34-0c84-4132-bf6f-7df1042b7b11",
   "metadata": {},
   "outputs": [
    {
     "name": "stdout",
     "output_type": "stream",
     "text": [
      "4\n"
     ]
    }
   ],
   "source": [
    "##논리 연산: A or B\n",
    "a = 3; b = 4;\n",
    "if (a < b) or (a == b):  #논리, 비교 연산\n",
    "    imax = b\n",
    "else:\n",
    "    imax = a\n",
    "print(imax)"
   ]
  },
  {
   "cell_type": "code",
   "execution_count": 191,
   "id": "a6ece867-39b7-407b-8380-5e17fb7520d0",
   "metadata": {},
   "outputs": [
    {
     "name": "stdout",
     "output_type": "stream",
     "text": [
      "4\n"
     ]
    }
   ],
   "source": [
    "##논리 연산: not(A or B) = not(A) and not(B)\n",
    "a = 3; b = 4;\n",
    "if not((a < b) or (a == b)):  #논리, 비교 연산\n",
    "    imax = a\n",
    "else:\n",
    "    imax = b\n",
    "print(imax)"
   ]
  },
  {
   "cell_type": "code",
   "execution_count": 192,
   "id": "57393aa6-aae2-42e2-addf-a99c2a4f6e1c",
   "metadata": {},
   "outputs": [
    {
     "name": "stdout",
     "output_type": "stream",
     "text": [
      "4\n"
     ]
    }
   ],
   "source": [
    "##논리 연산: not(A or B) = not(A) and not(B)\n",
    "a = 3; b = 4;\n",
    "if not(a < b) and not(a == b):  #논리, 비교 연산\n",
    "    imax = a\n",
    "else:\n",
    "    imax = b\n",
    "print(imax)"
   ]
  },
  {
   "cell_type": "markdown",
   "id": "638d1cd9-b5f7-433d-a50b-6694ee6dba52",
   "metadata": {},
   "source": [
    "#### **[실습] 할인 적용 여부 판단**\n",
    "##### > “할인” 조건: “국가유공자”인 경우 또는 “현역 군인”인 경우"
   ]
  },
  {
   "cell_type": "code",
   "execution_count": 78,
   "id": "da1c3efe-67bb-4d4d-916c-227471a228cb",
   "metadata": {},
   "outputs": [
    {
     "name": "stdout",
     "output_type": "stream",
     "text": [
      ">신분이 어떻게 되는지  y나 기타 키로 답하세요.\n"
     ]
    },
    {
     "name": "stdin",
     "output_type": "stream",
     "text": [
      ">>국가유공자이신가요(y)?  y\n",
      ">>현혁군인이신가요(y)?  n\n"
     ]
    },
    {
     "name": "stdout",
     "output_type": "stream",
     "text": [
      ">>>할인 대상입니다.\n"
     ]
    }
   ],
   "source": [
    "## [실습] 할인 적용 여부 판단\n",
    "print(\">신분이 어떻게 되는지  y나 기타 키로 답하세요.\")\n",
    "status1 = input(\">>국가유공자이신가요(y)? \").strip().lower()\n",
    "status2 = input(\">>현혁군인이신가요(y)? \").strip().lower()\n",
    "\n"
   ]
  },
  {
   "cell_type": "markdown",
   "id": "a113a5d7-2b01-4858-bb97-e589f95b8c6c",
   "metadata": {},
   "source": [
    "#### **[실습] “합격”과 “불합격” 판단**\n",
    "##### “합격” 조건은 다음과 같이 조건-A와 조건-B를 모두 만족시켜야 한다.\n",
    "###### > 각 과목에서 40점 미만이 없어야 한다.\n",
    "###### > 모든 과목의 평균 점수가 60점 이상이어야 한다."
   ]
  },
  {
   "cell_type": "code",
   "execution_count": 92,
   "id": "5eccadb6-b79a-4a38-8a60-8c6a221948e0",
   "metadata": {},
   "outputs": [
    {
     "name": "stdout",
     "output_type": "stream",
     "text": [
      "Avg:  71.8, Min: 38\n",
      "불합격\n"
     ]
    }
   ],
   "source": [
    "## [실습] '합격', '불합격' 판단\n",
    "score = [80, 63, 38, 88, 90]\n",
    "\n",
    "avg = sum(score) / len(score)\n",
    "smin = min(score)\n",
    "print(\"Avg: %5.1f, Min: %d\" %(avg, smin))\n",
    "\n",
    "\n"
   ]
  },
  {
   "cell_type": "code",
   "execution_count": null,
   "id": "6965db06-b041-46eb-ba82-8043af3873e3",
   "metadata": {},
   "outputs": [],
   "source": []
  },
  {
   "cell_type": "markdown",
   "id": "fdd9dad2-0bbf-4bf7-a58f-8f9c3485d94a",
   "metadata": {},
   "source": [
    "#### **대입 연산자**\n",
    "> 연산자 종류: =\n",
    "\n",
    "##### 변수에 오른쪽의 값이나 연산 결과를 저장하는 연산자\n",
    "##### 산술 결과 자료형은 자료의 손실을 최소화 하는 방향으로 결정된다."
   ]
  },
  {
   "cell_type": "code",
   "execution_count": 94,
   "id": "2d4ee66a-a6b7-4b7a-9b2c-88ad00ffe0f3",
   "metadata": {},
   "outputs": [
    {
     "name": "stdout",
     "output_type": "stream",
     "text": [
      "3 4 7\n"
     ]
    }
   ],
   "source": [
    "## 대입 연산자 사용: 기본 사용\n",
    "a = 3\n",
    "b = 4\n",
    "c = a + b\n",
    "\n",
    "print(a, b, c)"
   ]
  },
  {
   "cell_type": "code",
   "execution_count": 96,
   "id": "1c9760da-4ada-4705-b3b8-231cf9288336",
   "metadata": {},
   "outputs": [
    {
     "name": "stdout",
     "output_type": "stream",
     "text": [
      "3 4 7\n"
     ]
    }
   ],
   "source": [
    "## 대입 연산자 사용: 목합 사용\n",
    "a = 3; b = 4\n",
    "c = a + b\n",
    "\n",
    "print(a, b, c)"
   ]
  },
  {
   "cell_type": "code",
   "execution_count": 97,
   "id": "17d4978d-68e0-40ab-ab9a-6ee972d3ae8c",
   "metadata": {},
   "outputs": [
    {
     "name": "stdout",
     "output_type": "stream",
     "text": [
      "0 0 0\n"
     ]
    }
   ],
   "source": [
    "## 대입 연산자 사용: 목합 사용\n",
    "a = b = c = 0\n",
    "\n",
    "print(a, b, c)"
   ]
  },
  {
   "cell_type": "code",
   "execution_count": 98,
   "id": "f72433fc-1fa9-42ad-b489-4037e17dd2fa",
   "metadata": {},
   "outputs": [
    {
     "name": "stdout",
     "output_type": "stream",
     "text": [
      "3 4 5\n"
     ]
    }
   ],
   "source": [
    "## 대입 연산자 사용: 목합 사용\n",
    "a, b, c = 3, 4, 5\n",
    "\n",
    "print(a, b, c)"
   ]
  },
  {
   "cell_type": "code",
   "execution_count": 106,
   "id": "8c6ea02f-f9e6-491a-9789-277753702bf1",
   "metadata": {},
   "outputs": [
    {
     "name": "stdout",
     "output_type": "stream",
     "text": [
      "4 3\n"
     ]
    }
   ],
   "source": [
    "## 대입 연산자 사용: 목합 사용\n",
    "a = 3; b = 4\n",
    "a, b = b, a  #교환 효과\n",
    "\n",
    "print(a, b)"
   ]
  },
  {
   "cell_type": "code",
   "execution_count": 112,
   "id": "8324ded2-2dc8-406c-b195-fae0e234dae1",
   "metadata": {},
   "outputs": [
    {
     "name": "stdout",
     "output_type": "stream",
     "text": [
      "5 4 3\n"
     ]
    }
   ],
   "source": [
    "## 대입 연산자 사용: 목합 사용\n",
    "a = 3; b = 4; c = 5\n",
    "a, b, c = c, b, a  #교환 효과\n",
    "\n",
    "print(a, b, c)"
   ]
  },
  {
   "cell_type": "markdown",
   "id": "4a64bdbc-5e0e-4f6b-b855-af72c7e70642",
   "metadata": {},
   "source": [
    "##### **복합 대입 연산자**\n",
    "> 연산자 종류: +=, -=, *=, /=, //=, %=\n",
    "\n",
    "##### 대입 연산자와 산술 연산자를 함께 표기한 연산자\n",
    "##### 앞에 연산을 한 후에 뒤의 연산(= 대입)을 하는 복합 대입 연산자\n",
    "###### > a += 1 는 a + 1 연산 후에 그 결과를 a에 대입(=)하는 복합 연산\n",
    "###### > a =+ 1 는 a = 1 연산 후에 a + 1 연산하는 복합 연산"
   ]
  },
  {
   "cell_type": "code",
   "execution_count": 204,
   "id": "6dfdef89-1abd-4001-b56a-ffd9cbbecd52",
   "metadata": {},
   "outputs": [
    {
     "name": "stdout",
     "output_type": "stream",
     "text": [
      "4\n"
     ]
    }
   ],
   "source": [
    "## 복합 대입 연산자\n",
    "a = 3\n",
    "a = a + 1\n",
    "print(a)"
   ]
  },
  {
   "cell_type": "code",
   "execution_count": 205,
   "id": "87a5ca67-da40-44b2-abce-ade8dab657a8",
   "metadata": {},
   "outputs": [
    {
     "name": "stdout",
     "output_type": "stream",
     "text": [
      "4\n"
     ]
    }
   ],
   "source": [
    "## 복합 대입 연산자: +=\n",
    "a = 3\n",
    "a += 1  # + 연산 후에 대입(=) 연산 수행 \n",
    "print(a)"
   ]
  },
  {
   "cell_type": "code",
   "execution_count": 206,
   "id": "7ec5b415-4812-4c01-9f7f-44a352dbdc56",
   "metadata": {},
   "outputs": [
    {
     "name": "stdout",
     "output_type": "stream",
     "text": [
      "1\n"
     ]
    }
   ],
   "source": [
    "## 복합 대입 연산자: =+\n",
    "a = 3\n",
    "a =+ 1  # 대입(=) 연산 후에 + 연산 수행 \n",
    "print(a)"
   ]
  },
  {
   "cell_type": "code",
   "execution_count": null,
   "id": "3824808a-56be-4e20-a74e-3db45272e3bb",
   "metadata": {},
   "outputs": [],
   "source": []
  },
  {
   "cell_type": "markdown",
   "id": "ad6ee706-c09e-4f86-a836-7f6ecd626944",
   "metadata": {},
   "source": [
    "#### **비트 연산자**\n",
    "> 연산자 종류: &, |,^, ~, <<, >>\n",
    "\n",
    "##### 2진수(binary)의 각 비트 간의 논리 연산, 비트 이동(shift) 연산"
   ]
  },
  {
   "cell_type": "code",
   "execution_count": 116,
   "id": "447510d4-8d94-41f7-8da8-4511a4b66174",
   "metadata": {},
   "outputs": [
    {
     "name": "stdout",
     "output_type": "stream",
     "text": [
      "0b11 -0b11\n"
     ]
    }
   ],
   "source": [
    "## 비트 연산자\n",
    "a = 3\n",
    "b = -3\n",
    "\n",
    "print(bin(a), bin(b))"
   ]
  },
  {
   "cell_type": "code",
   "execution_count": 138,
   "id": "d134a931-15cd-4e7f-81e1-ec694c2ead39",
   "metadata": {},
   "outputs": [
    {
     "name": "stdout",
     "output_type": "stream",
     "text": [
      "0b1010 0b111 0b10\n"
     ]
    }
   ],
   "source": [
    "## 비트 AND 연산자: &\n",
    "a = 0b1010\n",
    "b = 0b0111\n",
    "c = a & b\n",
    "\n",
    "print(bin(a), bin(b), bin(c))"
   ]
  },
  {
   "cell_type": "code",
   "execution_count": 137,
   "id": "6f80471c-d37e-40bf-b41e-9ab5839374da",
   "metadata": {},
   "outputs": [
    {
     "name": "stdout",
     "output_type": "stream",
     "text": [
      "0b1010 0b111 0b1111\n"
     ]
    }
   ],
   "source": [
    "## 비트 OR 연산자: |\n",
    "a = 0b1010\n",
    "b = 0b0111\n",
    "c = a | b\n",
    "\n",
    "print(bin(a), bin(b), bin(c))"
   ]
  },
  {
   "cell_type": "code",
   "execution_count": 139,
   "id": "0b4cb550-e697-4344-8c42-d579034b8ec2",
   "metadata": {},
   "outputs": [
    {
     "name": "stdout",
     "output_type": "stream",
     "text": [
      "0b1010 0b111 0b1101\n"
     ]
    }
   ],
   "source": [
    "## 비트 XOR 연산자: ^\n",
    "a = 0b1010\n",
    "b = 0b0111\n",
    "c = a ^ b\n",
    "\n",
    "print(bin(a), bin(b), bin(c))"
   ]
  },
  {
   "cell_type": "code",
   "execution_count": 126,
   "id": "3bc80c9d-60dc-481a-a5a6-6c9178549d8e",
   "metadata": {},
   "outputs": [
    {
     "name": "stdout",
     "output_type": "stream",
     "text": [
      "0b100011 0b11110000 -0b100100 -0b11110001\n"
     ]
    }
   ],
   "source": [
    "## 비트 NOT 연산자: ~\n",
    "a = 0x23\n",
    "b = 0xf0  \n",
    "c = ~a\n",
    "d = ~b\n",
    "\n",
    "print(bin(a), bin(b), bin(c), bin(d))"
   ]
  },
  {
   "cell_type": "markdown",
   "id": "75b26fda-c46e-4a0a-997a-07aa496e3463",
   "metadata": {},
   "source": [
    "##### **비트 마스크 연산**\n",
    "##### 원하는 자리의 비트를 추출하기 위해 해당 위치의 비트 값을 논리곱(&) 1 수행"
   ]
  },
  {
   "cell_type": "code",
   "execution_count": 140,
   "id": "fbae873e-728b-4b1d-a410-fb159962dc30",
   "metadata": {},
   "outputs": [
    {
     "name": "stdout",
     "output_type": "stream",
     "text": [
      "0b1000001 0b1000100010001 0b1 0b1000000\n"
     ]
    }
   ],
   "source": [
    "## 비트 마스크 연산: a의 하위 4비트 추출\n",
    "a = 0b01000001  #0x41\n",
    "b = 0x00001111  #0x0f  #Mask\n",
    "c = a & b   #Masking\n",
    "d = a & ~b  #Masking\n",
    "\n",
    "print(bin(a), bin(b), bin(c), bin(d))"
   ]
  },
  {
   "cell_type": "markdown",
   "id": "caab54c5-7b34-4b95-bec2-537f259febac",
   "metadata": {},
   "source": [
    "##### **비트 시프트 연산**\n",
    "##### 비트열을 좌나 우로 원하는 수만큼 축차 이동시킴\n",
    "###### > 빈 자리는 0으로 채움\n",
    "##### 비트는 위치에 따른 가중치가 있으므로 수의 *= 2 또는 /= 2 효과가 있음"
   ]
  },
  {
   "cell_type": "code",
   "execution_count": 148,
   "id": "e4cbf322-8ddd-40be-a23e-e5461db2173a",
   "metadata": {},
   "outputs": [
    {
     "name": "stdout",
     "output_type": "stream",
     "text": [
      "0b11010\n",
      "0b1101\n",
      "0b110\n",
      "0b11\n",
      "0b1\n",
      "0b0\n",
      "0b0\n",
      "0b0\n",
      "0b0\n"
     ]
    }
   ],
   "source": [
    "## 비트 시프트 연산\n",
    "a = 0b00011010  #0x1a\n",
    "\n",
    "for _ in range(8+1):\n",
    "    print(bin(a))\n",
    "    a = a >> 1"
   ]
  },
  {
   "cell_type": "code",
   "execution_count": 147,
   "id": "15372f2d-3030-4243-8e15-d3d3c3ac3a61",
   "metadata": {},
   "outputs": [
    {
     "name": "stdout",
     "output_type": "stream",
     "text": [
      "0b11010\n",
      "0b110100\n",
      "0b1101000\n",
      "0b11010000\n",
      "0b110100000\n",
      "0b1101000000\n",
      "0b11010000000\n",
      "0b110100000000\n",
      "0b1101000000000\n"
     ]
    }
   ],
   "source": [
    "## 비트 시프트 연산\n",
    "a = 0b00011010  #0x1a\n",
    "\n",
    "for _ in range(8+1):\n",
    "    print(bin(a))\n",
    "    a = a << 1"
   ]
  },
  {
   "cell_type": "code",
   "execution_count": 151,
   "id": "f831d975-6755-441c-9a04-0000183d6a49",
   "metadata": {},
   "outputs": [
    {
     "name": "stdout",
     "output_type": "stream",
     "text": [
      "1\n",
      "2\n",
      "4\n",
      "8\n",
      "16\n",
      "32\n",
      "64\n",
      "128\n",
      "256\n",
      "512\n",
      "1024\n"
     ]
    }
   ],
   "source": [
    "## 비트 시프트 연산\n",
    "a = 0b1\n",
    "\n",
    "for _ in range(10+1):\n",
    "    print(a)\n",
    "    a = a << 1"
   ]
  },
  {
   "cell_type": "code",
   "execution_count": 150,
   "id": "5569f4b0-1d09-4a1d-b011-e642dd24d302",
   "metadata": {},
   "outputs": [
    {
     "name": "stdout",
     "output_type": "stream",
     "text": [
      "1024\n",
      "512\n",
      "256\n",
      "128\n",
      "64\n",
      "32\n",
      "16\n",
      "8\n",
      "4\n",
      "2\n",
      "1\n"
     ]
    }
   ],
   "source": [
    "## 비트 시프트 연산\n",
    "a = 1024  #0b1000000000\n",
    "\n",
    "for _ in range(10+1):\n",
    "    print(a)\n",
    "    a = a >> 1"
   ]
  },
  {
   "cell_type": "code",
   "execution_count": null,
   "id": "aaaf8a81-c528-4466-a5ed-adb90268a93a",
   "metadata": {},
   "outputs": [],
   "source": []
  },
  {
   "cell_type": "markdown",
   "id": "ac31bff2-cc63-4150-8d9c-02438ece5ae4",
   "metadata": {},
   "source": [
    "#### **[실습] 원하는 위치의 비트 값 알아내기**\n",
    "##### 대상 값은 10진숫자로 입력받는다.\n",
    "###### > 입력된 대상 값을 2진수로 출력해준다.\n",
    "##### 추출할 비트의 위치 값을 입력받는다.\n",
    "###### > 맨 왼쪽 비트를 0번째로 한 위치 값\n",
    "##### 추출한 비트 값을 출력한다."
   ]
  },
  {
   "cell_type": "code",
   "execution_count": 157,
   "id": "ad8a1f64-a95a-4af7-a5cf-cb6e868c4b0b",
   "metadata": {},
   "outputs": [
    {
     "name": "stdin",
     "output_type": "stream",
     "text": [
      ">대상 값(10진숫자)):  33\n"
     ]
    },
    {
     "name": "stdout",
     "output_type": "stream",
     "text": [
      "0b100001\n"
     ]
    },
    {
     "name": "stdin",
     "output_type": "stream",
     "text": [
      ">원하는 위치 값(맨 왼쪽 0번째 기준)):  5\n"
     ]
    },
    {
     "name": "stdout",
     "output_type": "stream",
     "text": [
      ">> 비트 1\n"
     ]
    }
   ],
   "source": [
    "## 비트 연산자: 원하는 위치의 비트 값 알아내기\n",
    "a = int(input(\">대상 값(10진숫자)): \"))\n",
    "print(bin(a))\n",
    "pos = int(input(\">원하는 위치 값(맨 왼쪽 0번째 기준)): \"))\n",
    "\n",
    "\n"
   ]
  },
  {
   "cell_type": "code",
   "execution_count": null,
   "id": "6d437330-8946-429a-a3fa-c16e3d7551d0",
   "metadata": {},
   "outputs": [],
   "source": []
  },
  {
   "cell_type": "markdown",
   "id": "82fad3db-d762-4d6f-bca6-ed262b1a9ba5",
   "metadata": {},
   "source": [
    "----\n",
    "----"
   ]
  },
  {
   "cell_type": "markdown",
   "id": "c628372d-36ea-4888-8020-d4ddb7f5b7f9",
   "metadata": {},
   "source": [
    "### **[과제] 거스름 돈 반환 개수 최소화**\n",
    "#### 키보드로 다음을 입력받아 처리\n",
    "##### >청구한 금액 입력(원)? \n",
    "##### >받은 금액 입력(원)? \n",
    "#### 다음 내용을 출력(단, 거스름 돈은 최소 개수가 되도록 하시오.)\n",
    "##### >거스를 총 금액:   \n",
    "##### >50000원권 %d, 10000원권 %d, 5000원권 %d, 1000원권 %d\n",
    "##### >500원권 %d, 100원권 %d, 50원권 %d, 10원권 %d, 1원권 %d"
   ]
  },
  {
   "cell_type": "code",
   "execution_count": 166,
   "id": "0123f548-33f2-4c8f-8206-7ab30c50ae7d",
   "metadata": {},
   "outputs": [
    {
     "name": "stdin",
     "output_type": "stream",
     "text": [
      ">청구한 금액 입력(원)?  1234\n",
      ">받은 금액 입력(원)?  10000\n"
     ]
    },
    {
     "name": "stdout",
     "output_type": "stream",
     "text": [
      ">>거스를 총 금액 : 8766\n"
     ]
    }
   ],
   "source": [
    "## [예제] 거스름 돈 반환 개수 최소화: 금액 입력 처리\n",
    "totwon = 0\n",
    "inwon = 0\n",
    "outwon = 0\n",
    "\n",
    "while inwon <= totwon:\n",
    "    totwon = int(input(\">청구한 금액 입력(원)? \"))\n",
    "    inwon = int(input(\">받은 금액 입력(원)? \"))\n",
    "\n",
    "outwon = inwon - totwon    ##거스를 금액\n",
    "print(\">>거스를 총 금액 : %d\" %outwon)"
   ]
  },
  {
   "cell_type": "code",
   "execution_count": 165,
   "id": "943de271-af47-4726-b807-b1f3ed928c09",
   "metadata": {},
   "outputs": [
    {
     "name": "stdin",
     "output_type": "stream",
     "text": [
      ">청구한 금액 입력(원)?  1234\n",
      ">받은 금액 입력(원)?  10000\n"
     ]
    },
    {
     "name": "stdout",
     "output_type": "stream",
     "text": [
      ">>거스를 총 금액 : 8766\n",
      "5000원권 1\n",
      "1000원권 3\n",
      "500원권 1\n",
      "100원권 2\n",
      "50원권 1\n",
      "10원권 1\n",
      "1원권 6\n",
      "\n",
      "\n"
     ]
    }
   ],
   "source": [
    "## [과제] 거스름 돈 반환 개수 최소화: 금액 입력 처리\n",
    "totwon = 0\n",
    "inwon = 0\n",
    "outwon = 0\n",
    "\n",
    "while inwon <= totwon:\n",
    "    totwon = int(input(\">청구한 금액 입력(원)? \"))\n",
    "    inwon = int(input(\">받은 금액 입력(원)? \"))\n",
    "\n",
    "outwon = inwon - totwon    ##거스를 금액\n",
    "print(\">>거스를 총 금액 : %d\" %outwon)\n",
    "\n",
    "\n",
    "\n"
   ]
  },
  {
   "cell_type": "markdown",
   "id": "5ff08f3c-5546-4f08-8bbb-5238e0ea64c4",
   "metadata": {},
   "source": [
    "----"
   ]
  }
 ],
 "metadata": {
  "kernelspec": {
   "display_name": "Python 3 (ipykernel)",
   "language": "python",
   "name": "python3"
  },
  "language_info": {
   "codemirror_mode": {
    "name": "ipython",
    "version": 3
   },
   "file_extension": ".py",
   "mimetype": "text/x-python",
   "name": "python",
   "nbconvert_exporter": "python",
   "pygments_lexer": "ipython3",
   "version": "3.9.13"
  }
 },
 "nbformat": 4,
 "nbformat_minor": 5
}
