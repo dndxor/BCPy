{
 "cells": [
  {
   "cell_type": "markdown",
   "id": "5115c07f-3c68-43de-bfb1-c923c5a74eb0",
   "metadata": {},
   "source": [
    "---\n",
    "## **Ch03 변수(Variable)**\n",
    "---"
   ]
  },
  {
   "cell_type": "markdown",
   "id": "00a4684d-be99-434f-aa06-271b258a8aef",
   "metadata": {},
   "source": [
    "### **01. 정보의 표현**\n",
    "#### **데이터 표현**"
   ]
  },
  {
   "cell_type": "code",
   "execution_count": 1,
   "id": "3da15565-c6ad-4cd1-be21-57e46f9425ef",
   "metadata": {},
   "outputs": [
    {
     "name": "stdout",
     "output_type": "stream",
     "text": [
      "EVENTLOOP\n"
     ]
    }
   ],
   "source": [
    "# Turtle : colormixer\n",
    "\n",
    "from turtle import Screen, Turtle, mainloop\n",
    "\n",
    "class ColorTurtle(Turtle):\n",
    "\n",
    "    def __init__(self, x, y):\n",
    "        Turtle.__init__(self)\n",
    "        self.shape(\"turtle\")\n",
    "        self.resizemode(\"user\")\n",
    "        self.shapesize(3,3,5)\n",
    "        self.pensize(10)\n",
    "        self._color = [0,0,0]\n",
    "        self.x = x\n",
    "        self._color[x] = y\n",
    "        self.color(self._color)\n",
    "        self.speed(0)\n",
    "        self.left(90)\n",
    "        self.pu()\n",
    "        self.goto(x,0)\n",
    "        self.pd()\n",
    "        self.sety(1)\n",
    "        self.pu()\n",
    "        self.sety(y)\n",
    "        self.pencolor(\"gray25\")\n",
    "        self.ondrag(self.shift)\n",
    "\n",
    "    def shift(self, x, y):\n",
    "        self.sety(max(0,min(y,1)))\n",
    "        self._color[self.x] = self.ycor()\n",
    "        self.fillcolor(self._color)\n",
    "        setbgcolor()\n",
    "\n",
    "def setbgcolor():\n",
    "    screen.bgcolor(red.ycor(), green.ycor(), blue.ycor())\n",
    "\n",
    "def main():\n",
    "    global screen, red, green, blue\n",
    "    screen = Screen()\n",
    "    screen.delay(0)\n",
    "    screen.setworldcoordinates(-1, -0.3, 3, 1.3)\n",
    "\n",
    "    red = ColorTurtle(0, .5)\n",
    "    green = ColorTurtle(1, .5)\n",
    "    blue = ColorTurtle(2, .5)\n",
    "    setbgcolor()\n",
    "\n",
    "    writer = Turtle()\n",
    "    writer.ht()\n",
    "    writer.pu()\n",
    "    writer.goto(1,1.15)\n",
    "    writer.write(\"DRAG!\",align=\"center\",font=(\"Arial\",30,(\"bold\",\"italic\")))\n",
    "    return \"EVENTLOOP\"\n",
    "\n",
    "if __name__ == \"__main__\":\n",
    "    msg = main()\n",
    "    print(msg)\n",
    "    mainloop()\n"
   ]
  },
  {
   "cell_type": "markdown",
   "id": "72e06570-b739-4e80-8bcf-307732124973",
   "metadata": {},
   "source": [
    "##### **ANSI escape 코드를 사용하여 콘솔에 색상이나 배경색을 변경**\n",
    "##### > \\033[48;2; : 48은 배경색을 나타내고, 2는 Truecolor (24비트 RGB)를 사용할 것임을 나타냄\n",
    "##### > m : 색상 설정을 끝내는 코드\n",
    "##### > 2;와 m 사이에 (r; g; b) 색상 값이 문자열로 들어감\n",
    "##### > \\033[0m : 이는 ANSI escape 코드로 이전 스타일을 리셋하여 다음 텍스트 출력이 정상적인 스타일로 표시되도록 함"
   ]
  },
  {
   "cell_type": "code",
   "execution_count": 11,
   "id": "769ffe19-fb64-4b56-8e79-2adc3f9f024b",
   "metadata": {
    "tags": []
   },
   "outputs": [
    {
     "name": "stdout",
     "output_type": "stream",
     "text": [
      "\u001b[48;2;0;0;0m       \u001b[0m\t0x00:00:00\n",
      "\u001b[48;2;0;0;51m       \u001b[0m\t0x00:00:33\n",
      "\u001b[48;2;0;0;102m       \u001b[0m\t0x00:00:66\n",
      "\u001b[48;2;0;0;153m       \u001b[0m\t0x00:00:99\n",
      "\u001b[48;2;0;0;204m       \u001b[0m\t0x00:00:cc\n",
      "\u001b[48;2;0;0;255m       \u001b[0m\t0x00:00:ff\n",
      "\u001b[48;2;0;51;0m       \u001b[0m\t0x00:33:00\n",
      "\u001b[48;2;0;51;51m       \u001b[0m\t0x00:33:33\n",
      "\u001b[48;2;0;51;102m       \u001b[0m\t0x00:33:66\n",
      "\u001b[48;2;0;51;153m       \u001b[0m\t0x00:33:99\n",
      "\u001b[48;2;0;51;204m       \u001b[0m\t0x00:33:cc\n",
      "\u001b[48;2;0;51;255m       \u001b[0m\t0x00:33:ff\n",
      "\u001b[48;2;0;102;0m       \u001b[0m\t0x00:66:00\n",
      "\u001b[48;2;0;102;51m       \u001b[0m\t0x00:66:33\n",
      "\u001b[48;2;0;102;102m       \u001b[0m\t0x00:66:66\n",
      "\u001b[48;2;0;102;153m       \u001b[0m\t0x00:66:99\n",
      "\u001b[48;2;0;102;204m       \u001b[0m\t0x00:66:cc\n",
      "\u001b[48;2;0;102;255m       \u001b[0m\t0x00:66:ff\n",
      "\u001b[48;2;0;153;0m       \u001b[0m\t0x00:99:00\n",
      "\u001b[48;2;0;153;51m       \u001b[0m\t0x00:99:33\n",
      "\u001b[48;2;0;153;102m       \u001b[0m\t0x00:99:66\n",
      "\u001b[48;2;0;153;153m       \u001b[0m\t0x00:99:99\n",
      "\u001b[48;2;0;153;204m       \u001b[0m\t0x00:99:cc\n",
      "\u001b[48;2;0;153;255m       \u001b[0m\t0x00:99:ff\n",
      "\u001b[48;2;0;204;0m       \u001b[0m\t0x00:cc:00\n",
      "\u001b[48;2;0;204;51m       \u001b[0m\t0x00:cc:33\n",
      "\u001b[48;2;0;204;102m       \u001b[0m\t0x00:cc:66\n",
      "\u001b[48;2;0;204;153m       \u001b[0m\t0x00:cc:99\n",
      "\u001b[48;2;0;204;204m       \u001b[0m\t0x00:cc:cc\n",
      "\u001b[48;2;0;204;255m       \u001b[0m\t0x00:cc:ff\n",
      "\u001b[48;2;0;255;0m       \u001b[0m\t0x00:ff:00\n",
      "\u001b[48;2;0;255;51m       \u001b[0m\t0x00:ff:33\n",
      "\u001b[48;2;0;255;102m       \u001b[0m\t0x00:ff:66\n",
      "\u001b[48;2;0;255;153m       \u001b[0m\t0x00:ff:99\n",
      "\u001b[48;2;0;255;204m       \u001b[0m\t0x00:ff:cc\n",
      "\u001b[48;2;0;255;255m       \u001b[0m\t0x00:ff:ff\n",
      "\u001b[48;2;51;0;0m       \u001b[0m\t0x33:00:00\n",
      "\u001b[48;2;51;0;51m       \u001b[0m\t0x33:00:33\n",
      "\u001b[48;2;51;0;102m       \u001b[0m\t0x33:00:66\n",
      "\u001b[48;2;51;0;153m       \u001b[0m\t0x33:00:99\n",
      "\u001b[48;2;51;0;204m       \u001b[0m\t0x33:00:cc\n",
      "\u001b[48;2;51;0;255m       \u001b[0m\t0x33:00:ff\n",
      "\u001b[48;2;51;51;0m       \u001b[0m\t0x33:33:00\n",
      "\u001b[48;2;51;51;51m       \u001b[0m\t0x33:33:33\n",
      "\u001b[48;2;51;51;102m       \u001b[0m\t0x33:33:66\n",
      "\u001b[48;2;51;51;153m       \u001b[0m\t0x33:33:99\n",
      "\u001b[48;2;51;51;204m       \u001b[0m\t0x33:33:cc\n",
      "\u001b[48;2;51;51;255m       \u001b[0m\t0x33:33:ff\n",
      "\u001b[48;2;51;102;0m       \u001b[0m\t0x33:66:00\n",
      "\u001b[48;2;51;102;51m       \u001b[0m\t0x33:66:33\n",
      "\u001b[48;2;51;102;102m       \u001b[0m\t0x33:66:66\n",
      "\u001b[48;2;51;102;153m       \u001b[0m\t0x33:66:99\n",
      "\u001b[48;2;51;102;204m       \u001b[0m\t0x33:66:cc\n",
      "\u001b[48;2;51;102;255m       \u001b[0m\t0x33:66:ff\n",
      "\u001b[48;2;51;153;0m       \u001b[0m\t0x33:99:00\n",
      "\u001b[48;2;51;153;51m       \u001b[0m\t0x33:99:33\n",
      "\u001b[48;2;51;153;102m       \u001b[0m\t0x33:99:66\n",
      "\u001b[48;2;51;153;153m       \u001b[0m\t0x33:99:99\n",
      "\u001b[48;2;51;153;204m       \u001b[0m\t0x33:99:cc\n",
      "\u001b[48;2;51;153;255m       \u001b[0m\t0x33:99:ff\n",
      "\u001b[48;2;51;204;0m       \u001b[0m\t0x33:cc:00\n",
      "\u001b[48;2;51;204;51m       \u001b[0m\t0x33:cc:33\n",
      "\u001b[48;2;51;204;102m       \u001b[0m\t0x33:cc:66\n",
      "\u001b[48;2;51;204;153m       \u001b[0m\t0x33:cc:99\n",
      "\u001b[48;2;51;204;204m       \u001b[0m\t0x33:cc:cc\n",
      "\u001b[48;2;51;204;255m       \u001b[0m\t0x33:cc:ff\n",
      "\u001b[48;2;51;255;0m       \u001b[0m\t0x33:ff:00\n",
      "\u001b[48;2;51;255;51m       \u001b[0m\t0x33:ff:33\n",
      "\u001b[48;2;51;255;102m       \u001b[0m\t0x33:ff:66\n",
      "\u001b[48;2;51;255;153m       \u001b[0m\t0x33:ff:99\n",
      "\u001b[48;2;51;255;204m       \u001b[0m\t0x33:ff:cc\n",
      "\u001b[48;2;51;255;255m       \u001b[0m\t0x33:ff:ff\n",
      "\u001b[48;2;102;0;0m       \u001b[0m\t0x66:00:00\n",
      "\u001b[48;2;102;0;51m       \u001b[0m\t0x66:00:33\n",
      "\u001b[48;2;102;0;102m       \u001b[0m\t0x66:00:66\n",
      "\u001b[48;2;102;0;153m       \u001b[0m\t0x66:00:99\n",
      "\u001b[48;2;102;0;204m       \u001b[0m\t0x66:00:cc\n",
      "\u001b[48;2;102;0;255m       \u001b[0m\t0x66:00:ff\n",
      "\u001b[48;2;102;51;0m       \u001b[0m\t0x66:33:00\n",
      "\u001b[48;2;102;51;51m       \u001b[0m\t0x66:33:33\n",
      "\u001b[48;2;102;51;102m       \u001b[0m\t0x66:33:66\n",
      "\u001b[48;2;102;51;153m       \u001b[0m\t0x66:33:99\n",
      "\u001b[48;2;102;51;204m       \u001b[0m\t0x66:33:cc\n",
      "\u001b[48;2;102;51;255m       \u001b[0m\t0x66:33:ff\n",
      "\u001b[48;2;102;102;0m       \u001b[0m\t0x66:66:00\n",
      "\u001b[48;2;102;102;51m       \u001b[0m\t0x66:66:33\n",
      "\u001b[48;2;102;102;102m       \u001b[0m\t0x66:66:66\n",
      "\u001b[48;2;102;102;153m       \u001b[0m\t0x66:66:99\n",
      "\u001b[48;2;102;102;204m       \u001b[0m\t0x66:66:cc\n",
      "\u001b[48;2;102;102;255m       \u001b[0m\t0x66:66:ff\n",
      "\u001b[48;2;102;153;0m       \u001b[0m\t0x66:99:00\n",
      "\u001b[48;2;102;153;51m       \u001b[0m\t0x66:99:33\n",
      "\u001b[48;2;102;153;102m       \u001b[0m\t0x66:99:66\n",
      "\u001b[48;2;102;153;153m       \u001b[0m\t0x66:99:99\n",
      "\u001b[48;2;102;153;204m       \u001b[0m\t0x66:99:cc\n",
      "\u001b[48;2;102;153;255m       \u001b[0m\t0x66:99:ff\n",
      "\u001b[48;2;102;204;0m       \u001b[0m\t0x66:cc:00\n",
      "\u001b[48;2;102;204;51m       \u001b[0m\t0x66:cc:33\n",
      "\u001b[48;2;102;204;102m       \u001b[0m\t0x66:cc:66\n",
      "\u001b[48;2;102;204;153m       \u001b[0m\t0x66:cc:99\n",
      "\u001b[48;2;102;204;204m       \u001b[0m\t0x66:cc:cc\n",
      "\u001b[48;2;102;204;255m       \u001b[0m\t0x66:cc:ff\n",
      "\u001b[48;2;102;255;0m       \u001b[0m\t0x66:ff:00\n",
      "\u001b[48;2;102;255;51m       \u001b[0m\t0x66:ff:33\n",
      "\u001b[48;2;102;255;102m       \u001b[0m\t0x66:ff:66\n",
      "\u001b[48;2;102;255;153m       \u001b[0m\t0x66:ff:99\n",
      "\u001b[48;2;102;255;204m       \u001b[0m\t0x66:ff:cc\n",
      "\u001b[48;2;102;255;255m       \u001b[0m\t0x66:ff:ff\n",
      "\u001b[48;2;153;0;0m       \u001b[0m\t0x99:00:00\n",
      "\u001b[48;2;153;0;51m       \u001b[0m\t0x99:00:33\n",
      "\u001b[48;2;153;0;102m       \u001b[0m\t0x99:00:66\n",
      "\u001b[48;2;153;0;153m       \u001b[0m\t0x99:00:99\n",
      "\u001b[48;2;153;0;204m       \u001b[0m\t0x99:00:cc\n",
      "\u001b[48;2;153;0;255m       \u001b[0m\t0x99:00:ff\n",
      "\u001b[48;2;153;51;0m       \u001b[0m\t0x99:33:00\n",
      "\u001b[48;2;153;51;51m       \u001b[0m\t0x99:33:33\n",
      "\u001b[48;2;153;51;102m       \u001b[0m\t0x99:33:66\n",
      "\u001b[48;2;153;51;153m       \u001b[0m\t0x99:33:99\n",
      "\u001b[48;2;153;51;204m       \u001b[0m\t0x99:33:cc\n",
      "\u001b[48;2;153;51;255m       \u001b[0m\t0x99:33:ff\n",
      "\u001b[48;2;153;102;0m       \u001b[0m\t0x99:66:00\n",
      "\u001b[48;2;153;102;51m       \u001b[0m\t0x99:66:33\n",
      "\u001b[48;2;153;102;102m       \u001b[0m\t0x99:66:66\n",
      "\u001b[48;2;153;102;153m       \u001b[0m\t0x99:66:99\n",
      "\u001b[48;2;153;102;204m       \u001b[0m\t0x99:66:cc\n",
      "\u001b[48;2;153;102;255m       \u001b[0m\t0x99:66:ff\n",
      "\u001b[48;2;153;153;0m       \u001b[0m\t0x99:99:00\n",
      "\u001b[48;2;153;153;51m       \u001b[0m\t0x99:99:33\n",
      "\u001b[48;2;153;153;102m       \u001b[0m\t0x99:99:66\n",
      "\u001b[48;2;153;153;153m       \u001b[0m\t0x99:99:99\n",
      "\u001b[48;2;153;153;204m       \u001b[0m\t0x99:99:cc\n",
      "\u001b[48;2;153;153;255m       \u001b[0m\t0x99:99:ff\n",
      "\u001b[48;2;153;204;0m       \u001b[0m\t0x99:cc:00\n",
      "\u001b[48;2;153;204;51m       \u001b[0m\t0x99:cc:33\n",
      "\u001b[48;2;153;204;102m       \u001b[0m\t0x99:cc:66\n",
      "\u001b[48;2;153;204;153m       \u001b[0m\t0x99:cc:99\n",
      "\u001b[48;2;153;204;204m       \u001b[0m\t0x99:cc:cc\n",
      "\u001b[48;2;153;204;255m       \u001b[0m\t0x99:cc:ff\n",
      "\u001b[48;2;153;255;0m       \u001b[0m\t0x99:ff:00\n",
      "\u001b[48;2;153;255;51m       \u001b[0m\t0x99:ff:33\n",
      "\u001b[48;2;153;255;102m       \u001b[0m\t0x99:ff:66\n",
      "\u001b[48;2;153;255;153m       \u001b[0m\t0x99:ff:99\n",
      "\u001b[48;2;153;255;204m       \u001b[0m\t0x99:ff:cc\n",
      "\u001b[48;2;153;255;255m       \u001b[0m\t0x99:ff:ff\n",
      "\u001b[48;2;204;0;0m       \u001b[0m\t0xcc:00:00\n",
      "\u001b[48;2;204;0;51m       \u001b[0m\t0xcc:00:33\n",
      "\u001b[48;2;204;0;102m       \u001b[0m\t0xcc:00:66\n",
      "\u001b[48;2;204;0;153m       \u001b[0m\t0xcc:00:99\n",
      "\u001b[48;2;204;0;204m       \u001b[0m\t0xcc:00:cc\n",
      "\u001b[48;2;204;0;255m       \u001b[0m\t0xcc:00:ff\n",
      "\u001b[48;2;204;51;0m       \u001b[0m\t0xcc:33:00\n",
      "\u001b[48;2;204;51;51m       \u001b[0m\t0xcc:33:33\n",
      "\u001b[48;2;204;51;102m       \u001b[0m\t0xcc:33:66\n",
      "\u001b[48;2;204;51;153m       \u001b[0m\t0xcc:33:99\n",
      "\u001b[48;2;204;51;204m       \u001b[0m\t0xcc:33:cc\n",
      "\u001b[48;2;204;51;255m       \u001b[0m\t0xcc:33:ff\n",
      "\u001b[48;2;204;102;0m       \u001b[0m\t0xcc:66:00\n",
      "\u001b[48;2;204;102;51m       \u001b[0m\t0xcc:66:33\n",
      "\u001b[48;2;204;102;102m       \u001b[0m\t0xcc:66:66\n",
      "\u001b[48;2;204;102;153m       \u001b[0m\t0xcc:66:99\n",
      "\u001b[48;2;204;102;204m       \u001b[0m\t0xcc:66:cc\n",
      "\u001b[48;2;204;102;255m       \u001b[0m\t0xcc:66:ff\n",
      "\u001b[48;2;204;153;0m       \u001b[0m\t0xcc:99:00\n",
      "\u001b[48;2;204;153;51m       \u001b[0m\t0xcc:99:33\n",
      "\u001b[48;2;204;153;102m       \u001b[0m\t0xcc:99:66\n",
      "\u001b[48;2;204;153;153m       \u001b[0m\t0xcc:99:99\n",
      "\u001b[48;2;204;153;204m       \u001b[0m\t0xcc:99:cc\n",
      "\u001b[48;2;204;153;255m       \u001b[0m\t0xcc:99:ff\n",
      "\u001b[48;2;204;204;0m       \u001b[0m\t0xcc:cc:00\n",
      "\u001b[48;2;204;204;51m       \u001b[0m\t0xcc:cc:33\n",
      "\u001b[48;2;204;204;102m       \u001b[0m\t0xcc:cc:66\n",
      "\u001b[48;2;204;204;153m       \u001b[0m\t0xcc:cc:99\n",
      "\u001b[48;2;204;204;204m       \u001b[0m\t0xcc:cc:cc\n",
      "\u001b[48;2;204;204;255m       \u001b[0m\t0xcc:cc:ff\n",
      "\u001b[48;2;204;255;0m       \u001b[0m\t0xcc:ff:00\n",
      "\u001b[48;2;204;255;51m       \u001b[0m\t0xcc:ff:33\n",
      "\u001b[48;2;204;255;102m       \u001b[0m\t0xcc:ff:66\n",
      "\u001b[48;2;204;255;153m       \u001b[0m\t0xcc:ff:99\n",
      "\u001b[48;2;204;255;204m       \u001b[0m\t0xcc:ff:cc\n",
      "\u001b[48;2;204;255;255m       \u001b[0m\t0xcc:ff:ff\n",
      "\u001b[48;2;255;0;0m       \u001b[0m\t0xff:00:00\n",
      "\u001b[48;2;255;0;51m       \u001b[0m\t0xff:00:33\n",
      "\u001b[48;2;255;0;102m       \u001b[0m\t0xff:00:66\n",
      "\u001b[48;2;255;0;153m       \u001b[0m\t0xff:00:99\n",
      "\u001b[48;2;255;0;204m       \u001b[0m\t0xff:00:cc\n",
      "\u001b[48;2;255;0;255m       \u001b[0m\t0xff:00:ff\n",
      "\u001b[48;2;255;51;0m       \u001b[0m\t0xff:33:00\n",
      "\u001b[48;2;255;51;51m       \u001b[0m\t0xff:33:33\n",
      "\u001b[48;2;255;51;102m       \u001b[0m\t0xff:33:66\n",
      "\u001b[48;2;255;51;153m       \u001b[0m\t0xff:33:99\n",
      "\u001b[48;2;255;51;204m       \u001b[0m\t0xff:33:cc\n",
      "\u001b[48;2;255;51;255m       \u001b[0m\t0xff:33:ff\n",
      "\u001b[48;2;255;102;0m       \u001b[0m\t0xff:66:00\n",
      "\u001b[48;2;255;102;51m       \u001b[0m\t0xff:66:33\n",
      "\u001b[48;2;255;102;102m       \u001b[0m\t0xff:66:66\n",
      "\u001b[48;2;255;102;153m       \u001b[0m\t0xff:66:99\n",
      "\u001b[48;2;255;102;204m       \u001b[0m\t0xff:66:cc\n",
      "\u001b[48;2;255;102;255m       \u001b[0m\t0xff:66:ff\n",
      "\u001b[48;2;255;153;0m       \u001b[0m\t0xff:99:00\n",
      "\u001b[48;2;255;153;51m       \u001b[0m\t0xff:99:33\n",
      "\u001b[48;2;255;153;102m       \u001b[0m\t0xff:99:66\n",
      "\u001b[48;2;255;153;153m       \u001b[0m\t0xff:99:99\n",
      "\u001b[48;2;255;153;204m       \u001b[0m\t0xff:99:cc\n",
      "\u001b[48;2;255;153;255m       \u001b[0m\t0xff:99:ff\n",
      "\u001b[48;2;255;204;0m       \u001b[0m\t0xff:cc:00\n",
      "\u001b[48;2;255;204;51m       \u001b[0m\t0xff:cc:33\n",
      "\u001b[48;2;255;204;102m       \u001b[0m\t0xff:cc:66\n",
      "\u001b[48;2;255;204;153m       \u001b[0m\t0xff:cc:99\n",
      "\u001b[48;2;255;204;204m       \u001b[0m\t0xff:cc:cc\n",
      "\u001b[48;2;255;204;255m       \u001b[0m\t0xff:cc:ff\n",
      "\u001b[48;2;255;255;0m       \u001b[0m\t0xff:ff:00\n",
      "\u001b[48;2;255;255;51m       \u001b[0m\t0xff:ff:33\n",
      "\u001b[48;2;255;255;102m       \u001b[0m\t0xff:ff:66\n",
      "\u001b[48;2;255;255;153m       \u001b[0m\t0xff:ff:99\n",
      "\u001b[48;2;255;255;204m       \u001b[0m\t0xff:ff:cc\n",
      "\u001b[48;2;255;255;255m       \u001b[0m\t0xff:ff:ff\n"
     ]
    }
   ],
   "source": [
    "## 이미지 컬러 표현: r, g, b 0~255\n",
    "step = 255 // 5\n",
    "\n",
    "for r in range(0, 256, step) :  #range(시작값, 종료값, 증분값)\n",
    "    for g in range(0, 256, step) :\n",
    "        for b in range(0, 256, step) :\n",
    "            cstr = str(r) + ';' + str(g) +';' + str(b)  #str() 문자열로 변환\n",
    "            print('\\033[48;2;' + cstr + 'm' + '       ', end='')  #배경색 변경\n",
    "            print('\\033[0m', end='')  #원상태 복귀\n",
    "            print(\"\\t0x%02x:%02x:%02x\" % (r, g, b))  #(r, g, b) 색상 코드"
   ]
  },
  {
   "cell_type": "code",
   "execution_count": null,
   "id": "d9c6be7a-39b6-406b-968d-1f56102ce815",
   "metadata": {},
   "outputs": [],
   "source": []
  },
  {
   "cell_type": "markdown",
   "id": "a29f3676-2da0-4b18-a57b-fc5c82fd2a24",
   "metadata": {},
   "source": [
    "### **02. 변수**"
   ]
  },
  {
   "cell_type": "markdown",
   "id": "cf0ad489-02cd-4c07-9df4-10d3f8934970",
   "metadata": {},
   "source": [
    "#### **[실습] 나이 비교하기**"
   ]
  },
  {
   "cell_type": "code",
   "execution_count": 23,
   "id": "aa29805e-a72a-43ab-91b7-a9a814024f85",
   "metadata": {},
   "outputs": [
    {
     "name": "stdin",
     "output_type": "stream",
     "text": [
      "<나이 입력>  23\n"
     ]
    },
    {
     "name": "stdout",
     "output_type": "stream",
     "text": [
      "아~ 23살...\n",
      "나하고 7살 차이가 나네요.\n",
      "그럼 내가 위네요.\n"
     ]
    },
    {
     "name": "stdin",
     "output_type": "stream",
     "text": [
      ">>그만 하려면 x를 입력?  \n",
      "<나이 입력>  30\n"
     ]
    },
    {
     "name": "stdout",
     "output_type": "stream",
     "text": [
      "아~ 30살...\n",
      "나하고 0살 차이가 나네요.\n",
      "그럼 동갑이네요.\n"
     ]
    },
    {
     "name": "stdin",
     "output_type": "stream",
     "text": [
      ">>그만 하려면 x를 입력?  \n",
      "<나이 입력>  31\n"
     ]
    },
    {
     "name": "stdout",
     "output_type": "stream",
     "text": [
      "아~ 31살...\n",
      "나하고 1살 차이가 나네요.\n",
      "그럼 당신이 위네요.\n"
     ]
    },
    {
     "name": "stdin",
     "output_type": "stream",
     "text": [
      ">>그만 하려면 x를 입력?  x\n"
     ]
    }
   ],
   "source": [
    "## 키보드로 나이를 입력받은 다음 누가 나이가 많은지를 출력\n",
    "while True : #무한 반복\n",
    "    age = int(input(\"<나이 입력> \"))     \n",
    "    print(\"아~ %d살...\" % age)\n",
    "    myage = 30\n",
    "    print(\"나하고 %d살 차이가 나네요.\" % abs(myage - age))\n",
    "\n",
    "    if myage > age :\n",
    "        print(\"그럼 내가 위네요.\")\n",
    "    elif myage < age :\n",
    "        print(\"그럼 당신이 위네요.\")\n",
    "    else :\n",
    "        print(\"그럼 동갑이네요.\")\n",
    "\n",
    "    yn = input(\">>그만 하려면 x를 입력? \")\n",
    "    if yn == 'x' or yn == 'X' :\n",
    "        break  #반복 탈출\n"
   ]
  },
  {
   "cell_type": "code",
   "execution_count": null,
   "id": "59410df9-dd1f-4fdb-bcdc-b7d0b38b8c07",
   "metadata": {},
   "outputs": [],
   "source": []
  },
  {
   "cell_type": "markdown",
   "id": "662fdefd-ba0b-404e-87da-ac7d937b39e2",
   "metadata": {},
   "source": [
    "##### **[실습] 두 수중에 큰 수 찾기**"
   ]
  },
  {
   "cell_type": "code",
   "execution_count": 2,
   "id": "0654eeed-292b-4c0c-8b7b-782a04221f94",
   "metadata": {
    "tags": []
   },
   "outputs": [
    {
     "name": "stdout",
     "output_type": "stream",
     "text": [
      "4\n"
     ]
    }
   ],
   "source": [
    "a = 3\n",
    "b = 4\n",
    "if a >= b:\n",
    "    print(a)\n",
    "else:\n",
    "    print(b)"
   ]
  },
  {
   "cell_type": "markdown",
   "id": "8104b09c-1201-439d-b917-e3b2b4e8b076",
   "metadata": {},
   "source": [
    "##### **[실습] 세 수중에 큰 수 찾기**"
   ]
  },
  {
   "cell_type": "code",
   "execution_count": 3,
   "id": "3ca82d5a-239a-4efa-ab8e-54e38318ea96",
   "metadata": {
    "tags": []
   },
   "outputs": [
    {
     "name": "stdout",
     "output_type": "stream",
     "text": [
      "4\n"
     ]
    }
   ],
   "source": [
    "a = 3\n",
    "b = 4\n",
    "c = 2\n",
    "if a >= b:\n",
    "    if a >= c:\n",
    "        print(a)\n",
    "    else:\n",
    "        print(c)\n",
    "elif b >= c:\n",
    "    print(b)    \n",
    "else:\n",
    "    print(c)"
   ]
  },
  {
   "cell_type": "code",
   "execution_count": 4,
   "id": "77ad1f20-93b0-414d-bece-29fbe081c6d0",
   "metadata": {
    "tags": []
   },
   "outputs": [
    {
     "name": "stdout",
     "output_type": "stream",
     "text": [
      "4\n"
     ]
    }
   ],
   "source": [
    "a = 3\n",
    "b = 4\n",
    "c = 2\n",
    "imax = a\n",
    "if b >= imax:\n",
    "    imax = b\n",
    "if c >= imax:\n",
    "    imax = c\n",
    "print(imax)"
   ]
  },
  {
   "cell_type": "code",
   "execution_count": 5,
   "id": "7e9b1836-773d-44ea-b4d2-3b2c112108c0",
   "metadata": {
    "tags": []
   },
   "outputs": [
    {
     "name": "stdout",
     "output_type": "stream",
     "text": [
      "4\n"
     ]
    }
   ],
   "source": [
    "def fmax(a, b):\n",
    "    if a >= b:\n",
    "        return a\n",
    "    else:\n",
    "        return b\n",
    "a = 3\n",
    "b = 4\n",
    "c = 2\n",
    "imax = a\n",
    "imax = fmax(imax, b)\n",
    "imax = fmax(imax, c)\n",
    "print(imax)"
   ]
  },
  {
   "cell_type": "code",
   "execution_count": 6,
   "id": "2a3a4aa9-3d8b-42cf-9b8d-850eb18433c2",
   "metadata": {
    "tags": []
   },
   "outputs": [
    {
     "name": "stdout",
     "output_type": "stream",
     "text": [
      "33\n"
     ]
    }
   ],
   "source": [
    "x = [3, 4, 2, 1, 9, 8, 33, 0, 4, 7, 6]  #list(나열)형\n",
    "imax = x[0]\n",
    "for i in range(0, len(x)-1):  #index 사용 접근. range(시작값, 종료값, 증분값)\n",
    "    if imax < x[i+1]:\n",
    "        imax = x[i+1]\n",
    "print(imax)"
   ]
  },
  {
   "cell_type": "code",
   "execution_count": 7,
   "id": "7d7e417f-7308-4b52-8e2f-de9c51d0e9fd",
   "metadata": {
    "tags": []
   },
   "outputs": [
    {
     "name": "stdout",
     "output_type": "stream",
     "text": [
      "33\n"
     ]
    }
   ],
   "source": [
    "x = [3, 4, 2, 1, 9, 8, 33, 0, 4, 7, 6]  #list형\n",
    "imax = x[0]\n",
    "for y in x:   #항목 값 사용 접근 \n",
    "    if imax < y:\n",
    "        imax = y\n",
    "print(imax)"
   ]
  },
  {
   "cell_type": "code",
   "execution_count": null,
   "id": "0e4c040a-7e74-4fa6-848f-dceed928c913",
   "metadata": {},
   "outputs": [],
   "source": []
  }
 ],
 "metadata": {
  "kernelspec": {
   "display_name": "Python 3 (ipykernel)",
   "language": "python",
   "name": "python3"
  },
  "language_info": {
   "codemirror_mode": {
    "name": "ipython",
    "version": 3
   },
   "file_extension": ".py",
   "mimetype": "text/x-python",
   "name": "python",
   "nbconvert_exporter": "python",
   "pygments_lexer": "ipython3",
   "version": "3.11.4"
  }
 },
 "nbformat": 4,
 "nbformat_minor": 5
}
