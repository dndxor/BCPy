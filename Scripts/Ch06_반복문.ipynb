{
 "cells": [
  {
   "cell_type": "markdown",
   "id": "1fda9430-1698-4e46-8ed3-b39527454d38",
   "metadata": {},
   "source": [
    "----\n",
    "## **Ch06 반복문**\n",
    "----"
   ]
  },
  {
   "cell_type": "markdown",
   "id": "7ab0c77f-35d2-4e54-ac3b-2baa627cfb40",
   "metadata": {},
   "source": [
    "##### **반복문**은 반복 제어문 안의 명령들을 조건에 맞는동안 반복수행을 하다 반복을 종료하는 구문\n",
    "##### **반복문의 종류**\n",
    "##### > while ~ : 반복 조건이 참(True)인 동안에 반복 유지\n",
    "##### > for ~ : 지정한 반복 규칙에 따라 반복 제공, 순차적인 index 또는 리스트, 튜플, 문자열의 항목을 순차적으로 제공"
   ]
  },
  {
   "cell_type": "code",
   "execution_count": 6,
   "id": "7a71ace6-d01f-4497-b154-cd5754302c6d",
   "metadata": {},
   "outputs": [
    {
     "name": "stdout",
     "output_type": "stream",
     "text": [
      "0\n",
      "1\n",
      "2\n",
      "3\n",
      "4\n",
      ">최종 i값은 5\n"
     ]
    }
   ],
   "source": [
    "## while 반복문: 5번 반복\n",
    "i = 0          #반복 변수 초기화\n",
    "while i < 5:   #반복 조건 판단\n",
    "    print(i)   #반복 처리 문장\n",
    "    i += 1     #반복 변수 값 증감\n",
    "print(\">최종 i값은 %d\" %(i))"
   ]
  },
  {
   "cell_type": "code",
   "execution_count": 7,
   "id": "b8de322a-4358-48bb-9d51-94717074813a",
   "metadata": {},
   "outputs": [
    {
     "name": "stdout",
     "output_type": "stream",
     "text": [
      "0\n",
      "1\n",
      "2\n",
      "3\n",
      "4\n",
      ">최종 i값은 4\n"
     ]
    }
   ],
   "source": [
    "## for 반복문\n",
    "for i in range(0, 5, 1):   #반복 조건 판단, 반복 변수 값 증감: range(시작값, 종료값, 증분값)\n",
    "    print(i)   #반복 처리 문장\n",
    "print(\">최종 i값은 %d\" %(i))"
   ]
  },
  {
   "cell_type": "code",
   "execution_count": 64,
   "id": "3d49511d-8be7-468a-97f8-fa00da63f190",
   "metadata": {},
   "outputs": [
    {
     "name": "stdout",
     "output_type": "stream",
     "text": [
      "H\n",
      "e\n",
      "l\n",
      "l\n",
      "o\n",
      " \n",
      "W\n",
      "o\n",
      "r\n",
      "l\n",
      "d\n",
      "!\n"
     ]
    }
   ],
   "source": [
    "## for 반복문\n",
    "str = \"Hello World!\"\n",
    "for x in str:  #반복적으로 항목 값 제공\n",
    "    print(x)   #반복 처리 문장"
   ]
  },
  {
   "cell_type": "code",
   "execution_count": 65,
   "id": "48cedde9-1673-493d-9d99-2d41a053b9da",
   "metadata": {},
   "outputs": [
    {
     "name": "stdout",
     "output_type": "stream",
     "text": [
      "89\n",
      "77\n",
      "88\n",
      "99\n",
      "67\n"
     ]
    }
   ],
   "source": [
    "## for 반복문\n",
    "alist = [89, 77, 88, 99, 67]  #list 자료형\n",
    "for x in alist:   #나열된 항목 값들을 순차적으로 인출하여 x에 제공\n",
    "    print(x)   #반복 처리 문장"
   ]
  },
  {
   "cell_type": "code",
   "execution_count": null,
   "id": "9d3801c9-8b71-451e-b94f-59c3ebc60739",
   "metadata": {},
   "outputs": [],
   "source": []
  },
  {
   "cell_type": "markdown",
   "id": "01a174d6-c463-49a8-a842-d986d743f30d",
   "metadata": {},
   "source": [
    "#### **while 반복문**\n",
    "##### **반복문의 구성**\n",
    "###### > **반복 변수 초기화**\n",
    "###### > **반복 조건 판단**: 반복 계속 또는 반복 탈출 결정\n",
    "###### > **반복 변수 값 증감**"
   ]
  },
  {
   "cell_type": "markdown",
   "id": "c3e96cf5-4de3-4df8-9415-a26d6e705c47",
   "metadata": {},
   "source": [
    "##### **반복문 내에서의 반복 탈출 : break**"
   ]
  },
  {
   "cell_type": "code",
   "execution_count": 8,
   "id": "a9a2f573-eb1c-4f33-97da-f0dceb1e435f",
   "metadata": {
    "tags": []
   },
   "outputs": [
    {
     "name": "stdout",
     "output_type": "stream",
     "text": [
      "1 2 3 4 5 6 7 8 9 10 11 12 13 14 15 16 17 18 19 20 21 22 23 24 25 26 27 28 "
     ]
    },
    {
     "ename": "KeyboardInterrupt",
     "evalue": "",
     "output_type": "error",
     "traceback": [
      "\u001b[1;31m---------------------------------------------------------------------------\u001b[0m",
      "\u001b[1;31mKeyboardInterrupt\u001b[0m                         Traceback (most recent call last)",
      "\u001b[1;32m~\\AppData\\Local\\Temp\\ipykernel_12212\\2601828592.py\u001b[0m in \u001b[0;36m<module>\u001b[1;34m\u001b[0m\n\u001b[0;32m      6\u001b[0m     \u001b[0mprint\u001b[0m\u001b[1;33m(\u001b[0m\u001b[0mx\u001b[0m\u001b[1;33m,\u001b[0m \u001b[0mend\u001b[0m \u001b[1;33m=\u001b[0m \u001b[1;34m' '\u001b[0m\u001b[1;33m)\u001b[0m     \u001b[1;31m# 한 줄로 나란히 출력\u001b[0m\u001b[1;33m\u001b[0m\u001b[1;33m\u001b[0m\u001b[0m\n\u001b[0;32m      7\u001b[0m     \u001b[0mx\u001b[0m \u001b[1;33m+=\u001b[0m \u001b[1;36m1\u001b[0m                  \u001b[1;31m# x의 값을 하나 증가\u001b[0m\u001b[1;33m\u001b[0m\u001b[1;33m\u001b[0m\u001b[0m\n\u001b[1;32m----> 8\u001b[1;33m     \u001b[0mtime\u001b[0m\u001b[1;33m.\u001b[0m\u001b[0msleep\u001b[0m\u001b[1;33m(\u001b[0m\u001b[1;36m1\u001b[0m\u001b[1;33m)\u001b[0m  \u001b[1;31m#1초 지연\u001b[0m\u001b[1;33m\u001b[0m\u001b[1;33m\u001b[0m\u001b[0m\n\u001b[0m",
      "\u001b[1;31mKeyboardInterrupt\u001b[0m: "
     ]
    }
   ],
   "source": [
    "## while 반복문: 무한 반복\n",
    "import time\n",
    "x = 1\n",
    "\n",
    "while True :  ##무한 반복\n",
    "    print(x, end = ' ')     # 한 줄로 나란히 출력\n",
    "    x += 1                  # x의 값을 하나 증가\n",
    "    time.sleep(1)  #1초 지연"
   ]
  },
  {
   "cell_type": "code",
   "execution_count": 11,
   "id": "5c195485-a870-408b-836c-fdf7b2e46cb1",
   "metadata": {},
   "outputs": [
    {
     "name": "stdout",
     "output_type": "stream",
     "text": [
      "1 2 3 4 "
     ]
    }
   ],
   "source": [
    "## while 반복문: 반복 탈출 break\n",
    "i = 1          #반복 변수 초기화\n",
    "while True:    #반복 조건 판단: True는 무한 반복\n",
    "    if i >= 5: #[탈출 조건 판단]\n",
    "        break  #반복 털출\n",
    "    print(i, end=' ') \n",
    "    i += 1     #반복 변수 값 증감"
   ]
  },
  {
   "cell_type": "code",
   "execution_count": 13,
   "id": "112825c0-2539-4e99-b2fe-ec45cccf9668",
   "metadata": {},
   "outputs": [
    {
     "name": "stdout",
     "output_type": "stream",
     "text": [
      "1 2 3 4 "
     ]
    }
   ],
   "source": [
    "## while 반복문: 반복 탈출을 반복 조건(진입) 판단으로 전환\n",
    "i = 1          #반복 변수 초기화\n",
    "while i < 5:    #반복 조건 판단\n",
    "    print(i, end=' ')   \n",
    "    i += 1     #반복 변수 값 증감"
   ]
  },
  {
   "cell_type": "code",
   "execution_count": 14,
   "id": "889c028f-096f-48a5-8c96-68a229a8ac6d",
   "metadata": {},
   "outputs": [
    {
     "name": "stdout",
     "output_type": "stream",
     "text": [
      "1 2 * 4 "
     ]
    }
   ],
   "source": [
    "## while 반복문: 반복 계속 continue\n",
    "i = 1          #반복 변수 초기화\n",
    "while i < 5:    #반복 조건 판단\n",
    "    if i % 3 == 0:\n",
    "        print(\"*\", end=' ')\n",
    "        i += 1     #반복 변수 값 증감\n",
    "        continue  #반복 다시 시작\n",
    "    print(i, end=' ')   \n",
    "    i += 1     #반복 변수 값 증감"
   ]
  },
  {
   "cell_type": "markdown",
   "id": "cb7d54a8-8a46-45b5-9d8a-7bdd4ce709fa",
   "metadata": {},
   "source": [
    "#### **[연습] 메뉴 주문**\n",
    "##### 메뉴를 선택하고 수량을 입력하면 계산한 금액 합계를 출력 하는 프로그램 작성\n",
    "###### > 주문을 끝내려면 메뉴를 ‘0’으로 입력\n",
    "###### > 메뉴를 잘못 선택(선택범위 초과)하면 프로그램을 종료하지 말고 다시 입력 받음\n",
    "###### > 최종 주문 금액을 출력"
   ]
  },
  {
   "cell_type": "code",
   "execution_count": 12,
   "id": "7f01caa6-7b23-47c6-bd37-dbb1b2b4f08a",
   "metadata": {},
   "outputs": [
    {
     "name": "stdout",
     "output_type": "stream",
     "text": [
      "******************************\n",
      "[1]팝콘 [2]나쵸 [3]핫도그 [4]음료\n",
      ">주문을 끝내려면 [0]을 입력하세요.\n",
      "------------------------------\n"
     ]
    },
    {
     "name": "stdin",
     "output_type": "stream",
     "text": [
      "선택 메뉴 :  1\n",
      ">주문 수량 :  1\n"
     ]
    },
    {
     "name": "stdout",
     "output_type": "stream",
     "text": [
      "\n"
     ]
    },
    {
     "name": "stdin",
     "output_type": "stream",
     "text": [
      "선택 메뉴 :  3\n",
      ">주문 수량 :  2\n"
     ]
    },
    {
     "name": "stdout",
     "output_type": "stream",
     "text": [
      "\n"
     ]
    },
    {
     "name": "stdin",
     "output_type": "stream",
     "text": [
      "선택 메뉴 :  0\n"
     ]
    },
    {
     "name": "stdout",
     "output_type": "stream",
     "text": [
      "------------------------------\n",
      ">>금액 합계는 12000 원입니다.\n"
     ]
    }
   ],
   "source": [
    "## while 반복문\n",
    "menu = 0   # 선택 메뉴\n",
    "number = 0 # 주문 수량\n",
    "price = 0  # 상품 단가  \n",
    "total = 0  # 금액 합계\n",
    "\n",
    "print(\"*\"*30) # 메뉴 출력\n",
    "print(\"[1]팝콘 [2]나쵸 [3]핫도그 [4]음료\")\n",
    "print(\">주문을 끝내려면 [0]을 입력하세요.\")\n",
    "print(\"-\"*30)\n",
    "\n",
    "while True:\n",
    "    menu = int(input(\"선택 메뉴 : \"))\n",
    "    if menu == 0:\n",
    "        break\n",
    "    if menu < 1 or menu > 4:\n",
    "        print(\">메뉴 선택 오류...다시 선택하세요.\\n\")\n",
    "        continue\n",
    "    \n",
    "    if menu == 1: price = 5000\t\t# 조건식과 명령문을 한 줄에 적기 \n",
    "    elif menu == 2: price = 4000\n",
    "    elif menu == 3: price = 3500\n",
    "    else: price = 2000\n",
    "        \n",
    "    number = int(input(\">주문 수량 : \"))\n",
    "    total = total + (number * price)\n",
    "    print()     # 다른 메뉴를 선택하기 전에 빈 줄 추가\n",
    "    \n",
    "print(\"-\"*30)\n",
    "print(\">>금액 합계는\", total, \"원입니다.\")"
   ]
  },
  {
   "cell_type": "code",
   "execution_count": null,
   "id": "16419233-890d-493b-affb-f9cf45940206",
   "metadata": {},
   "outputs": [],
   "source": [
    "## [실습] 랜덤 숫자 맞추기 코드 업그레이드: while 반복문 사용\n",
    "import random as r\n",
    "\n",
    "rnum = r.randint(1, 20)  # 1에서 20 사이의 랜덤 정수 저장\n",
    "print(\">>1~20 중에 하나의 난수를 발생했습니다.\")\n",
    "innum = 0  ## innum이 반복 변수 역할, [반복 변수 초기화]\n",
    "\n",
    "while True:\n",
    "    innum = int(input(\">숫자 입력(1~20) : \"))  ## innum이 반복 변수 역할, [반복 변수 증감]\n",
    "    if innum > rnum:\n",
    "        print(\">>Down\")\n",
    "    elif innum < rnum:\n",
    "        print(\">>Up\")\n",
    "    else:\n",
    "        print(\">>OK!\")\n",
    "        break  #[반복 탈출]"
   ]
  },
  {
   "cell_type": "markdown",
   "id": "697292a2-2116-4ed2-ac37-362ac5fc00d5",
   "metadata": {},
   "source": [
    "#### **[실습] 랜덤 숫자 맞추기 코드 업그레이드** (while 반복문 사용)\n",
    "##### > 매 반복 횟 수마다 진행 횟수(반복 횟수)를 출력\n",
    "##### > 5회 내에 맞추면 “당신이 이겼습니다.”를 그 외는 “당신이 졌습니다.＂를 출력\n",
    "##### > 게임을 마치고, 다음 게임을 더 할지 선택"
   ]
  },
  {
   "cell_type": "code",
   "execution_count": 13,
   "id": "bd213f62-396e-409f-85e7-20eb8160aa36",
   "metadata": {},
   "outputs": [
    {
     "name": "stdout",
     "output_type": "stream",
     "text": [
      ">>1~20 중에 하나의 난수를 발생했습니다.\n"
     ]
    },
    {
     "name": "stdin",
     "output_type": "stream",
     "text": [
      ">숫자 입력(1~20) :  10\n"
     ]
    },
    {
     "name": "stdout",
     "output_type": "stream",
     "text": [
      "[01] >>Up\n"
     ]
    },
    {
     "name": "stdin",
     "output_type": "stream",
     "text": [
      ">숫자 입력(1~20) :  15\n"
     ]
    },
    {
     "name": "stdout",
     "output_type": "stream",
     "text": [
      "[02] >>Up\n"
     ]
    },
    {
     "name": "stdin",
     "output_type": "stream",
     "text": [
      ">숫자 입력(1~20) :  18\n"
     ]
    },
    {
     "name": "stdout",
     "output_type": "stream",
     "text": [
      "[03] >>Up\n"
     ]
    },
    {
     "name": "stdin",
     "output_type": "stream",
     "text": [
      ">숫자 입력(1~20) :  20\n"
     ]
    },
    {
     "name": "stdout",
     "output_type": "stream",
     "text": [
      "[04] >>Down\n"
     ]
    },
    {
     "name": "stdin",
     "output_type": "stream",
     "text": [
      ">숫자 입력(1~20) :  19\n"
     ]
    },
    {
     "name": "stdout",
     "output_type": "stream",
     "text": [
      "[05] >>OK!\n",
      ">>당신이 이겼습니다.\n"
     ]
    },
    {
     "name": "stdin",
     "output_type": "stream",
     "text": [
      ">>다시 할까요(y/n)? :  \n"
     ]
    }
   ],
   "source": [
    "## [실습] 랜덤 숫자 맞추기 코드 업그레이드: while 반복문 사용\n",
    "import random as r\n",
    "\n",
    "\n",
    "\n"
   ]
  },
  {
   "cell_type": "markdown",
   "id": "164f1e32-9839-4c92-8ecd-cdfae9706a72",
   "metadata": {},
   "source": [
    "#### **[실습] 두 값 범위에 있는 모든 정수 더하기**: while 반복문 사용\n",
    "##### > while 반복문을 사용하여 해결\n",
    "##### > 시작 수와 종료 수가 뒤바뀌어 입력되어도 동일한 결과가 나오도록 하시오."
   ]
  },
  {
   "cell_type": "code",
   "execution_count": 24,
   "id": "4e7eb5ea-2cb8-4d90-8c67-088b2332da03",
   "metadata": {},
   "outputs": [
    {
     "name": "stdin",
     "output_type": "stream",
     "text": [
      ">시작 숫자(정수) 입력 :  1\n",
      ">끝 숫자(정수) 입력 :  10\n"
     ]
    },
    {
     "name": "stdout",
     "output_type": "stream",
     "text": [
      ">>1에서 10까지의 합은 : 55\n"
     ]
    }
   ],
   "source": [
    "## 실습] 두 값 범위에 있는 모든 정수 더하기\n",
    "in1 = int(input(\">시작 숫자(정수) 입력 : \"))\n",
    "in2 = int(input(\">끝 숫자(정수) 입력 : \"))\n",
    "\n",
    "\n",
    "\n",
    "print(\">>%d에서 %d까지의 합은 : %d\" %(in1, in2, sum))"
   ]
  },
  {
   "cell_type": "code",
   "execution_count": null,
   "id": "1f64449b-ae7b-47bc-8ffe-806000c9d30f",
   "metadata": {},
   "outputs": [],
   "source": []
  },
  {
   "cell_type": "markdown",
   "id": "1f2d569b-3372-4421-90c5-6dfb08c02df2",
   "metadata": {},
   "source": [
    "#### **for 반복문**\n",
    "##### **반복문의 구성**\n",
    "###### > **반복 변수 초기화**\n",
    "###### > **반복 조건 판단**\n",
    "###### > **반복 변수 값 증감**"
   ]
  },
  {
   "cell_type": "code",
   "execution_count": 7,
   "id": "36b95500-4a93-4ac1-9a7b-241c328b384f",
   "metadata": {},
   "outputs": [
    {
     "name": "stdout",
     "output_type": "stream",
     "text": [
      "1\n",
      "2\n",
      "3\n",
      "4\n",
      ">최종 i값은 5\n"
     ]
    }
   ],
   "source": [
    "## while 반복문\n",
    "i = 1          #반복 변수 초기화\n",
    "while i < 5:   #반복 조건 판단\n",
    "    print(i)   #반복 처리 문장\n",
    "    i += 1     #반복 변수 값 증감\n",
    "print(\">최종 i값은 %d\" %(i))"
   ]
  },
  {
   "cell_type": "markdown",
   "id": "76f49ac9-a5bd-4fb5-a239-904afde31d25",
   "metadata": {},
   "source": [
    "##### **range() : 반복 제어**\n",
    "##### for i in range([시작값], 종료값, [증분값]):\n",
    "###### > default 시작값은 0, 증분값은 1"
   ]
  },
  {
   "cell_type": "code",
   "execution_count": 10,
   "id": "5eccb9ad-c0e4-41c1-8feb-62c4665abf18",
   "metadata": {},
   "outputs": [
    {
     "name": "stdout",
     "output_type": "stream",
     "text": [
      "1\n",
      "2\n",
      "3\n",
      "4\n",
      ">최종 i값은 4\n"
     ]
    }
   ],
   "source": [
    "## for 반복문\n",
    "for i in range(1, 5, 1):   #반복 조건 판단, 반복 변수 값 증감: range(시작값, 종료값, 증분값)\n",
    "    print(i)   #반복 처리 문장\n",
    "print(\">최종 i값은 %d\" %(i))"
   ]
  },
  {
   "cell_type": "code",
   "execution_count": 15,
   "id": "199a672a-5056-4fda-98ac-1f393db2c01a",
   "metadata": {},
   "outputs": [
    {
     "name": "stdout",
     "output_type": "stream",
     "text": [
      "0\n",
      "1\n",
      "2\n",
      "3\n",
      "4\n"
     ]
    }
   ],
   "source": [
    "## for 반복문\n",
    "for i in range(5):   #range(종료값), default 시작값은 0, 증분은 1\n",
    "    print(i)   #반복 처리 문장"
   ]
  },
  {
   "cell_type": "code",
   "execution_count": 17,
   "id": "0c8ddca2-61f9-46a9-ab67-22fb16bcb16c",
   "metadata": {},
   "outputs": [
    {
     "name": "stdout",
     "output_type": "stream",
     "text": [
      "1\n",
      "2\n",
      "3\n",
      "4\n"
     ]
    }
   ],
   "source": [
    "## for 반복문\n",
    "for i in range(1, 5):   #range(종료값), default 시작값은 0, 증분은 1\n",
    "    print(i)   #반복 처리 문장"
   ]
  },
  {
   "cell_type": "code",
   "execution_count": 16,
   "id": "1462bb68-4d73-47d0-b5c2-5e19121c1319",
   "metadata": {},
   "outputs": [
    {
     "name": "stdout",
     "output_type": "stream",
     "text": [
      "5\n",
      "4\n",
      "3\n",
      "2\n",
      "1\n"
     ]
    }
   ],
   "source": [
    "## for 반복문\n",
    "for i in range(5, 0, -1):   #반복 조건 판단, 반복 변수 값 증감: range(시작값, 종료값, 증분값)\n",
    "    print(i)   #반복 처리 문장"
   ]
  },
  {
   "cell_type": "markdown",
   "id": "81f9351c-e051-43d1-96c5-47bf486925fd",
   "metadata": {},
   "source": [
    "##### **[연습] 반복 결과 예측**\n",
    "###### 아래 반복문의 i 값을 예측하여보자.\n",
    "######  for i in range(5) :\n",
    "######  for i in range(0, 5, 1) :\n",
    "######  for i in range(1, 5+1, 1) :\n",
    "######  for i in range(6, 1-1, -1) :"
   ]
  },
  {
   "cell_type": "code",
   "execution_count": 22,
   "id": "44a2d62f-e555-4459-b034-fee2e11fc3ce",
   "metadata": {},
   "outputs": [
    {
     "name": "stdout",
     "output_type": "stream",
     "text": [
      "0 1 2 3 4 \n",
      "0 1 2 3 4 \n",
      "1 2 3 4 5 \n",
      "6 5 4 3 2 1 "
     ]
    }
   ],
   "source": [
    "## [연습] 반복 결과 예측아래 반복문의 i 값을 예측하여보자.\n",
    "for i in range(5):\n",
    "    print(i, end=' ')\n",
    "print()\n",
    "for i in range(0, 5, 1):\n",
    "    print(i, end=' ')\n",
    "print()\n",
    "for i in range(1, 5+1, 1):\n",
    "    print(i, end=' ')\n",
    "print()\n",
    "for i in range(6, 1-1, -1):\n",
    "    print(i, end=' ')\n"
   ]
  },
  {
   "cell_type": "markdown",
   "id": "f088d9f8-a9dd-4040-b92e-9a11dd23d684",
   "metadata": {},
   "source": [
    "#### **[실습] 두 값 범위에 있는 모든 정수 더하기 : for 반복문 사용**\n",
    "##### > for 반복문을 사용하여 해결\n",
    "##### > 시작 수와 종료 수가 뒤바뀌어 입력되어도 동일한 결과가 나오도록 하시오."
   ]
  },
  {
   "cell_type": "code",
   "execution_count": 25,
   "id": "083e5756-f9e4-482b-a570-8b48039385ba",
   "metadata": {},
   "outputs": [
    {
     "name": "stdin",
     "output_type": "stream",
     "text": [
      ">시작 숫자(정수) 입력 :  1\n",
      ">끝 숫자(정수) 입력 :  10\n"
     ]
    },
    {
     "name": "stdout",
     "output_type": "stream",
     "text": [
      ">>1에서 10까지의 합은 : 55\n"
     ]
    }
   ],
   "source": [
    "## 실습] 두 값 범위에 있는 모든 정수 더하기\n",
    "in1 = int(input(\">시작 숫자(정수) 입력 : \"))\n",
    "in2 = int(input(\">끝 숫자(정수) 입력 : \"))\n",
    "\n",
    "\n",
    "\n",
    "print(\">>%d에서 %d까지의 합은 : %d\" %(in1, in2, sum))"
   ]
  },
  {
   "cell_type": "code",
   "execution_count": null,
   "id": "fce2ff21-dcde-4285-8e63-6e11c142a34e",
   "metadata": {},
   "outputs": [],
   "source": []
  },
  {
   "cell_type": "markdown",
   "id": "b449bbd5-5451-4846-882c-a21361078c85",
   "metadata": {},
   "source": [
    "#### **[과제] 토끼와 거북이 경주**\n",
    "##### 토끼와 거북이가 달리기 시합을 한다. 토끼는 1분에 45m를 달리고, 거북이는 1분에 11m를 달린다.\n",
    "##### > 거북이와 토끼의 출발 위치 값(m)는 키보드로 각각 입력받는다.\n",
    "##### > 토끼는 몇 분 후에 거북이를 앞설 수 있을까?\n",
    "##### > 또 그 때까지 토끼가 달린 거리는?\n",
    "##### > 단, 누가 앞서고 있는가는 1분마다 확인한다고 가정한다."
   ]
  },
  {
   "cell_type": "code",
   "execution_count": 26,
   "id": "bf8dc5ec-1048-4d64-8e1f-187a10a88647",
   "metadata": {},
   "outputs": [
    {
     "name": "stdin",
     "output_type": "stream",
     "text": [
      "거북이 위치(m) 입력 :  100\n",
      "또끼 위치(m) 입력 :  0\n"
     ]
    },
    {
     "name": "stdout",
     "output_type": "stream",
     "text": [
      ">1분 r: 45m, t: 111m\n",
      ">2분 r: 90m, t: 122m\n",
      ">3분 r: 135m, t: 133m\n",
      "------------------------------------------------------------\n",
      ">3분 후에 133m에 거북이, 135m에 토끼가 있음\n"
     ]
    }
   ],
   "source": [
    "## [과제] 토끼와 거북이 경주\n",
    "min = 0\n",
    "\n",
    "p_ttl = int(input(\"거북이 위치(m) 입력 : \"))\n",
    "p_rbt = int(input(\"또끼 위치(m) 입력 : \"))\n",
    "\n",
    "\n",
    "\n",
    "print(\"%s\" %('-'*60))\n",
    "print(\">%d분 후에 %dm에 거북이, %dm에 토끼가 있음\" %(min, p_ttl, p_rbt))"
   ]
  },
  {
   "cell_type": "code",
   "execution_count": null,
   "id": "8c37ff78-91e5-4217-aa09-03b1f315aab8",
   "metadata": {},
   "outputs": [],
   "source": []
  },
  {
   "cell_type": "markdown",
   "id": "3ce527e9-bc28-401e-90e3-adda27704d2a",
   "metadata": {},
   "source": [
    "#### **[과제] 달팽이 우물에서 탈출하기**\n",
    "##### 우물에 빠진 달팽이가 우물 밖으로 빠져나오는데 걸리는 기간 출력\n",
    "##### > 낮 동안에 55cm를 올라가고, 밤에는 13cm를 미끄러지게 된다.\n",
    "##### > 달팽이가 빠져있는 우물의 깊이(cm)는 키보드로 입력 받음.\n",
    "##### > “>%d일 만에 탈출 성공”로 출력 "
   ]
  },
  {
   "cell_type": "code",
   "execution_count": 28,
   "id": "3c41a4ef-f2d8-4c58-8c04-9aed15e87458",
   "metadata": {},
   "outputs": [
    {
     "name": "stdin",
     "output_type": "stream",
     "text": [
      ">우물 깊이 값 입력(cm, 양수)?  500\n"
     ]
    },
    {
     "name": "stdout",
     "output_type": "stream",
     "text": [
      " 1일째:  -445cm   >  -458cm\n",
      " 2일째:  -403cm   >  -416cm\n",
      " 3일째:  -361cm   >  -374cm\n",
      " 4일째:  -319cm   >  -332cm\n",
      " 5일째:  -277cm   >  -290cm\n",
      " 6일째:  -235cm   >  -248cm\n",
      " 7일째:  -193cm   >  -206cm\n",
      " 8일째:  -151cm   >  -164cm\n",
      " 9일째:  -109cm   >  -122cm\n",
      "10일째:   -67cm   >   -80cm\n",
      "11일째:   -25cm   >   -38cm\n",
      "12일째:    17cm  \n",
      ">>12일만에 탈출 성공\n"
     ]
    }
   ],
   "source": [
    "## [과제] 달팽이 우물에서 탈출하기\n",
    "heigh = 0       #우물 밖 목표 위치(cm)\n",
    "p_dal = int(input(\">우물 깊이 값 입력(cm, 양수)? \"))    #우물 안 달팽이 위치(cm)\n",
    "\n",
    "\n",
    "\n",
    "\n",
    "print(\"\\n>>%d일만에 탈출 성공\" %days)"
   ]
  },
  {
   "cell_type": "markdown",
   "id": "e89990b3-e76d-48f3-8cfe-f1389c28b8e1",
   "metadata": {},
   "source": [
    "#### **문자열 자료에 for 반복문 사용**\n",
    "##### > 문자열은 문들의 연속된 저장 형태\n",
    "##### > 문자열의 각 문자들은 index 값으로 접근 가능"
   ]
  },
  {
   "cell_type": "code",
   "execution_count": 71,
   "id": "87d2890a-1efa-436f-8237-95067a2371c8",
   "metadata": {},
   "outputs": [
    {
     "name": "stdout",
     "output_type": "stream",
     "text": [
      "H e l l o   W o r l d ! "
     ]
    }
   ],
   "source": [
    "## 문자열 자료에 for 반복문 사용: 각 문자에 직접 접근\n",
    "str = \"Hello World!\"\n",
    "for x in str:  #반복적으로 항목 값 제공\n",
    "    print(x, end=' ')   #반복 처리 문장"
   ]
  },
  {
   "cell_type": "code",
   "execution_count": 73,
   "id": "4dbd7109-b8fd-4213-b539-a517f200110f",
   "metadata": {},
   "outputs": [
    {
     "name": "stdout",
     "output_type": "stream",
     "text": [
      "H e l l o   W o r l d ! "
     ]
    }
   ],
   "source": [
    "## 문자열 자료에 for 반복문 사용: 각 문자에 index 값을 사용하여 접근\n",
    "str = \"Hello World!\"\n",
    "for i in range(len(str)):  #반복적으로 항목 값 제공\n",
    "    print(str[i], end=' ')   #반복 처리 문장"
   ]
  },
  {
   "cell_type": "code",
   "execution_count": null,
   "id": "df5f3cce-f5e7-47a3-a4ec-eeebcb68b1ff",
   "metadata": {},
   "outputs": [],
   "source": []
  },
  {
   "cell_type": "markdown",
   "id": "cb319683-e88d-4fed-9793-8dd4ec8b41b5",
   "metadata": {},
   "source": [
    "#### **for 문의 중첩 사용**\n",
    "##### [연습] for 반복문으로 '*'탑 쌓기"
   ]
  },
  {
   "cell_type": "code",
   "execution_count": 30,
   "id": "ac44697d-8ec7-4f87-a2b9-4f21be4325bd",
   "metadata": {},
   "outputs": [
    {
     "name": "stdout",
     "output_type": "stream",
     "text": [
      "*\n",
      "**\n",
      "***\n",
      "****\n",
      "*****\n"
     ]
    }
   ],
   "source": [
    "## [연습] for 반복문으로 '*'탑 쌓기: 행 제어 우선 지정, 열 제어 맞추기\n",
    "for i in range(1, 5+1, 1):      #행 제어\n",
    "    for j in range(1, i+1, 1):  #열 제어: 찍을 개수\n",
    "        print('*', end='')\n",
    "    print()"
   ]
  },
  {
   "cell_type": "markdown",
   "id": "20597fc3-ca85-4698-95cc-296ee57b0832",
   "metadata": {},
   "source": [
    "##### [연습] for 반복문으로 역 '*'탑 쌓기"
   ]
  },
  {
   "cell_type": "code",
   "execution_count": 22,
   "id": "1658c45e-a9d6-415b-8032-0297d631a481",
   "metadata": {},
   "outputs": [
    {
     "name": "stdout",
     "output_type": "stream",
     "text": [
      "*****\n",
      "****\n",
      "***\n",
      "**\n",
      "*\n"
     ]
    }
   ],
   "source": [
    "## [연습] for 반복문으로 '*'탑 쌓기: 행 제어 우선 지정, 열 제어 맞추기\n",
    "for i in range(1, 5+1, 1):     #행 제어: 행 번호 기준\n",
    "    for j in range(5, i-1, -1):  #열 제어: 행 기준 종료점 환산\n",
    "        print('*', end='')\n",
    "    print()"
   ]
  },
  {
   "cell_type": "code",
   "execution_count": 21,
   "id": "c8988161-fbbc-4fc4-939b-692d1e369c14",
   "metadata": {},
   "outputs": [
    {
     "name": "stdout",
     "output_type": "stream",
     "text": [
      "*****\n",
      "****\n",
      "***\n",
      "**\n",
      "*\n"
     ]
    }
   ],
   "source": [
    "## [연습] for 반복문으로 '*'탑 쌓기: 행 제어 우선 지정, 열 제어 맞추기\n",
    "for i in range(1, 5+1, 1):         #행 제어: 행 번호 기준\n",
    "    for j in range(6-i, 0, -1):    #열 제어: 행 기준 시작점 환산\n",
    "        print('*', end='')\n",
    "    print()"
   ]
  },
  {
   "cell_type": "code",
   "execution_count": 23,
   "id": "fa08e51a-03f7-4f2c-82b2-8d525a104c09",
   "metadata": {},
   "outputs": [
    {
     "name": "stdout",
     "output_type": "stream",
     "text": [
      "*****\n",
      "****\n",
      "***\n",
      "**\n",
      "*\n"
     ]
    }
   ],
   "source": [
    "## [연습] for 반복문으로 '*'탑 쌓기: 열 제어 우선 지정, 행 제어 맞추기\n",
    "for i in range(5, 0, -1):     #행 제어: 찍을 개수 기준\n",
    "    for j in range(1, i+1, 1):  #열 제어: 행 기준 종료점 환산\n",
    "        print('*', end='')\n",
    "    print()"
   ]
  },
  {
   "cell_type": "code",
   "execution_count": 26,
   "id": "da6cecd6-3361-489f-8596-1c8e77e802d9",
   "metadata": {},
   "outputs": [
    {
     "name": "stdout",
     "output_type": "stream",
     "text": [
      "*****\n",
      "****\n",
      "***\n",
      "**\n",
      "*\n"
     ]
    }
   ],
   "source": [
    "## [연습] for 반복문으로 '*'탑 쌓기: 열 제어 우선 지정, 행 제어 맞추기\n",
    "for i in range(5, 0, -1):     #행 제어: 찍을 개수 기준\n",
    "    for j in range(i, 0, -1):  #열 제어: 행 기준 시작점 환산\n",
    "        print('*', end='')\n",
    "    print()"
   ]
  },
  {
   "cell_type": "markdown",
   "id": "8a8a1b14-0142-4049-b370-2ac4ed4533f0",
   "metadata": {},
   "source": [
    "##### [연습] for 반복문으로 숫자 탑 쌓기"
   ]
  },
  {
   "cell_type": "code",
   "execution_count": 35,
   "id": "53040396-b291-4eb3-bef6-da4bd43dbf47",
   "metadata": {},
   "outputs": [
    {
     "name": "stdout",
     "output_type": "stream",
     "text": [
      "1\n",
      "22\n",
      "333\n",
      "4444\n",
      "55555\n"
     ]
    }
   ],
   "source": [
    "## [연습] for 반복문으로 숫자 탑 쌓기: 행 제어 우선 지정, 열 제어 맞추기\n",
    "for i in range(1, 5+1, 1):     #행 제어\n",
    "    for j in range(1, i+1, 1):  #열 제어\n",
    "        print(i, end='')\n",
    "    print()"
   ]
  },
  {
   "cell_type": "code",
   "execution_count": 37,
   "id": "932ec5a0-ee21-4939-8450-dcd4628a62fa",
   "metadata": {},
   "outputs": [
    {
     "name": "stdout",
     "output_type": "stream",
     "text": [
      "1\n",
      "12\n",
      "123\n",
      "1234\n",
      "12345\n"
     ]
    }
   ],
   "source": [
    "## [연습] for 반복문으로 숫자 탑 쌓기: 행 제어 우선 지정, 열 제어 맞추기\n",
    "for i in range(1, 5+1, 1):     #행 제어\n",
    "    for j in range(1, i+1, 1):  #열 제어\n",
    "        print(j, end='')\n",
    "    print()"
   ]
  },
  {
   "cell_type": "code",
   "execution_count": 5,
   "id": "db479686-be78-4362-aa1d-ead3a16b28a5",
   "metadata": {},
   "outputs": [
    {
     "name": "stdout",
     "output_type": "stream",
     "text": [
      "1\n",
      "12\n",
      "123\n",
      "1234\n",
      "12345\n"
     ]
    }
   ],
   "source": [
    "## [연습] for 반복문으로 숫자 탑 쌓기: 열 제어 우선 지정, 행 제어 맞추기\n",
    "\n",
    "for j in range(1, 1+1, 1):  #열 제어\n",
    "    print(j, end='')\n",
    "print()\n",
    "for j in range(1, 2+1, 1):  #열 제어\n",
    "    print(j, end='')\n",
    "print()\n",
    "for j in range(1, 3+1, 1):  #열 제어\n",
    "    print(j, end='')\n",
    "print()\n",
    "for j in range(1, 4+1, 1):  #열 제어\n",
    "    print(j, end='')\n",
    "print()\n",
    "for j in range(1, 5+1, 1):  #열 제어\n",
    "    print(j, end='')\n",
    "print()"
   ]
  },
  {
   "cell_type": "code",
   "execution_count": 22,
   "id": "88057b67-6f79-4242-bf03-b6f445a6e60a",
   "metadata": {},
   "outputs": [
    {
     "name": "stdout",
     "output_type": "stream",
     "text": [
      "*****\n",
      "****\n",
      "***\n",
      "**\n",
      "*\n"
     ]
    }
   ],
   "source": [
    "## [연습] for 반복문으로 '*'탑 쌓기: 행 제어 우선 지정, 열 제어 맞추기\n",
    "for i in range(1, 5+1, 1):     #행 제어: 행 번호 기준\n",
    "    for j in range(5, i-1, -1):  #열 제어: 행 기준 종료점 환산\n",
    "        print('*', end='')\n",
    "    print()"
   ]
  },
  {
   "cell_type": "code",
   "execution_count": 27,
   "id": "6d13e37d-9275-48ae-a284-69ca0dbfa996",
   "metadata": {},
   "outputs": [
    {
     "name": "stdout",
     "output_type": "stream",
     "text": [
      "11111\n",
      "2222\n",
      "333\n",
      "44\n",
      "5\n"
     ]
    }
   ],
   "source": [
    "## [연습] for 반복문으로 숫자 역 탑 쌓기: 행 제어 우선 지정, 열 제어 맞추기\n",
    "for i in range(1, 5+1, 1):     #행 제어\n",
    "    for j in range(5, i-1, -1):  #열 제어\n",
    "        print(i, end='')\n",
    "    print()"
   ]
  },
  {
   "cell_type": "code",
   "execution_count": 23,
   "id": "80728a8a-fed4-4a61-8138-083c344d24e9",
   "metadata": {},
   "outputs": [
    {
     "name": "stdout",
     "output_type": "stream",
     "text": [
      "*****\n",
      "****\n",
      "***\n",
      "**\n",
      "*\n"
     ]
    }
   ],
   "source": [
    "## [연습] for 반복문으로 '*'탑 쌓기: 열 제어 우선 지정, 행 제어 맞추기\n",
    "for i in range(5, 0, -1):     #행 제어: 찍을 개수 기준\n",
    "    for j in range(1, i+1, 1):  #열 제어: 행 기준 종료점 환산\n",
    "        print('*', end='')\n",
    "    print()"
   ]
  },
  {
   "cell_type": "code",
   "execution_count": 28,
   "id": "68ead172-fdc0-4bff-bf9e-34b90f17dc65",
   "metadata": {},
   "outputs": [
    {
     "name": "stdout",
     "output_type": "stream",
     "text": [
      "12345\n",
      "1234\n",
      "123\n",
      "12\n",
      "1\n"
     ]
    }
   ],
   "source": [
    "## [연습] for 반복문으로 '*'탑 쌓기: 열 제어 우선 지정, 행 제어 맞추기\n",
    "for i in range(5, 0, -1):     #행 제어: 찍을 개수 기준\n",
    "    for j in range(1, i+1, 1):  #열 제어: 행 기준 종료점 환산\n",
    "        print(j, end='')\n",
    "    print()"
   ]
  },
  {
   "cell_type": "markdown",
   "id": "32001358-045b-44f1-a619-2a4ebce5b323",
   "metadata": {},
   "source": [
    "#### **[과제] 숫자 탑 쌓기**\n",
    "##### 아래 결과와 같이 출력되도록 중첩 for 문을 사용하여 해결하시오.\n",
    "##### > for 문을 복수개 사용\n",
    "##### 54321 \n",
    "##### 5432 \n",
    "##### 543 \n",
    "##### 54 \n",
    "##### 5 "
   ]
  },
  {
   "cell_type": "code",
   "execution_count": 51,
   "id": "718d13a9-20ba-4fb7-8745-b8974550b4f3",
   "metadata": {},
   "outputs": [
    {
     "name": "stdout",
     "output_type": "stream",
     "text": [
      "54321\n",
      "5432\n",
      "543\n",
      "54\n",
      "5\n"
     ]
    }
   ],
   "source": [
    "##[과제] 숫자 탑 쌓기\n",
    "\n",
    "\n"
   ]
  },
  {
   "cell_type": "markdown",
   "id": "375aa016-c48c-490d-a5ce-dac605f250b7",
   "metadata": {},
   "source": [
    "#### **[연습] 구구단 출력**\n",
    "##### 원하는 단만 출력"
   ]
  },
  {
   "cell_type": "code",
   "execution_count": 54,
   "id": "0797d98f-d54e-40f4-b67b-358102554f40",
   "metadata": {},
   "outputs": [
    {
     "name": "stdin",
     "output_type": "stream",
     "text": [
      ">몇단(2~9)?  2\n"
     ]
    },
    {
     "name": "stdout",
     "output_type": "stream",
     "text": [
      "2x1= 2\n",
      "2x2= 4\n",
      "2x3= 6\n",
      "2x4= 8\n",
      "2x5=10\n",
      "2x6=12\n",
      "2x7=14\n",
      "2x8=16\n",
      "2x9=18\n"
     ]
    }
   ],
   "source": [
    "## [연습] 구구단 출력: 원하는 단만 출력\n",
    "dan = int(input(\">몇단(2~9)? \"))\n",
    "\n",
    "for i in range(1, 9+1):      #곱 수(1~9)\n",
    "    print(\"%dx%d=%2d\" % (dan, i, dan * i))"
   ]
  },
  {
   "cell_type": "markdown",
   "id": "f7e0f768-2cc1-4fe0-b753-0adeddd54155",
   "metadata": {},
   "source": [
    "#### 2~9단 출력: 전체 단을 1열로 출력\n",
    "##### > 단 타이틀도 출력"
   ]
  },
  {
   "cell_type": "code",
   "execution_count": 56,
   "id": "c6e82195-63a4-4b95-96b7-8a95ad54009b",
   "metadata": {},
   "outputs": [
    {
     "name": "stdout",
     "output_type": "stream",
     "text": [
      "  <2단>\n",
      "2 x 1 =  2\n",
      "2 x 2 =  4\n",
      "2 x 3 =  6\n",
      "2 x 4 =  8\n",
      "2 x 5 = 10\n",
      "2 x 6 = 12\n",
      "2 x 7 = 14\n",
      "2 x 8 = 16\n",
      "2 x 9 = 18\n",
      "\n",
      "  <3단>\n",
      "3 x 1 =  3\n",
      "3 x 2 =  6\n",
      "3 x 3 =  9\n",
      "3 x 4 = 12\n",
      "3 x 5 = 15\n",
      "3 x 6 = 18\n",
      "3 x 7 = 21\n",
      "3 x 8 = 24\n",
      "3 x 9 = 27\n",
      "\n",
      "  <4단>\n",
      "4 x 1 =  4\n",
      "4 x 2 =  8\n",
      "4 x 3 = 12\n",
      "4 x 4 = 16\n",
      "4 x 5 = 20\n",
      "4 x 6 = 24\n",
      "4 x 7 = 28\n",
      "4 x 8 = 32\n",
      "4 x 9 = 36\n",
      "\n",
      "  <5단>\n",
      "5 x 1 =  5\n",
      "5 x 2 = 10\n",
      "5 x 3 = 15\n",
      "5 x 4 = 20\n",
      "5 x 5 = 25\n",
      "5 x 6 = 30\n",
      "5 x 7 = 35\n",
      "5 x 8 = 40\n",
      "5 x 9 = 45\n",
      "\n",
      "  <6단>\n",
      "6 x 1 =  6\n",
      "6 x 2 = 12\n",
      "6 x 3 = 18\n",
      "6 x 4 = 24\n",
      "6 x 5 = 30\n",
      "6 x 6 = 36\n",
      "6 x 7 = 42\n",
      "6 x 8 = 48\n",
      "6 x 9 = 54\n",
      "\n",
      "  <7단>\n",
      "7 x 1 =  7\n",
      "7 x 2 = 14\n",
      "7 x 3 = 21\n",
      "7 x 4 = 28\n",
      "7 x 5 = 35\n",
      "7 x 6 = 42\n",
      "7 x 7 = 49\n",
      "7 x 8 = 56\n",
      "7 x 9 = 63\n",
      "\n",
      "  <8단>\n",
      "8 x 1 =  8\n",
      "8 x 2 = 16\n",
      "8 x 3 = 24\n",
      "8 x 4 = 32\n",
      "8 x 5 = 40\n",
      "8 x 6 = 48\n",
      "8 x 7 = 56\n",
      "8 x 8 = 64\n",
      "8 x 9 = 72\n",
      "\n",
      "  <9단>\n",
      "9 x 1 =  9\n",
      "9 x 2 = 18\n",
      "9 x 3 = 27\n",
      "9 x 4 = 36\n",
      "9 x 5 = 45\n",
      "9 x 6 = 54\n",
      "9 x 7 = 63\n",
      "9 x 8 = 72\n",
      "9 x 9 = 81\n",
      "\n"
     ]
    }
   ],
   "source": [
    "## [연습] 구구단 출력: 2~9단 열 출력\n",
    "for dan in range(2, 9+1):      #단 반복\n",
    "    print(\"  <%d단>\" % dan)\n",
    "    for i in range(1, 9+1):      #곱 수(1~9)\n",
    "        print(\"%d x %d = %2d\" % (dan, i, dan * i))\n",
    "    print()"
   ]
  },
  {
   "cell_type": "markdown",
   "id": "d20e6f37-3512-48ef-9c57-3ab732c75cbc",
   "metadata": {},
   "source": [
    "#### 2~9단 출력: 전체 단을 1행으로 출력\n",
    "##### > 단 타이틀도 출력"
   ]
  },
  {
   "cell_type": "code",
   "execution_count": 59,
   "id": "009140fd-b9a8-43b2-9584-f06c1f233ed6",
   "metadata": {},
   "outputs": [
    {
     "name": "stdout",
     "output_type": "stream",
     "text": [
      "  <2단>\t\t  <3단>\t\t  <4단>\t\t  <5단>\t\t  <6단>\t\t  <7단>\t\t  <8단>\t\t  <9단>\t\t\n",
      "2 x 1 =  2 \t 3 x 1 =  3 \t 4 x 1 =  4 \t 5 x 1 =  5 \t 6 x 1 =  6 \t 7 x 1 =  7 \t 8 x 1 =  8 \t 9 x 1 =  9 \t \n",
      "2 x 2 =  4 \t 3 x 2 =  6 \t 4 x 2 =  8 \t 5 x 2 = 10 \t 6 x 2 = 12 \t 7 x 2 = 14 \t 8 x 2 = 16 \t 9 x 2 = 18 \t \n",
      "2 x 3 =  6 \t 3 x 3 =  9 \t 4 x 3 = 12 \t 5 x 3 = 15 \t 6 x 3 = 18 \t 7 x 3 = 21 \t 8 x 3 = 24 \t 9 x 3 = 27 \t \n",
      "2 x 4 =  8 \t 3 x 4 = 12 \t 4 x 4 = 16 \t 5 x 4 = 20 \t 6 x 4 = 24 \t 7 x 4 = 28 \t 8 x 4 = 32 \t 9 x 4 = 36 \t \n",
      "2 x 5 = 10 \t 3 x 5 = 15 \t 4 x 5 = 20 \t 5 x 5 = 25 \t 6 x 5 = 30 \t 7 x 5 = 35 \t 8 x 5 = 40 \t 9 x 5 = 45 \t \n",
      "2 x 6 = 12 \t 3 x 6 = 18 \t 4 x 6 = 24 \t 5 x 6 = 30 \t 6 x 6 = 36 \t 7 x 6 = 42 \t 8 x 6 = 48 \t 9 x 6 = 54 \t \n",
      "2 x 7 = 14 \t 3 x 7 = 21 \t 4 x 7 = 28 \t 5 x 7 = 35 \t 6 x 7 = 42 \t 7 x 7 = 49 \t 8 x 7 = 56 \t 9 x 7 = 63 \t \n",
      "2 x 8 = 16 \t 3 x 8 = 24 \t 4 x 8 = 32 \t 5 x 8 = 40 \t 6 x 8 = 48 \t 7 x 8 = 56 \t 8 x 8 = 64 \t 9 x 8 = 72 \t \n",
      "2 x 9 = 18 \t 3 x 9 = 27 \t 4 x 9 = 36 \t 5 x 9 = 45 \t 6 x 9 = 54 \t 7 x 9 = 63 \t 8 x 9 = 72 \t 9 x 9 = 81 \t \n"
     ]
    }
   ],
   "source": [
    "## [연습] 구구단 출력: 2~9단 행 출력\n",
    "for dan in range(2, 10) :\n",
    "    print(\"  <%d단>\" % dan, end='\\t\\t')\n",
    "print()\n",
    "\n",
    "for i in range(1, 9+1):             #곱 수(1~9)\n",
    "    for dan in range(2, 9+1) :      #단 반복\n",
    "        print(\"%d x %d = %2d \\t\" %(dan, i, dan * i), end=' ')\n",
    "    print()"
   ]
  },
  {
   "cell_type": "markdown",
   "id": "001d82c8-8895-4fd6-a8a7-e0da941174ad",
   "metadata": {},
   "source": [
    "#### **[과제] 구구단표 출력 (n열 출력)**\n",
    "##### > 2~9단까지 n열로 출력\n",
    "##### > 열 n 값을 키보드로 입력을 받음"
   ]
  },
  {
   "cell_type": "code",
   "execution_count": 61,
   "id": "8006f5f8-f31e-4b67-b3c9-679766d5e809",
   "metadata": {},
   "outputs": [
    {
     "name": "stdin",
     "output_type": "stream",
     "text": [
      "몇 열로 출력할까요?  5\n"
     ]
    },
    {
     "name": "stdout",
     "output_type": "stream",
     "text": [
      "2 x 1 =  2 \t 3 x 1 =  3 \t 4 x 1 =  4 \t 5 x 1 =  5 \t 6 x 1 =  6 \t \n",
      "2 x 2 =  4 \t 3 x 2 =  6 \t 4 x 2 =  8 \t 5 x 2 = 10 \t 6 x 2 = 12 \t \n",
      "2 x 3 =  6 \t 3 x 3 =  9 \t 4 x 3 = 12 \t 5 x 3 = 15 \t 6 x 3 = 18 \t \n",
      "2 x 4 =  8 \t 3 x 4 = 12 \t 4 x 4 = 16 \t 5 x 4 = 20 \t 6 x 4 = 24 \t \n",
      "2 x 5 = 10 \t 3 x 5 = 15 \t 4 x 5 = 20 \t 5 x 5 = 25 \t 6 x 5 = 30 \t \n",
      "2 x 6 = 12 \t 3 x 6 = 18 \t 4 x 6 = 24 \t 5 x 6 = 30 \t 6 x 6 = 36 \t \n",
      "2 x 7 = 14 \t 3 x 7 = 21 \t 4 x 7 = 28 \t 5 x 7 = 35 \t 6 x 7 = 42 \t \n",
      "2 x 8 = 16 \t 3 x 8 = 24 \t 4 x 8 = 32 \t 5 x 8 = 40 \t 6 x 8 = 48 \t \n",
      "2 x 9 = 18 \t 3 x 9 = 27 \t 4 x 9 = 36 \t 5 x 9 = 45 \t 6 x 9 = 54 \t \n",
      "\n",
      "7 x 1 =  7 \t 8 x 1 =  8 \t 9 x 1 =  9 \t \n",
      "7 x 2 = 14 \t 8 x 2 = 16 \t 9 x 2 = 18 \t \n",
      "7 x 3 = 21 \t 8 x 3 = 24 \t 9 x 3 = 27 \t \n",
      "7 x 4 = 28 \t 8 x 4 = 32 \t 9 x 4 = 36 \t \n",
      "7 x 5 = 35 \t 8 x 5 = 40 \t 9 x 5 = 45 \t \n",
      "7 x 6 = 42 \t 8 x 6 = 48 \t 9 x 6 = 54 \t \n",
      "7 x 7 = 49 \t 8 x 7 = 56 \t 9 x 7 = 63 \t \n",
      "7 x 8 = 56 \t 8 x 8 = 64 \t 9 x 8 = 72 \t \n",
      "7 x 9 = 63 \t 8 x 9 = 72 \t 9 x 9 = 81 \t \n",
      "\n"
     ]
    }
   ],
   "source": [
    "## [과제] 구구단표 출력 (n열 출력)\n",
    "col = int(input(\"몇 열로 출력할까요? \"))\n",
    "\n",
    "\n"
   ]
  },
  {
   "cell_type": "code",
   "execution_count": null,
   "id": "5af1897d-a3e3-4ed8-b9ab-05820e303ad3",
   "metadata": {},
   "outputs": [],
   "source": []
  }
 ],
 "metadata": {
  "kernelspec": {
   "display_name": "Python 3 (ipykernel)",
   "language": "python",
   "name": "python3"
  },
  "language_info": {
   "codemirror_mode": {
    "name": "ipython",
    "version": 3
   },
   "file_extension": ".py",
   "mimetype": "text/x-python",
   "name": "python",
   "nbconvert_exporter": "python",
   "pygments_lexer": "ipython3",
   "version": "3.9.13"
  }
 },
 "nbformat": 4,
 "nbformat_minor": 5
}
