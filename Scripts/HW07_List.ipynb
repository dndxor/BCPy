{
 "cells": [
  {
   "cell_type": "markdown",
   "id": "508d71ff-0f75-4ff0-98d4-a34b913e7029",
   "metadata": {},
   "source": [
    "# **Ch07 리스트** [과제]"
   ]
  },
  {
   "cell_type": "markdown",
   "id": "85ee8321-5ad6-42b4-8434-57c7fd10d750",
   "metadata": {},
   "source": [
    "#### **[실습-과제] 1차원 리스트 오름차순 정렬: Bubble Sort  (내림차 순)**\n",
    "##### Bubble Sort는 인접한 항목과 값을 비교하여 작은 값이 우측으로 가도록 교환하는 방법\n",
    "###### >인접한 항목과 값을 비교하여 작은 값이 우측으로 가도록 교환하는 방법을 반복\n",
    "###### >한 차례를 반복하면, 가장 우측 끝 항목부터 가장 작은 값이 자리를 잡는다.\n",
    "###### >이러한 과정을 좌측으로 하나씩 이동하면서 정렬 완성\n",
    "###### > 1차원 리스트의 값들은 키보드로 입력 받아 사용\n",
    "###### >> 공백 입력 때까지 입력 가능토록 함"
   ]
  },
  {
   "cell_type": "code",
   "execution_count": 1,
   "id": "67ce20ef-21dd-4ad4-8438-7faf37a8cfca",
   "metadata": {},
   "outputs": [
    {
     "name": "stdin",
     "output_type": "stream",
     "text": [
      ">공백으로 분리된 숫자 값 입력 후 Enter> 65 67 87 89 90 54 43 45 66 77 90\n"
     ]
    },
    {
     "name": "stdout",
     "output_type": "stream",
     "text": [
      "[65, 67, 87, 89, 90, 54, 43, 45, 66, 77, 90]\n",
      "[43, 45, 54, 65, 66, 67, 77, 87, 89, 90, 90]\n"
     ]
    }
   ],
   "source": [
    "## [실습-과제] 1차원 리스트 오름차순 정렬: Bubble Sort (내림차 순)\n",
    "\n",
    "\n"
   ]
  },
  {
   "cell_type": "code",
   "execution_count": null,
   "id": "a03c3afa-faff-4894-a85e-72f167270064",
   "metadata": {},
   "outputs": [],
   "source": []
  },
  {
   "cell_type": "markdown",
   "id": "8d622cc5-6257-4857-a268-4910d8eeb8fe",
   "metadata": {},
   "source": [
    "#### **[실습-과제] 숫자 야구 게임**\n",
    "##### 랜덤한 3자리 숫자 맞추기 게임을 완성하시오.\n",
    "###### > 랜덤한 3자리 정수(1~999) 발생, 단 각 자리 수의 값은 같으면 안됨\n",
    "###### > 게이머는 추측하는 3자리 값을 키보드로 입력 (맞출 떄까지)\n",
    "###### >> 각 위치(digit)에서 값이 같으면 Strike, 값은 존재하나 위치가 다르면 Ball로 처리\n",
    "###### >> 매회 “>>%d Strike, %d Ball”로 결과 제공\n",
    "###### > 게임 종료 조건 : 3 Strike 또는 입력 값 00"
   ]
  },
  {
   "cell_type": "markdown",
   "id": "d01bb3d9-e13a-4725-aa53-6367f3ec2a24",
   "metadata": {},
   "source": [
    "###### **(1) 3자리 난수 리스트 생성**"
   ]
  },
  {
   "cell_type": "code",
   "execution_count": 39,
   "id": "b0ed1379-6f1d-4260-9821-982749fa30f7",
   "metadata": {},
   "outputs": [
    {
     "name": "stdout",
     "output_type": "stream",
     "text": [
      "[8, 7, 6]\n"
     ]
    }
   ],
   "source": [
    "## [실습-과제] 숫자 야구 게임: 3자리 난수 리스트 생성\n",
    "\n"
   ]
  },
  {
   "cell_type": "markdown",
   "id": "0350ed1f-0369-46bc-afcd-1136d6a5f0d0",
   "metadata": {},
   "source": [
    "###### **(2) 3자리 숫자 입력 > 리스트 구성**\n",
    "###### 예측되는 세자리 난수 값을 입력을 받아 리스트(inger)로 구성\n",
    "###### > 각 자리 수를 분리하여 리스트로 구성 > 예) 123 입력은 [1, 2, 3] 리스트로 구성\n",
    "###### > 0이 입력되면 게임 종료 처리"
   ]
  },
  {
   "cell_type": "code",
   "execution_count": 42,
   "id": "e8b04a16-ffe4-4afa-9ab1-74eda7d1d2a1",
   "metadata": {},
   "outputs": [
    {
     "name": "stdout",
     "output_type": "stream",
     "text": [
      "[7, 3, 2]\n"
     ]
    },
    {
     "name": "stdin",
     "output_type": "stream",
     "text": [
      ">>정수(1~999; esc 00) 입력:  123\n"
     ]
    },
    {
     "name": "stdout",
     "output_type": "stream",
     "text": [
      "[1, 2, 3]\n"
     ]
    },
    {
     "name": "stdin",
     "output_type": "stream",
     "text": [
      ">>정수(1~999; esc 00) 입력:  0\n"
     ]
    }
   ],
   "source": [
    "## [실습-과제] 숫자 야구 게임: ineger 리스트 사용\n",
    "\n"
   ]
  },
  {
   "cell_type": "markdown",
   "id": "660aa48a-f264-457c-a288-0e3c89c5aa57",
   "metadata": {},
   "source": [
    "###### **(3) Strike, Ball 판정**\n",
    "###### 난수 리스트와 입력 리스 값을 비교하여 Strike 또는 Ball 판정\n",
    "###### > 같은 위치에서 일치하면 Strike, 다른 위치에 존재하면 Ball 판정\n",
    "###### > Strike, Ball 숫자 출력\n",
    "###### 만약 strike = 3이면 \">>OK!\" 출력 후 종료"
   ]
  },
  {
   "cell_type": "code",
   "execution_count": 43,
   "id": "b72e1e1d-8ed5-44c9-b9d4-b2c18bb036d6",
   "metadata": {},
   "outputs": [
    {
     "name": "stdout",
     "output_type": "stream",
     "text": [
      "[2, 3, 7]\n"
     ]
    },
    {
     "name": "stdin",
     "output_type": "stream",
     "text": [
      ">>정수(1~999; esc 00) 입력:  123\n"
     ]
    },
    {
     "name": "stdout",
     "output_type": "stream",
     "text": [
      "[1] 0 Strike  2 Ball \n"
     ]
    },
    {
     "name": "stdin",
     "output_type": "stream",
     "text": [
      ">>정수(1~999; esc 00) 입력:  456\n"
     ]
    },
    {
     "name": "stdout",
     "output_type": "stream",
     "text": [
      "[2] 0 Strike  0 Ball \n"
     ]
    },
    {
     "name": "stdin",
     "output_type": "stream",
     "text": [
      ">>정수(1~999; esc 00) 입력:  789\n"
     ]
    },
    {
     "name": "stdout",
     "output_type": "stream",
     "text": [
      "[3] 0 Strike  1 Ball \n"
     ]
    },
    {
     "name": "stdin",
     "output_type": "stream",
     "text": [
      ">>정수(1~999; esc 00) 입력:  723\n"
     ]
    },
    {
     "name": "stdout",
     "output_type": "stream",
     "text": [
      "[4] 0 Strike  3 Ball \n"
     ]
    },
    {
     "name": "stdin",
     "output_type": "stream",
     "text": [
      ">>정수(1~999; esc 00) 입력:  237\n"
     ]
    },
    {
     "name": "stdout",
     "output_type": "stream",
     "text": [
      "[5] 3 Strike  0 Ball \n",
      ">>OK!\n"
     ]
    }
   ],
   "source": [
    "## [실습-과제] 숫자 야구 게임: ineger 리스트 사용\n",
    "\n"
   ]
  },
  {
   "cell_type": "code",
   "execution_count": null,
   "id": "610be9db-cf15-4da2-b05e-139b921a1baa",
   "metadata": {},
   "outputs": [],
   "source": []
  },
  {
   "cell_type": "markdown",
   "id": "2e90c78f-5030-4df8-8fc3-99751ac89008",
   "metadata": {},
   "source": [
    "###### **숫자 야구 게임을 Character 리스트를 사용하여 해결**"
   ]
  },
  {
   "cell_type": "code",
   "execution_count": 10,
   "id": "77f0252f-20de-4556-bc1c-46bc3ba3dd36",
   "metadata": {},
   "outputs": [
    {
     "name": "stdout",
     "output_type": "stream",
     "text": [
      "['9', '6', '3']\n"
     ]
    },
    {
     "name": "stdin",
     "output_type": "stream",
     "text": [
      ">>정수(1~999; esc 00) 입력:  123\n"
     ]
    },
    {
     "name": "stdout",
     "output_type": "stream",
     "text": [
      "[1] 1 Strike  0 Ball \n"
     ]
    },
    {
     "name": "stdin",
     "output_type": "stream",
     "text": [
      ">>정수(1~999; esc 00) 입력:  456\n"
     ]
    },
    {
     "name": "stdout",
     "output_type": "stream",
     "text": [
      "[2] 0 Strike  1 Ball \n"
     ]
    },
    {
     "name": "stdin",
     "output_type": "stream",
     "text": [
      ">>정수(1~999; esc 00) 입력:  789\n"
     ]
    },
    {
     "name": "stdout",
     "output_type": "stream",
     "text": [
      "[3] 0 Strike  1 Ball \n"
     ]
    },
    {
     "name": "stdin",
     "output_type": "stream",
     "text": [
      ">>정수(1~999; esc 00) 입력:  936\n"
     ]
    },
    {
     "name": "stdout",
     "output_type": "stream",
     "text": [
      "[4] 1 Strike  2 Ball \n"
     ]
    },
    {
     "name": "stdin",
     "output_type": "stream",
     "text": [
      ">>정수(1~999; esc 00) 입력:  963\n"
     ]
    },
    {
     "name": "stdout",
     "output_type": "stream",
     "text": [
      "[5] 3 Strike  0 Ball \n",
      ">>OK!\n"
     ]
    }
   ],
   "source": [
    "## [실습-과제] 숫자 야구 게임: Character 리스트 사용\n",
    "\n"
   ]
  },
  {
   "cell_type": "code",
   "execution_count": null,
   "id": "73081271-23db-41dd-bb16-8cd1afc5af02",
   "metadata": {},
   "outputs": [],
   "source": []
  },
  {
   "cell_type": "markdown",
   "id": "b3c3c2d3-3d42-476e-a588-89b1e8c09128",
   "metadata": {},
   "source": [
    "#### **[실습-과제] nxn 숫자 퍼즐 게임 만들기**\n",
    "##### 다음과 같은 숫자 퍼즐 정렬하기 게임을 완성 하시오.\n",
    "###### > 퍼즐의 크기는 키보드로 입력 받음 > 정방형으로 사용\n",
    "###### > 잘 못된 키 값('a', 'w', 's', 'd' 이외)이 입력되면 \"??잘못된 키 값입니다!\"를 출력\n",
    "###### > 이동할 수 없는 방향 값이 입력되면 ＂!!잘못된 이동입니다!\"를 출력\n",
    "###### > 퍼즐 정렬이 완성되면 \"%d번만에 성공하였습니다.\"를 출력하고 종료\n",
    "###### > 현제 시도 횟 수를 아래와 같이 좌측 하단에 표시 \n",
    "###### >> 잘 못된 키 값이거나 이동할 수 없는 방향 값일 경우는 시도 횟수에서 제외 "
   ]
  },
  {
   "cell_type": "markdown",
   "id": "f33697d9-e244-457c-9f23-8832cfb59cc0",
   "metadata": {},
   "source": [
    "###### **(1) 랜덤한 2차원 숫자 리스트 초기화**\n",
    "###### > 퍼즐의 크기는 키보드로 입력 받음 > 정방형으로 사용"
   ]
  },
  {
   "cell_type": "code",
   "execution_count": 48,
   "id": "c782c621-f034-43b1-a9d3-29aa7d9e1a46",
   "metadata": {},
   "outputs": [
    {
     "name": "stdin",
     "output_type": "stream",
     "text": [
      "열 개수는?  4\n"
     ]
    },
    {
     "name": "stdout",
     "output_type": "stream",
     "text": [
      "[[12, 14, 0, 4], [6, 1, 8, 13], [10, 3, 2, 9], [7, 5, 11, 15]]\n"
     ]
    }
   ],
   "source": [
    "## [실습-과제] nxn 숫자 퍼즐 게임 만들기(1): 랜덤한 2차원 숫자 리스트 초기화\n",
    "\n"
   ]
  },
  {
   "cell_type": "markdown",
   "id": "80f93ea8-5e2b-4851-8805-dd7c3d57cc75",
   "metadata": {},
   "source": [
    "###### **(2) 2차원 숫자 리스트를 2차원으로 출력**"
   ]
  },
  {
   "cell_type": "code",
   "execution_count": 47,
   "id": "fd18c39d-37f9-4ff6-bbc4-6a3b1c02850a",
   "metadata": {},
   "outputs": [
    {
     "name": "stdout",
     "output_type": "stream",
     "text": [
      "  6 14  3  1\n",
      " 15     2 11\n",
      "  7 12 10  4\n",
      "  5  8  9 13\n"
     ]
    }
   ],
   "source": [
    "## [실습-과제] nxn 숫자 퍼즐 게임 만들기(2): 2차원 숫자 리스트를 2차원으로 출력\n",
    "\n"
   ]
  },
  {
   "cell_type": "markdown",
   "id": "0e29da58-8b05-4141-b946-f93dd36f2f03",
   "metadata": {},
   "source": [
    "###### **(3) 퍼즐 초기화와 출력을 함수로 처리**\n",
    "###### > 함수: rand_Puzzle(), prt_puzzle()\n",
    "###### > 메인: puzzle 크기를 입력 받아, rand_Puzzle(), prt_puzzle() 함수 호출 처리"
   ]
  },
  {
   "cell_type": "code",
   "execution_count": 50,
   "id": "ac4a2351-66b1-477c-86ab-520f41fa209c",
   "metadata": {},
   "outputs": [
    {
     "name": "stdin",
     "output_type": "stream",
     "text": [
      "열 개수는?  4\n"
     ]
    },
    {
     "name": "stdout",
     "output_type": "stream",
     "text": [
      "\n",
      "  2 13  6 14\n",
      " 12  7  4  5\n",
      "     3 15  8\n",
      " 11  1 10  9\n"
     ]
    }
   ],
   "source": [
    "#### [실습-과제] nxn 숫자 퍼즐 게임 만들기(3): 퍼즐 초기화와 출력을 함수로 처리\n",
    "\n"
   ]
  },
  {
   "cell_type": "markdown",
   "id": "76847094-59bf-49f5-aba2-f0017b11571f",
   "metadata": {},
   "source": [
    "###### **(4) 키보드 방향 값 처리 함수 생성**\n",
    "###### > 방향키는 a(좌), w(상), s(하), d(우), 0(종료)를 사용\n",
    "###### > 방향키 값에 따라 해당 함수를 호출: , left(), right(), up(), down()\n",
    "###### > 방향키 처리 함수는 '>Left', '>Right', '>Up', '>Down'을 출력\n",
    "###### > 0입력 시 게임 종료 처리\n",
    "###### > 나머지 키는 경고 메시지 주고 재입력 처리"
   ]
  },
  {
   "cell_type": "code",
   "execution_count": 51,
   "id": "19c0c9ff-aec7-4146-a929-a8202ee1ff36",
   "metadata": {},
   "outputs": [
    {
     "name": "stdin",
     "output_type": "stream",
     "text": [
      "열 개수는?  4\n"
     ]
    },
    {
     "name": "stdout",
     "output_type": "stream",
     "text": [
      "\n",
      "  2 13  6 14\n",
      " 12  7  4  5\n",
      "     3 15  8\n",
      " 11  1 10  9\n"
     ]
    },
    {
     "name": "stdin",
     "output_type": "stream",
     "text": [
      "a(좌) w(상) s(하) d(우) 0(종료)>  ㅁ\n"
     ]
    },
    {
     "name": "stdout",
     "output_type": "stream",
     "text": [
      "??잘못된 키 값입니다!\n"
     ]
    },
    {
     "name": "stdin",
     "output_type": "stream",
     "text": [
      "a(좌) w(상) s(하) d(우) 0(종료)>  a\n"
     ]
    },
    {
     "name": "stdout",
     "output_type": "stream",
     "text": [
      ">Left\n"
     ]
    },
    {
     "name": "stdin",
     "output_type": "stream",
     "text": [
      "a(좌) w(상) s(하) d(우) 0(종료)>  s\n"
     ]
    },
    {
     "name": "stdout",
     "output_type": "stream",
     "text": [
      ">Down\n"
     ]
    },
    {
     "name": "stdin",
     "output_type": "stream",
     "text": [
      "a(좌) w(상) s(하) d(우) 0(종료)>  d\n"
     ]
    },
    {
     "name": "stdout",
     "output_type": "stream",
     "text": [
      ">Right\n"
     ]
    },
    {
     "name": "stdin",
     "output_type": "stream",
     "text": [
      "a(좌) w(상) s(하) d(우) 0(종료)>  w\n"
     ]
    },
    {
     "name": "stdout",
     "output_type": "stream",
     "text": [
      ">Up\n"
     ]
    },
    {
     "name": "stdin",
     "output_type": "stream",
     "text": [
      "a(좌) w(상) s(하) d(우) 0(종료)>  0\n"
     ]
    }
   ],
   "source": [
    "#### [실습-과제] nxn 숫자 퍼즐 게임 만들기(4): 키보드 방향 값 처리 함수 생성\n",
    "\n",
    "\n",
    "    "
   ]
  },
  {
   "cell_type": "markdown",
   "id": "5bcb4590-0bcd-41f9-8d26-d0e2515730ff",
   "metadata": {},
   "source": [
    "###### **(5) 퍼즐에서 0의 위치 index 찾기: 함수 호출로 처리**\n",
    "###### > 함수는 0의 index 값을 찾아 하나의 값으로 반환\n",
    "###### > 메인에서 반환 받은 값으로부터 행과 열 index 값 도출하여 출력"
   ]
  },
  {
   "cell_type": "code",
   "execution_count": 53,
   "id": "24c564e8-1cbc-43eb-82e6-51410617ccf5",
   "metadata": {},
   "outputs": [
    {
     "name": "stdin",
     "output_type": "stream",
     "text": [
      "열 개수는?  4\n"
     ]
    },
    {
     "name": "stdout",
     "output_type": "stream",
     "text": [
      "\n",
      "  2 13  6 14\n",
      " 12  7  4  5\n",
      "     3 15  8\n",
      " 11  1 10  9\n",
      "r: 2, c: 0\n"
     ]
    },
    {
     "name": "stdin",
     "output_type": "stream",
     "text": [
      "a(좌) w(상) s(하) d(우) 0(종료)>  0\n"
     ]
    }
   ],
   "source": [
    "## [실습-과제] nxn 숫자 퍼즐 게임 만들기(5): 퍼즐에서 0의 위치 index 찾기 > 함수 호출로 처리\n",
    "\n"
   ]
  },
  {
   "cell_type": "markdown",
   "id": "f6fb1ab2-d006-4680-8196-bf4a6df299fa",
   "metadata": {},
   "source": [
    "###### **(6) 키보드로 방향키 값 받아 퍼즐 이동 처리**\n",
    "###### 입력 받은 방향으로 퍼즐 이동 결과를 리스트에 반영하여 출력하시오.\n",
    "###### > puzzle의 0 위치 값을 기준으로 인접 값과 상호 위치 교환\n",
    "###### > 위치 교환 후 puzzle 리스트 출력"
   ]
  },
  {
   "cell_type": "code",
   "execution_count": 55,
   "id": "2b027b03-e34e-412f-8e1a-2a320daeaa9c",
   "metadata": {},
   "outputs": [
    {
     "name": "stdin",
     "output_type": "stream",
     "text": [
      "열 개수는?  4\n"
     ]
    },
    {
     "name": "stdout",
     "output_type": "stream",
     "text": [
      "\n",
      "  1  7  8   \n",
      "  4 14 10  2\n",
      "  9  5 13 12\n",
      " 11  6  3 15\n",
      "r: 0, c: 3\n"
     ]
    },
    {
     "name": "stdin",
     "output_type": "stream",
     "text": [
      "a(좌) w(상) s(하) d(우) 0(종료)>  4\n"
     ]
    },
    {
     "name": "stdout",
     "output_type": "stream",
     "text": [
      "??잘못된 키 값입니다!\n",
      "r: 0, c: 3\n"
     ]
    },
    {
     "name": "stdin",
     "output_type": "stream",
     "text": [
      "a(좌) w(상) s(하) d(우) 0(종료)>  d\n"
     ]
    },
    {
     "name": "stdout",
     "output_type": "stream",
     "text": [
      "\n",
      "  1  7     8\n",
      "  4 14 10  2\n",
      "  9  5 13 12\n",
      " 11  6  3 15\n",
      "r: 0, c: 2\n"
     ]
    },
    {
     "name": "stdin",
     "output_type": "stream",
     "text": [
      "a(좌) w(상) s(하) d(우) 0(종료)>  d\n"
     ]
    },
    {
     "name": "stdout",
     "output_type": "stream",
     "text": [
      "\n",
      "  1     7  8\n",
      "  4 14 10  2\n",
      "  9  5 13 12\n",
      " 11  6  3 15\n",
      "r: 0, c: 1\n"
     ]
    },
    {
     "name": "stdin",
     "output_type": "stream",
     "text": [
      "a(좌) w(상) s(하) d(우) 0(종료)>  a\n"
     ]
    },
    {
     "name": "stdout",
     "output_type": "stream",
     "text": [
      "\n",
      "  1  7     8\n",
      "  4 14 10  2\n",
      "  9  5 13 12\n",
      " 11  6  3 15\n",
      "r: 0, c: 2\n"
     ]
    },
    {
     "name": "stdin",
     "output_type": "stream",
     "text": [
      "a(좌) w(상) s(하) d(우) 0(종료)>  w\n"
     ]
    },
    {
     "name": "stdout",
     "output_type": "stream",
     "text": [
      "\n",
      "  1  7 10  8\n",
      "  4 14     2\n",
      "  9  5 13 12\n",
      " 11  6  3 15\n",
      "r: 1, c: 2\n"
     ]
    },
    {
     "name": "stdin",
     "output_type": "stream",
     "text": [
      "a(좌) w(상) s(하) d(우) 0(종료)>  s\n"
     ]
    },
    {
     "name": "stdout",
     "output_type": "stream",
     "text": [
      "\n",
      "  1  7     8\n",
      "  4 14 10  2\n",
      "  9  5 13 12\n",
      " 11  6  3 15\n",
      "r: 0, c: 2\n"
     ]
    },
    {
     "name": "stdin",
     "output_type": "stream",
     "text": [
      "a(좌) w(상) s(하) d(우) 0(종료)>  0\n"
     ]
    }
   ],
   "source": [
    "## [실습-과제] nxn 숫자 퍼즐 게임 만들기(6): 키보드로 방향키 값 받아 퍼즐 이동\n",
    "\n"
   ]
  },
  {
   "cell_type": "markdown",
   "id": "946d559f-36d2-4ad4-a2d2-99cc9f40defe",
   "metadata": {},
   "source": [
    "###### **(6) 키보드로 방향키 값 받아 퍼즐 이동 처리: 이동 불가 처리**\n",
    "###### 이동이 불가능한 방향이 입력되면 puzzle 값 위치 교환 처리를 하지 않음."
   ]
  },
  {
   "cell_type": "code",
   "execution_count": 57,
   "id": "b0b7f7da-2d0b-45e0-909c-d9f1ead66a16",
   "metadata": {},
   "outputs": [
    {
     "name": "stdin",
     "output_type": "stream",
     "text": [
      "열 개수는?  4\n"
     ]
    },
    {
     "name": "stdout",
     "output_type": "stream",
     "text": [
      "\n",
      "     7 14  5\n",
      " 11  4  8  2\n",
      "  6 12 15  1\n",
      " 10  9 13  3\n",
      "r: 0, c: 0\n"
     ]
    },
    {
     "name": "stdin",
     "output_type": "stream",
     "text": [
      "a(좌) w(상) s(하) d(우) 0(종료)>  d\n"
     ]
    },
    {
     "name": "stdout",
     "output_type": "stream",
     "text": [
      "\n",
      "     7 14  5\n",
      " 11  4  8  2\n",
      "  6 12 15  1\n",
      " 10  9 13  3\n",
      "r: 0, c: 0\n"
     ]
    },
    {
     "name": "stdin",
     "output_type": "stream",
     "text": [
      "a(좌) w(상) s(하) d(우) 0(종료)>  s\n"
     ]
    },
    {
     "name": "stdout",
     "output_type": "stream",
     "text": [
      "\n",
      "     7 14  5\n",
      " 11  4  8  2\n",
      "  6 12 15  1\n",
      " 10  9 13  3\n",
      "r: 0, c: 0\n"
     ]
    },
    {
     "name": "stdin",
     "output_type": "stream",
     "text": [
      "a(좌) w(상) s(하) d(우) 0(종료)>  0\n"
     ]
    }
   ],
   "source": [
    "## [실습-과제] nxn 숫자 퍼즐 게임 만들기(6): 키보드로 방향키 값 받아 퍼즐 이동\n",
    "\n",
    "\n"
   ]
  },
  {
   "cell_type": "markdown",
   "id": "c2d36870-7305-4647-9ba8-50b4e5c4910e",
   "metadata": {},
   "source": [
    "###### **(7) 키보드로 방향키 값 받아 퍼즐 이동 처리: 화면 클리어 사용**\n",
    "###### 입력 받은 방향으로 퍼즐 이동 결과를 출력하기 전에 화면을 클리어 처리"
   ]
  },
  {
   "cell_type": "code",
   "execution_count": 59,
   "id": "829afa57-590e-4d2e-b536-f95fc007c6e2",
   "metadata": {},
   "outputs": [
    {
     "name": "stdout",
     "output_type": "stream",
     "text": [
      "\n",
      "  1  8  3  9\n",
      "  7    12 13\n",
      " 14  5  4  6\n",
      " 10  2 15 11\n"
     ]
    },
    {
     "name": "stdin",
     "output_type": "stream",
     "text": [
      "a(좌) w(상) s(하) d(우) 0(종료)>  0\n"
     ]
    }
   ],
   "source": [
    "## [실습-과제] nxn 숫자 퍼즐 게임 만들기(7): 키보드로 방향키 값 받아 퍼즐 이동\n",
    "\n",
    "\n",
    "\n"
   ]
  },
  {
   "cell_type": "markdown",
   "id": "028ab50d-3e39-4d88-b9ce-b66fe52299b5",
   "metadata": {},
   "source": [
    "###### **(8) 퍼즐 완성 여부 판단**\n",
    "###### 2차원 배열 리스트 정렬이 완성되었는지 판단을 함수 호출로 해결하시오.\n",
    "###### > 전체 중에 0을 제외한 숫자가 모두 일치하는지 판단을 함수 호출로 해결  check_complete()\n",
    "###### > 정렬이 완성되었으면 1을 반환, 미완성이면 0을 반환\n",
    "###### > 키 입력 할 때마다 시도 횟수를 출력 \n",
    "###### >> 잘 못된 키 값이거나 이동할 수 없는 방향 값일 경우는 시도 횟수에서 제외 "
   ]
  },
  {
   "cell_type": "code",
   "execution_count": 61,
   "id": "ed4b366c-af73-4a61-b011-36008b28d1a9",
   "metadata": {},
   "outputs": [
    {
     "name": "stdout",
     "output_type": "stream",
     "text": [
      "\n",
      "  4  3 10  1\n",
      " 14 15 13  8\n",
      "  5 12  2  6\n",
      "  9 11     7\n",
      ">>아직 미완성\n"
     ]
    },
    {
     "name": "stdin",
     "output_type": "stream",
     "text": [
      "a(좌) w(상) s(하) d(우) 0(종료)>  0\n"
     ]
    }
   ],
   "source": [
    "## [실습-과제] nxn 숫자 퍼즐 게임 만들기(8): 퍼즐 완성 여부 판단\n",
    "\n",
    "\n",
    "\n"
   ]
  },
  {
   "cell_type": "markdown",
   "id": "f6cf5962-e291-4fbb-a682-1ad4f1477ab0",
   "metadata": {},
   "source": [
    "###### **(9) 시도 횟수 출력**\n",
    "###### 시도 횟수 카운트해서 출력하시오.\n",
    "###### > 키 입력 할 때마다 시도 횟수를 출력 \n",
    "###### >> 잘 못된 키 값이거나 이동할 수 없는 방향 값일 경우는 시도 횟수에서 제외 "
   ]
  },
  {
   "cell_type": "code",
   "execution_count": 63,
   "id": "04f15129-ac0b-4f1f-aebd-5ed0a499d29f",
   "metadata": {},
   "outputs": [
    {
     "name": "stdout",
     "output_type": "stream",
     "text": [
      "\n",
      " 14  9 13  2\n",
      " 11  8 10 12\n",
      "  3  7  5  1\n",
      "  6 15     4\n"
     ]
    },
    {
     "name": "stdin",
     "output_type": "stream",
     "text": [
      "[6] a(좌) w(상) s(하) d(우) 0(종료)>  0\n"
     ]
    }
   ],
   "source": [
    "## [실습-과제] nxn 숫자 퍼즐 게임 만들기(9): 시도 횟수 출력\n",
    "\n",
    "\n"
   ]
  },
  {
   "cell_type": "code",
   "execution_count": null,
   "id": "b4547008-3bca-4b5f-a1bb-7feccb6fd2c5",
   "metadata": {},
   "outputs": [],
   "source": []
  }
 ],
 "metadata": {
  "kernelspec": {
   "display_name": "Python 3 (ipykernel)",
   "language": "python",
   "name": "python3"
  },
  "language_info": {
   "codemirror_mode": {
    "name": "ipython",
    "version": 3
   },
   "file_extension": ".py",
   "mimetype": "text/x-python",
   "name": "python",
   "nbconvert_exporter": "python",
   "pygments_lexer": "ipython3",
   "version": "3.9.13"
  }
 },
 "nbformat": 4,
 "nbformat_minor": 5
}
