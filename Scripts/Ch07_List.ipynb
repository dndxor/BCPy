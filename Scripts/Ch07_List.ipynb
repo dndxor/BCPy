{
 "cells": [
  {
   "cell_type": "markdown",
   "id": "508d71ff-0f75-4ff0-98d4-a34b913e7029",
   "metadata": {},
   "source": [
    "# **Ch07 리스트**"
   ]
  },
  {
   "cell_type": "markdown",
   "id": "7ce78d51-8603-4eb7-801d-a65ada88491c",
   "metadata": {},
   "source": [
    "#### 많은 데이터를 간편하게 (동일 알고리즘으로) 다루기 위한 데이터 구조가 필요하다.\n",
    "##### > 파이썬에는 **리스트(List)** 와 **튜플(Tuple)** 이 있다.\n",
    "##### > 리스트나 튜플은 데이터 집단에 대한 대표 변수를 정하고\n",
    "##### > 각 데이터 항목에는 그 변수의 순서번호(index)로 접근하는 방식 사용"
   ]
  },
  {
   "cell_type": "markdown",
   "id": "72e27856-c1b1-4701-bfb0-8fac3db416c1",
   "metadata": {},
   "source": [
    "##### **리스트 자료형이 없으면**\n",
    "##### 데이터 수가 바뀌면 알고리즘도 바뀜\n",
    "##### > 알고리즘과 데이터가 종속되어 유지보수가 어려움"
   ]
  },
  {
   "cell_type": "code",
   "execution_count": 2,
   "id": "9c61c41b-d5d0-4658-88a2-0cb79acfe72b",
   "metadata": {},
   "outputs": [
    {
     "name": "stdout",
     "output_type": "stream",
     "text": [
      "379 75.8\n"
     ]
    }
   ],
   "source": [
    "## 성적 처리: 일반 변수를 활용\n",
    "scr1 = 78; scr2 = 85; scr3 = 68; scr4 = 90; scr5 = 58\n",
    "\n",
    "summ = scr1 + scr2 + scr3 + scr4 + scr5\n",
    "avg = summ / 5\n",
    "\n",
    "print(summ, avg)"
   ]
  },
  {
   "cell_type": "markdown",
   "id": "3ef234a3-0392-40ba-95db-27db150b4b62",
   "metadata": {},
   "source": [
    "### **리스트의 필요성**\n",
    "##### 학생이 10명이면 10개의 변수가 필요하고, 이름도 각각 다르게 만들어야 함\n",
    "##### 학생이 100명이라면? 저장할 값이 많아질수록 이런 방식으로 변수를 늘려가는 방법은 사용하기 어려워짐 → 변수를 묶어서 관리하는 리스트가 필요!\n",
    "##### 학생 n명의 성적을 동일 알고리즘으로 처리 하려면\n",
    "###### > 학생들의 성적 전체를 score 변수로 정하고, \n",
    "###### > 각 학생의 성적은 score의 순서번호(index)로 접근하면 가능 \n",
    "##### **데이터 수가 바뀌어도 알고리즘은 동일**\n",
    "###### > 데이터 수의 가변성은 리스트의 저장 순서인 인덱스를 사용하여 해결"
   ]
  },
  {
   "cell_type": "code",
   "execution_count": 3,
   "id": "ddf3cad3-31b6-4136-a601-4c1f1d1043d0",
   "metadata": {},
   "outputs": [
    {
     "name": "stdout",
     "output_type": "stream",
     "text": [
      "78\n",
      "85\n",
      "68\n",
      "90\n",
      "58\n"
     ]
    }
   ],
   "source": [
    "## 리스트 변수: index로 읽어내기\n",
    "alist = [78, 85, 68, 90, 58]  # 리스트 구조\n",
    "\n",
    "print(alist[0])\n",
    "print(alist[1])\n",
    "print(alist[2])\n",
    "print(alist[3])\n",
    "print(alist[4])"
   ]
  },
  {
   "cell_type": "code",
   "execution_count": 2,
   "id": "2aaf2f71-fc20-406d-9529-94115d6072fd",
   "metadata": {},
   "outputs": [
    {
     "name": "stdout",
     "output_type": "stream",
     "text": [
      "78\n",
      "85\n",
      "68\n",
      "90\n",
      "58\n"
     ]
    }
   ],
   "source": [
    "## 리스트 변수: range()로 읽어내기\n",
    "alist = [78, 85, 68, 90, 58]  # 리스트 구조\n",
    "\n",
    "len_item = len(alist)\n",
    "for i in range(len_item):\n",
    "    print(alist[i])"
   ]
  },
  {
   "cell_type": "code",
   "execution_count": 4,
   "id": "6d3920dd-0353-48b6-b7cc-49e09ef06ce6",
   "metadata": {},
   "outputs": [
    {
     "name": "stdout",
     "output_type": "stream",
     "text": [
      "78\n",
      "85\n",
      "68\n",
      "90\n",
      "58\n"
     ]
    }
   ],
   "source": [
    "## 리스트 변수: 리스트 항목을 직접 읽어내기\n",
    "alist = [78, 85, 68, 90, 58]  # 리스트 구조\n",
    "\n",
    "for x in alist:\n",
    "    print(x)"
   ]
  },
  {
   "cell_type": "markdown",
   "id": "b1c21747-cddc-4fb3-bf27-f368f410ab44",
   "metadata": {},
   "source": [
    "### **리스트의 구조**\n",
    "##### 리스트에 저장되는 각각의 데이터를 항목(item) 또는 원소(element)라고 하며\n",
    "##### 항목은 숫자나 문자, 다른 리스트 등 다양한 종류로 구성\n",
    "##### 리스트를 만드는 방법은 대괄호([ ])를 붙이고 항목 간에는 쉼표(,)로 구분해서 나열\n",
    "##### 각 항목은 순서대로 인덱스(index)라고 하는 번호가 정해지며 0부터 시작"
   ]
  },
  {
   "cell_type": "code",
   "execution_count": 4,
   "id": "fb4c24b6-6c5c-4351-99fb-3cdb424073da",
   "metadata": {},
   "outputs": [
    {
     "name": "stdout",
     "output_type": "stream",
     "text": [
      "379 75.8\n"
     ]
    }
   ],
   "source": [
    "## 성적 처리: 리스트 변수를 활용 > 총점, 평균 구하기\n",
    "alist = [78, 85, 68, 90, 58]  # 리스트 구조\n",
    "\n",
    "summ = 0\n",
    "len_item = len(alist)\n",
    "for i in range(len_item):\n",
    "    summ += alist[i]\n",
    "\n",
    "avg = summ / len_item\n",
    "\n",
    "print(summ, avg)"
   ]
  },
  {
   "cell_type": "code",
   "execution_count": 5,
   "id": "ddd45cf1-16a8-4249-a6d7-57bc36b45601",
   "metadata": {},
   "outputs": [
    {
     "name": "stdout",
     "output_type": "stream",
     "text": [
      "610 76.25\n"
     ]
    }
   ],
   "source": [
    "## 성적 처리: 리스트 변수를 활용 > 총점, 평균 구하기\n",
    "alist = [78, 85, 68, 90, 58, 66, 77, 88]  # 리스트 구조\n",
    "\n",
    "summ = 0\n",
    "len_item = len(alist)\n",
    "for i in range(len_item):\n",
    "    summ += alist[i]\n",
    "\n",
    "avg = summ / len_item\n",
    "\n",
    "print(summ, avg)"
   ]
  },
  {
   "cell_type": "markdown",
   "id": "6c5572d9-a80a-4891-8b17-844a8751ee31",
   "metadata": {},
   "source": [
    "#### **리스트(list)와 배열(array)의 구조 차이**\n",
    "##### 일반적인 프로그래밍 언어에서는 유사한 복수 개의 데이터를 관리하기 위해 배열 구조를 사용\n",
    "##### > **배열(Array)** 은 연속된 공간에 동일한 형식의 고정된 크기로 저장 관리를 함\n",
    "##### > **리스트(List)** 는 불연속 공간에 각 데이터 항목을 연결구조(linked list)로 저장 관리하기 때문에 데이터 항목의 삽입, 삭제가 용이하고, 각 항목의 데이터 형식이 달라도 됨"
   ]
  },
  {
   "cell_type": "code",
   "execution_count": null,
   "id": "ba452615-f03b-41f7-b609-a886b8eaf09a",
   "metadata": {},
   "outputs": [],
   "source": []
  },
  {
   "cell_type": "markdown",
   "id": "bc1dca7d-a904-47af-a418-1d351fc98f21",
   "metadata": {
    "tags": []
   },
   "source": [
    "#### **리스트 항목 초기화와 변경**"
   ]
  },
  {
   "cell_type": "markdown",
   "id": "6c542141-4eae-4490-94c5-c6448cb49cde",
   "metadata": {},
   "source": [
    "##### **값 나열로 초기화**"
   ]
  },
  {
   "cell_type": "code",
   "execution_count": 7,
   "id": "72603d7c-d888-4603-b905-2e9985dce6df",
   "metadata": {},
   "outputs": [
    {
     "name": "stdout",
     "output_type": "stream",
     "text": [
      "78\n",
      "85\n",
      "68\n",
      "90\n",
      "58\n"
     ]
    }
   ],
   "source": [
    "## 리스트 항목 초기화: 값 나열로 초기화\n",
    "alist = [78, 85, 68, 90, 58]  # 리스트 구조\n",
    "\n",
    "len_item = len(alist)\n",
    "for i in range(len_item):\n",
    "    print(alist[i])"
   ]
  },
  {
   "cell_type": "markdown",
   "id": "26ca165c-3b60-4c87-961d-ceb48e042d15",
   "metadata": {},
   "source": [
    "##### **빈 리스트 만들어 항목 추가: .append()**"
   ]
  },
  {
   "cell_type": "code",
   "execution_count": 8,
   "id": "c72f83eb-af13-45a2-8e1d-ea3855a3cf89",
   "metadata": {},
   "outputs": [
    {
     "name": "stdout",
     "output_type": "stream",
     "text": [
      "[78, 85, 68, 90, 58]\n"
     ]
    }
   ],
   "source": [
    "## 리스트 항목: 추가 .append()\n",
    "alist = []\n",
    "\n",
    "alist.append(78)\n",
    "alist.append(85)\n",
    "alist.append(68)\n",
    "alist.append(90)\n",
    "alist.append(58)\n",
    "\n",
    "print(alist)"
   ]
  },
  {
   "cell_type": "markdown",
   "id": "d86c4278-3bd5-41fb-93d0-680c2518b1ff",
   "metadata": {},
   "source": [
    "##### **리스트에 항목 삽입: .insert()**"
   ]
  },
  {
   "cell_type": "code",
   "execution_count": 9,
   "id": "0a113166-553a-4620-99b8-d7610bf8c017",
   "metadata": {},
   "outputs": [
    {
     "name": "stdout",
     "output_type": "stream",
     "text": [
      "[78, 85, 68, 90, 58]\n"
     ]
    }
   ],
   "source": [
    "## 리스트 항목: 삽입 .insert()\n",
    "alist = [78, 85, 68]\n",
    "\n",
    "alist.append(58)\n",
    "alist.insert(3, 90)\n",
    "\n",
    "print(alist)"
   ]
  },
  {
   "cell_type": "markdown",
   "id": "180ff235-aa1f-4a29-a190-c9ee9fed67b8",
   "metadata": {},
   "source": [
    "##### **리스트 항목: index 확인 .index()**"
   ]
  },
  {
   "cell_type": "code",
   "execution_count": 10,
   "id": "42f2f377-a8d8-4a99-8d97-8d64e9a2de2f",
   "metadata": {},
   "outputs": [
    {
     "data": {
      "text/plain": [
       "3"
      ]
     },
     "execution_count": 10,
     "metadata": {},
     "output_type": "execute_result"
    }
   ],
   "source": [
    "## 리스트 항목: index 확인\n",
    "alist = [78, 85, 68, 90, 58]  # 리스트 구조\n",
    "\n",
    "alist.index(90)"
   ]
  },
  {
   "cell_type": "markdown",
   "id": "2a7ce20e-f3c8-4682-ab03-77aaf6ed7e02",
   "metadata": {},
   "source": [
    "##### **리스트 항목: index로 값 변경**"
   ]
  },
  {
   "cell_type": "code",
   "execution_count": 11,
   "id": "59d44e84-e0bf-40ed-88dd-f5d8817398c5",
   "metadata": {},
   "outputs": [
    {
     "data": {
      "text/plain": [
       "[78, 85, 68, 99, 58]"
      ]
     },
     "execution_count": 11,
     "metadata": {},
     "output_type": "execute_result"
    }
   ],
   "source": [
    "## 리스트 항목: index 확인\n",
    "alist = [78, 85, 68, 90, 58]  # 리스트 구조\n",
    "\n",
    "alist[3] = 99\n",
    "alist"
   ]
  },
  {
   "cell_type": "markdown",
   "id": "b2d5b528-e07d-48c4-b60e-6efbc5cc8029",
   "metadata": {},
   "source": [
    "##### **리스트 항목: .remove()로 항목 제거**"
   ]
  },
  {
   "cell_type": "code",
   "execution_count": 12,
   "id": "6d0652df-d591-4971-974f-87abf84b1c54",
   "metadata": {},
   "outputs": [
    {
     "data": {
      "text/plain": [
       "[78, 85, 68, 58]"
      ]
     },
     "execution_count": 12,
     "metadata": {},
     "output_type": "execute_result"
    }
   ],
   "source": [
    "## 리스트 항목: .remove()로 항목 제거\n",
    "alist = [78, 85, 68, 90, 58]  # 리스트 구조\n",
    "\n",
    "alist.remove(90)\n",
    "alist"
   ]
  },
  {
   "cell_type": "markdown",
   "id": "5684a4d5-4e97-4834-8dbf-13f030b3f943",
   "metadata": {},
   "source": [
    "##### 리스트에서 특정 항목을 제거하면 그 뒤 항목들이 당겨져서 연결 리스트 유지\n",
    "###### > Linked List이기 때문에 가능"
   ]
  },
  {
   "cell_type": "code",
   "execution_count": null,
   "id": "bd689e2c-cd12-44d6-aaba-b109b4ca5647",
   "metadata": {},
   "outputs": [],
   "source": []
  },
  {
   "cell_type": "markdown",
   "id": "b4b4ffb8-57e7-42c7-bf2d-80d93e7e2abe",
   "metadata": {
    "tags": []
   },
   "source": [
    "### **리스트 항목 사용**"
   ]
  },
  {
   "cell_type": "markdown",
   "id": "c67a823c-25c0-492e-b150-a8315f79d716",
   "metadata": {},
   "source": [
    "##### **리스트 항목: index로 접근**"
   ]
  },
  {
   "cell_type": "code",
   "execution_count": 13,
   "id": "51f9b8d9-0c12-4dc5-abfa-bcaa8c748255",
   "metadata": {},
   "outputs": [
    {
     "name": "stdout",
     "output_type": "stream",
     "text": [
      "78\n",
      "85\n",
      "90\n"
     ]
    }
   ],
   "source": [
    "## 리스트 항목: index로 접근\n",
    "alist = [78, 85, 68, 90, 58]  # 리스트 구조\n",
    " \n",
    "print(alist[0])\n",
    "print(alist[1])\n",
    "print(alist[3])"
   ]
  },
  {
   "cell_type": "code",
   "execution_count": 14,
   "id": "936fa217-788b-471a-9a33-0bdf07435660",
   "metadata": {},
   "outputs": [
    {
     "name": "stdout",
     "output_type": "stream",
     "text": [
      "78\n",
      "85\n",
      "68\n",
      "90\n",
      "58\n"
     ]
    }
   ],
   "source": [
    "## 리스트 항목: index로 접근\n",
    "alist = [78, 85, 68, 90, 58]  # 리스트 구조\n",
    " \n",
    "for i in range(len(alist)):\n",
    "    print(alist[i])"
   ]
  },
  {
   "cell_type": "code",
   "execution_count": 15,
   "id": "39b53c70-a867-47f5-9447-c560a920e0d8",
   "metadata": {},
   "outputs": [
    {
     "name": "stdout",
     "output_type": "stream",
     "text": [
      "58\n",
      "90\n",
      "68\n"
     ]
    }
   ],
   "source": [
    "## 리스트 항목: index로 접근\n",
    "alist = [78, 85, 68, 90, 58]  # 리스트 구조\n",
    " \n",
    "print(alist[-1]) #맨 뒤에서 1번째\n",
    "print(alist[-2])\n",
    "print(alist[-3])"
   ]
  },
  {
   "cell_type": "markdown",
   "id": "92129399-775d-4ca0-a56a-d6b295a6924d",
   "metadata": {},
   "source": [
    "##### **리스트 항목: .pop()으로 접근**\n",
    "##### .pop()은 맨 뒤 항목을 추출 함. 추출된 항목은 리스트에서 제거\n",
    "###### > 맨 뒤 항목에 대해서만 적용"
   ]
  },
  {
   "cell_type": "code",
   "execution_count": 17,
   "id": "e1f27ef8-d7f6-45d5-b9ab-cb929fc71d77",
   "metadata": {},
   "outputs": [
    {
     "name": "stdout",
     "output_type": "stream",
     "text": [
      "58\n"
     ]
    },
    {
     "data": {
      "text/plain": [
       "[78, 85, 68, 90]"
      ]
     },
     "execution_count": 17,
     "metadata": {},
     "output_type": "execute_result"
    }
   ],
   "source": [
    "## 리스트 항목: .pop()으로 접근\n",
    "alist = [78, 85, 68, 90, 58]  # 리스트 구조\n",
    " \n",
    "a = alist.pop()  #맨 뒤 항목을 추출 함(추출된 항목은 리스트에서 제거)\n",
    "\n",
    "print(a)\n",
    "alist"
   ]
  },
  {
   "cell_type": "markdown",
   "id": "47ddb854-53ec-441b-98dd-a06be09022df",
   "metadata": {},
   "source": [
    "##### **리스트 항목: for ~ 반복문으로 접근**"
   ]
  },
  {
   "cell_type": "code",
   "execution_count": null,
   "id": "8add9ae2-b625-4b91-84f1-9ef2f2f70727",
   "metadata": {},
   "outputs": [
    {
     "name": "stdout",
     "output_type": "stream",
     "text": [
      "78\n",
      "85\n",
      "68\n",
      "90\n",
      "58\n"
     ]
    }
   ],
   "source": [
    "## 리스트 항목: for ~ 반복문으로 접근\n",
    "alist = [78, 85, 68, 90, 58]  # 리스트 구조\n",
    "\n",
    "len_item = len(alist)\n",
    "for i in range(len_item):\n",
    "    print(alist[i])"
   ]
  },
  {
   "cell_type": "code",
   "execution_count": 19,
   "id": "be1f3a75-8b3a-4637-a4e5-8edc2e20ecff",
   "metadata": {},
   "outputs": [
    {
     "name": "stdout",
     "output_type": "stream",
     "text": [
      "78\n",
      "85\n",
      "68\n",
      "90\n",
      "58\n"
     ]
    }
   ],
   "source": [
    "## 리스트 항목: for ~ 반복문으로 접근\n",
    "alist = [78, 85, 68, 90, 58]  # 리스트 구조\n",
    "\n",
    "for x in alist:\n",
    "    print(x)"
   ]
  },
  {
   "cell_type": "markdown",
   "id": "0e45beb2-775d-4b18-abfa-3e6c3b8cfab8",
   "metadata": {},
   "source": [
    "##### **리스트 항목: if ~ 선택문으로 항목 존재 확인**"
   ]
  },
  {
   "cell_type": "code",
   "execution_count": 6,
   "id": "2cc8f045-d7b9-4f1d-a190-1df05a4ddda9",
   "metadata": {},
   "outputs": [
    {
     "name": "stdout",
     "output_type": "stream",
     "text": [
      "True\n"
     ]
    }
   ],
   "source": [
    "## 리스트 항목: if ~ 선택문으로 항목 존재 확인\n",
    "alist = [78, 85, 68, 90, 58]  # 리스트 구조\n",
    "\n",
    "x = 90\n",
    "y = (x in alist)\n",
    "print(y)"
   ]
  },
  {
   "cell_type": "code",
   "execution_count": 9,
   "id": "cfb6a2a9-64e8-4b4b-ae1b-844bdd081c89",
   "metadata": {},
   "outputs": [
    {
     "name": "stdout",
     "output_type": "stream",
     "text": [
      "False\n"
     ]
    }
   ],
   "source": [
    "## 리스트 항목: if ~ 선택문으로 항목 존재 확인\n",
    "alist = [78, 85, 68, 90, 58]  # 리스트 구조\n",
    "\n",
    "x = 90\n",
    "y = x not in alist  # y = not(x in alist)\n",
    "print(y)"
   ]
  },
  {
   "cell_type": "code",
   "execution_count": 22,
   "id": "44298acb-438c-4ef3-b6b4-6109cf7f3d5a",
   "metadata": {},
   "outputs": [
    {
     "name": "stdout",
     "output_type": "stream",
     "text": [
      "3\n"
     ]
    }
   ],
   "source": [
    "## 리스트 항목: if ~ 선택문으로 항목 존재 확인\n",
    "alist = [78, 85, 68, 90, 58]  # 리스트 구조\n",
    "\n",
    "x = 90\n",
    "if x in alist:\n",
    "    print(alist.index(x))"
   ]
  },
  {
   "cell_type": "code",
   "execution_count": null,
   "id": "7d220e61-7b84-4c8b-8f44-b66a5b6759b7",
   "metadata": {},
   "outputs": [],
   "source": []
  },
  {
   "cell_type": "markdown",
   "id": "22e8036a-6860-4fed-ae8c-7a16b3a8e311",
   "metadata": {},
   "source": [
    "##### **키보드 입력으로 초기화: list()**\n",
    "###### > .split()는 문자열을 공벡을 분리자로 하여 문자열 분리하여 리스트로 반환"
   ]
  },
  {
   "cell_type": "code",
   "execution_count": 36,
   "id": "7a37f659-d457-47a8-af02-9cea7c994ac9",
   "metadata": {},
   "outputs": [
    {
     "name": "stdin",
     "output_type": "stream",
     "text": [
      "숫자 값 입력 후 Enter> 11\n",
      "숫자 값 입력 후 Enter> 22\n",
      "숫자 값 입력 후 Enter> 33\n"
     ]
    },
    {
     "data": {
      "text/plain": [
       "[11, 22, 33]"
      ]
     },
     "execution_count": 36,
     "metadata": {},
     "output_type": "execute_result"
    }
   ],
   "source": [
    "## 키보드 입력으로 초기화: 숫자 초기화, 갯수 지정\n",
    "alist = []\n",
    "\n",
    "for _ in range(3):\n",
    "    x = input(\"숫자 값 입력 후 Enter>\")\n",
    "    alist.append(int(x))\n",
    "\n",
    "alist                       "
   ]
  },
  {
   "cell_type": "code",
   "execution_count": 10,
   "id": "3d704bda-1776-496e-9509-9ed7e435c01c",
   "metadata": {},
   "outputs": [
    {
     "name": "stdin",
     "output_type": "stream",
     "text": [
      "숫자 값 입력 후 Enter> 11\n",
      "숫자 값 입력 후 Enter> 22\n",
      "숫자 값 입력 후 Enter> 33\n",
      "숫자 값 입력 후 Enter> \n"
     ]
    },
    {
     "data": {
      "text/plain": [
       "[11, 22, 33]"
      ]
     },
     "execution_count": 10,
     "metadata": {},
     "output_type": "execute_result"
    }
   ],
   "source": [
    "## 키보드 입력으로 초기화: 숫자 초기화, Enter 입력 시까지\n",
    "alist = []\n",
    "x = ' '\n",
    "while len(x) > 0:\n",
    "    x = input(\"숫자 값 입력 후 Enter>\")  #키보드 값은 문자형\n",
    "    if len(x) > 0:\n",
    "        alist.append(int(x))\n",
    "\n",
    "alist                       "
   ]
  },
  {
   "cell_type": "markdown",
   "id": "255cd12a-7f4f-40d9-9cbb-7af1a00a3f6e",
   "metadata": {},
   "source": [
    "###### **키보드 입력을 리스트로 저장**"
   ]
  },
  {
   "cell_type": "code",
   "execution_count": 15,
   "id": "aca3aba4-2df6-4ebe-aa57-688628a5b5c9",
   "metadata": {},
   "outputs": [
    {
     "name": "stdin",
     "output_type": "stream",
     "text": [
      "공백으로 분리된 값 입력 후 Enter> 11 22 33\n"
     ]
    },
    {
     "data": {
      "text/plain": [
       "['11', '22', '33']"
      ]
     },
     "execution_count": 15,
     "metadata": {},
     "output_type": "execute_result"
    }
   ],
   "source": [
    "## 키보드로 입력된 문자 분리하기 > 분리된 항목은 복수개 이므로 리스트형으로 저장\n",
    "alist = input(\"공백으로 분리된 값 입력 후 Enter>\").split()  #공백으로 분리\n",
    "\n",
    "alist"
   ]
  },
  {
   "cell_type": "code",
   "execution_count": 14,
   "id": "f0e5fd0d-1027-467f-8797-30085b5d5997",
   "metadata": {},
   "outputs": [
    {
     "name": "stdin",
     "output_type": "stream",
     "text": [
      "공백으로 분리된 숫자 값 입력 후 Enter> 11 22 33\n"
     ]
    },
    {
     "data": {
      "text/plain": [
       "[11, 22, 33]"
      ]
     },
     "execution_count": 14,
     "metadata": {},
     "output_type": "execute_result"
    }
   ],
   "source": [
    "## 키보드로 입력된 문자 분리하기 > 분리된 항목을 integer형으로 저장\n",
    "alist = list(int(x) for x in input(\"공백으로 분리된 숫자 값 입력 후 Enter>\").split())\n",
    "\n",
    "alist                       "
   ]
  },
  {
   "cell_type": "code",
   "execution_count": null,
   "id": "618f1844-5b67-4ba8-a883-851dc38b5dd0",
   "metadata": {},
   "outputs": [],
   "source": []
  },
  {
   "cell_type": "markdown",
   "id": "f163280d-c17a-48fa-bf41-157e90827866",
   "metadata": {},
   "source": [
    "### **리스트 슬라이싱**\n",
    "##### 리스트 항목의 index 범위를 지정하여 또 다른 리스트로 분리(slice)해 내는 방법"
   ]
  },
  {
   "cell_type": "markdown",
   "id": "286fb4bc-b1e2-4548-910a-e0701a6ed33a",
   "metadata": {},
   "source": [
    "##### **리스트 슬라이스 추출**\n",
    "###### > 슬라이스(항목 범위)로 추출된 결과는 항상 리스트로 반환"
   ]
  },
  {
   "cell_type": "code",
   "execution_count": 64,
   "id": "935daca7-1b37-4f58-a7ed-2a016938235b",
   "metadata": {},
   "outputs": [
    {
     "data": {
      "text/plain": [
       "[85, 68]"
      ]
     },
     "execution_count": 64,
     "metadata": {},
     "output_type": "execute_result"
    }
   ],
   "source": [
    "## 리스트 슬라이싱\n",
    "alist = [78, 85, 68, 90, 58]  # 리스트 구조\n",
    "\n",
    "alist[1:3]  #index 1에서 시작해서 index 3일 때 종료로 분리"
   ]
  },
  {
   "cell_type": "code",
   "execution_count": 65,
   "id": "b2fe4b10-dfdf-49cf-bb95-666a859cf3a9",
   "metadata": {},
   "outputs": [
    {
     "data": {
      "text/plain": [
       "[85]"
      ]
     },
     "execution_count": 65,
     "metadata": {},
     "output_type": "execute_result"
    }
   ],
   "source": [
    "## 리스트 슬라이싱\n",
    "alist = [78, 85, 68, 90, 58]  # 리스트 구조\n",
    "\n",
    "alist[1:2]  #index 1에서 시작해서 index 2일 때 종료로 분리"
   ]
  },
  {
   "cell_type": "code",
   "execution_count": 54,
   "id": "4df14010-a92e-4a5b-9b66-07618e0b4ea2",
   "metadata": {},
   "outputs": [
    {
     "data": {
      "text/plain": [
       "[78, 85, 68]"
      ]
     },
     "execution_count": 54,
     "metadata": {},
     "output_type": "execute_result"
    }
   ],
   "source": [
    "## 리스트 슬라이싱: 맨 앞 n개 분리\n",
    "alist = [78, 85, 68, 90, 58]  # 리스트 구조\n",
    "\n",
    "alist[:3]  #index 0에서 시작해서 3개 항목 분리"
   ]
  },
  {
   "cell_type": "code",
   "execution_count": 56,
   "id": "f8527efb-e1d2-4582-b901-e1f95921b8e9",
   "metadata": {},
   "outputs": [
    {
     "data": {
      "text/plain": [
       "[68, 90, 58]"
      ]
     },
     "execution_count": 56,
     "metadata": {},
     "output_type": "execute_result"
    }
   ],
   "source": [
    "## 리스트 슬라이싱: 맨 뒤 n개 분리\n",
    "alist = [78, 85, 68, 90, 58]  # 리스트 구조\n",
    "\n",
    "alist[-3:]  #맨 뒤에서 시작해서 3개 항목 분리"
   ]
  },
  {
   "cell_type": "code",
   "execution_count": 57,
   "id": "396d0a69-b26f-48b7-8678-8f855f119515",
   "metadata": {},
   "outputs": [
    {
     "data": {
      "text/plain": [
       "[78, 85, 68, 90, 58]"
      ]
     },
     "execution_count": 57,
     "metadata": {},
     "output_type": "execute_result"
    }
   ],
   "source": [
    "## 리스트 슬라이싱: 모두 분리 > deep copy 효과\n",
    "alist = [78, 85, 68, 90, 58]  # 리스트 구조\n",
    "\n",
    "blist = alist[:]  #맨 뒤에서 시작해서 3개 항목 분리\n",
    "blist"
   ]
  },
  {
   "cell_type": "markdown",
   "id": "21315f5f-41ca-47f1-959d-719bc17d0fc5",
   "metadata": {},
   "source": [
    "##### **리스트 슬라이스: 건너뛰기**"
   ]
  },
  {
   "cell_type": "code",
   "execution_count": 5,
   "id": "ab288a16-4640-4c09-a1cc-b20b4ecae658",
   "metadata": {
    "tags": []
   },
   "outputs": [
    {
     "data": {
      "text/plain": [
       "[78, 68, 58]"
      ]
     },
     "execution_count": 5,
     "metadata": {},
     "output_type": "execute_result"
    }
   ],
   "source": [
    "## 리스트 슬라이스: 건너뛰기\n",
    "alist = [78, 85, 68, 90, 58, 100]  # 리스트 구조\n",
    "\n",
    "blist = alist[::2] #앞에서 2개 주기로 건너뛰며 추출\n",
    "blist"
   ]
  },
  {
   "cell_type": "code",
   "execution_count": 8,
   "id": "b032b101-7d48-448f-889b-3eacd26484c7",
   "metadata": {
    "tags": []
   },
   "outputs": [
    {
     "data": {
      "text/plain": [
       "[100, 90, 85]"
      ]
     },
     "execution_count": 8,
     "metadata": {},
     "output_type": "execute_result"
    }
   ],
   "source": [
    "## 리스트 슬라이스: 건너뛰기\n",
    "alist = [78, 85, 68, 90, 58, 100]  # 리스트 구조\n",
    "\n",
    "blist = alist[::-2] #뒤에서 2개 주기로 건너뛰며 추출\n",
    "blist"
   ]
  },
  {
   "cell_type": "markdown",
   "id": "79d83643-d398-4f81-b6ce-e78987d5dc61",
   "metadata": {},
   "source": [
    "##### **리스트 슬라이스로 항목 변경**"
   ]
  },
  {
   "cell_type": "code",
   "execution_count": 58,
   "id": "a7aa52c8-2214-490e-a7b7-c7d8cd568f7e",
   "metadata": {
    "tags": []
   },
   "outputs": [
    {
     "data": {
      "text/plain": [
       "[78, 85, 68, 99, 100]"
      ]
     },
     "execution_count": 58,
     "metadata": {},
     "output_type": "execute_result"
    }
   ],
   "source": [
    "## 리스트 슬라이스 변경\n",
    "alist = [78, 85, 68, 90, 58]  # 리스트 구조\n",
    "\n",
    "alist[3:5] = [99, 100]  \n",
    "alist"
   ]
  },
  {
   "cell_type": "code",
   "execution_count": 60,
   "id": "94d3de6a-99eb-4414-8117-4b245e1b986c",
   "metadata": {},
   "outputs": [
    {
     "data": {
      "text/plain": [
       "[78, 85, 68, 99]"
      ]
     },
     "execution_count": 60,
     "metadata": {},
     "output_type": "execute_result"
    }
   ],
   "source": [
    "## 리스트 슬라이스 변경\n",
    "alist = [78, 85, 68, 90, 58]  # 리스트 구조\n",
    "\n",
    "alist[3:5] = [99]  \n",
    "alist"
   ]
  },
  {
   "cell_type": "markdown",
   "id": "c8ba8a04-ef67-4b00-a499-81b3459b312c",
   "metadata": {},
   "source": [
    "##### **리스트 슬라이스로 항목 제거**"
   ]
  },
  {
   "cell_type": "code",
   "execution_count": 62,
   "id": "43bec997-8694-48ac-80dd-0e447ffa69d5",
   "metadata": {
    "tags": []
   },
   "outputs": [
    {
     "data": {
      "text/plain": [
       "[78, 85, 68]"
      ]
     },
     "execution_count": 62,
     "metadata": {},
     "output_type": "execute_result"
    }
   ],
   "source": [
    "## 리스트 슬라이스 변경\n",
    "alist = [78, 85, 68, 90, 58]  # 리스트 구조\n",
    "\n",
    "alist[3:5] = []\n",
    "alist"
   ]
  },
  {
   "cell_type": "markdown",
   "id": "f35757e6-b316-4e64-9c5c-47c17be04013",
   "metadata": {},
   "source": [
    "###### del() 함수로 항목을 제거"
   ]
  },
  {
   "cell_type": "code",
   "execution_count": 63,
   "id": "1eb71f8e-d2d7-4735-8a7c-98e5c3151143",
   "metadata": {
    "tags": []
   },
   "outputs": [
    {
     "data": {
      "text/plain": [
       "[78, 85, 68]"
      ]
     },
     "execution_count": 63,
     "metadata": {},
     "output_type": "execute_result"
    }
   ],
   "source": [
    "## 리스트 슬라이스 변경\n",
    "alist = [78, 85, 68, 90, 58]  # 리스트 구조\n",
    "\n",
    "del(alist[3:5])\n",
    "alist"
   ]
  },
  {
   "cell_type": "code",
   "execution_count": null,
   "id": "01545949-ba7e-4fc2-917b-0f6e8667d821",
   "metadata": {},
   "outputs": [],
   "source": []
  },
  {
   "cell_type": "markdown",
   "id": "0b43c49a-d17b-445a-9f39-d8db2e20ddd8",
   "metadata": {},
   "source": [
    "### **리스트 조작 함수**\n",
    "##### **.sort()**\n",
    "##### 리스트 자체를 정렬(default는 ascending)"
   ]
  },
  {
   "cell_type": "code",
   "execution_count": 70,
   "id": "159d0290-49af-49d6-9607-4f5678217370",
   "metadata": {},
   "outputs": [
    {
     "data": {
      "text/plain": [
       "[58, 68, 78, 85, 90]"
      ]
     },
     "execution_count": 70,
     "metadata": {},
     "output_type": "execute_result"
    }
   ],
   "source": [
    "## 리스트 조작 함수: .sort()\n",
    "alist = [78, 85, 68, 90, 58]  # 리스트 구조\n",
    "\n",
    "alist.sort()  #리스트 자체를 정렬(default는 Ascending)\n",
    "alist"
   ]
  },
  {
   "cell_type": "code",
   "execution_count": 71,
   "id": "08dbc264-2ed9-4e1f-93d7-5d7edaf0fb75",
   "metadata": {
    "tags": []
   },
   "outputs": [
    {
     "data": {
      "text/plain": [
       "[90, 85, 78, 68, 58]"
      ]
     },
     "execution_count": 71,
     "metadata": {},
     "output_type": "execute_result"
    }
   ],
   "source": [
    "## 리스트 조작 함수: .sort()\n",
    "alist = [78, 85, 68, 90, 58]  # 리스트 구조\n",
    "\n",
    "alist.sort(reverse=True)  #리스트 자체를 정렬(default는 Ascending)\n",
    "alist"
   ]
  },
  {
   "cell_type": "markdown",
   "id": "57d11124-1768-4a87-91d8-f80415ace2bb",
   "metadata": {},
   "source": [
    "##### **sorted()**\n",
    "###### 리스트 정렬 결과만을 반환(default는 ascending), 자신은 원래 유지"
   ]
  },
  {
   "cell_type": "code",
   "execution_count": 72,
   "id": "50a2a4fe-067d-4e04-8496-b94b6701db55",
   "metadata": {},
   "outputs": [
    {
     "data": {
      "text/plain": [
       "[78, 85, 68, 90, 58]"
      ]
     },
     "execution_count": 72,
     "metadata": {},
     "output_type": "execute_result"
    }
   ],
   "source": [
    "## 리스트 조작 함수: .sort()\n",
    "alist = [78, 85, 68, 90, 58]  # 리스트 구조\n",
    "\n",
    "blist = sorted(alist)  #정렬 결과만을 반환\n",
    "alist"
   ]
  },
  {
   "cell_type": "code",
   "execution_count": 73,
   "id": "f15bc8a2-778d-4291-a488-1dbfe9479ec0",
   "metadata": {},
   "outputs": [
    {
     "data": {
      "text/plain": [
       "[58, 68, 78, 85, 90]"
      ]
     },
     "execution_count": 73,
     "metadata": {},
     "output_type": "execute_result"
    }
   ],
   "source": [
    "blist"
   ]
  },
  {
   "cell_type": "code",
   "execution_count": 75,
   "id": "57f13c49-accd-462e-be08-04efcfc24205",
   "metadata": {},
   "outputs": [
    {
     "data": {
      "text/plain": [
       "[90, 85, 78, 68, 58]"
      ]
     },
     "execution_count": 75,
     "metadata": {},
     "output_type": "execute_result"
    }
   ],
   "source": [
    "## 리스트 조작 함수: sorted()\n",
    "alist = [78, 85, 68, 90, 58]  # 리스트 구조\n",
    "\n",
    "blist = sorted(alist, reverse=True)  #정렬 결과만을 반환\n",
    "blist"
   ]
  },
  {
   "cell_type": "markdown",
   "id": "1bcb7c63-14b7-4bf8-bfc3-37b6bda8884a",
   "metadata": {},
   "source": [
    "##### **.reverse()**\n",
    "###### 리스트 항목 순서를 뒤집는다."
   ]
  },
  {
   "cell_type": "code",
   "execution_count": 77,
   "id": "9f281bb4-f481-4714-8187-d2e36ba75123",
   "metadata": {
    "tags": []
   },
   "outputs": [
    {
     "data": {
      "text/plain": [
       "[58, 90, 68, 85, 78]"
      ]
     },
     "execution_count": 77,
     "metadata": {},
     "output_type": "execute_result"
    }
   ],
   "source": [
    "## 리스트 조작 함수: .reverse()\n",
    "alist = [78, 85, 68, 90, 58]  # 리스트 구조\n",
    "\n",
    "alist.reverse()  #리스트 자체 항목 순서를 뒤집는다.\n",
    "alist"
   ]
  },
  {
   "cell_type": "markdown",
   "id": "153bed52-0165-4b25-8e18-1accd2ad6c81",
   "metadata": {},
   "source": [
    "##### **.count()**\n",
    "###### 리스트 항목에서 찾는 값의 갯수를 반환한다."
   ]
  },
  {
   "cell_type": "code",
   "execution_count": 79,
   "id": "7993d687-57cd-4e12-8786-6a340946cfdc",
   "metadata": {
    "tags": []
   },
   "outputs": [
    {
     "data": {
      "text/plain": [
       "1"
      ]
     },
     "execution_count": 79,
     "metadata": {},
     "output_type": "execute_result"
    }
   ],
   "source": [
    "## 리스트 조작 함수: .count()\n",
    "alist = [78, 85, 68, 90, 58]  # 리스트 구조\n",
    "\n",
    "alist.count(90)  #값의 갯수를 반환한다."
   ]
  },
  {
   "cell_type": "markdown",
   "id": "d6865eaa-7776-4276-85bc-8651ccd01fb6",
   "metadata": {},
   "source": [
    "##### **.extend()**\n",
    "###### 리스트 항목에 다른 리스트를 이어 붙힌다."
   ]
  },
  {
   "cell_type": "code",
   "execution_count": 85,
   "id": "74471589-3b21-4b90-b866-71d2e57a287a",
   "metadata": {
    "tags": []
   },
   "outputs": [
    {
     "data": {
      "text/plain": [
       "[78, 85, 68, 90, 58, 30, 40]"
      ]
     },
     "execution_count": 85,
     "metadata": {},
     "output_type": "execute_result"
    }
   ],
   "source": [
    "## 리스트 조작 함수: .extend()\n",
    "alist = [78, 85, 68, 90, 58]  # 리스트 구조\n",
    "blist = [30, 40]\n",
    "\n",
    "alist = alist + blist #리스트끼리 연결\n",
    "alist"
   ]
  },
  {
   "cell_type": "code",
   "execution_count": 86,
   "id": "8a0db168-ff97-4c8a-b5e4-545521e0b2d2",
   "metadata": {
    "tags": []
   },
   "outputs": [
    {
     "data": {
      "text/plain": [
       "[78, 85, 68, 90, 58, 30, 40]"
      ]
     },
     "execution_count": 86,
     "metadata": {},
     "output_type": "execute_result"
    }
   ],
   "source": [
    "## 리스트 조작 함수: .extend()\n",
    "alist = [78, 85, 68, 90, 58]  # 리스트 구조\n",
    "blist = [30, 40]\n",
    "\n",
    "alist.extend(blist)  #리스트를 이어 붙힌다.\n",
    "alist"
   ]
  },
  {
   "cell_type": "code",
   "execution_count": null,
   "id": "6a0a4f7a-aca9-4eee-8702-080bf79e9e15",
   "metadata": {},
   "outputs": [],
   "source": []
  },
  {
   "cell_type": "markdown",
   "id": "e15a1942-4094-4376-91d3-6fc2f731addb",
   "metadata": {},
   "source": [
    "### **다차원 리스트 사용**"
   ]
  },
  {
   "cell_type": "markdown",
   "id": "fe9caa93-2ee8-46c9-b43e-bf39b448c500",
   "metadata": {},
   "source": [
    "##### **일차원 리스트 초기화**"
   ]
  },
  {
   "cell_type": "code",
   "execution_count": 112,
   "id": "e89aa23f-523d-407d-aac2-e0709b0b41b0",
   "metadata": {},
   "outputs": [
    {
     "data": {
      "text/plain": [
       "[0, 0, 0, 0, 0]"
      ]
     },
     "execution_count": 112,
     "metadata": {},
     "output_type": "execute_result"
    }
   ],
   "source": [
    "## 다차원 리스트 초기화: \n",
    "arr = [0, 0, 0, 0, 0]   # 일차원 리스트 초기화\n",
    "\n",
    "arr"
   ]
  },
  {
   "cell_type": "code",
   "execution_count": 111,
   "id": "87b117f9-360d-4431-90fe-075cb6cdd19d",
   "metadata": {},
   "outputs": [
    {
     "data": {
      "text/plain": [
       "[0, 0, 0, 0, 0]"
      ]
     },
     "execution_count": 111,
     "metadata": {},
     "output_type": "execute_result"
    }
   ],
   "source": [
    "## 다차원 리스트 초기화: \n",
    "arr = [0]*5   # 일차원 리스트 초기화\n",
    "\n",
    "arr"
   ]
  },
  {
   "cell_type": "code",
   "execution_count": 110,
   "id": "983b2c4c-6fa0-49ba-b659-a42240275fec",
   "metadata": {},
   "outputs": [
    {
     "data": {
      "text/plain": [
       "[0, 0, 0, 0, 0]"
      ]
     },
     "execution_count": 110,
     "metadata": {},
     "output_type": "execute_result"
    }
   ],
   "source": [
    "## 다차원 리스트 초기화: for 반복문 사용\n",
    "arr = [0 for _ in range(5)]   # 일차원 리스트 초기화\n",
    "\n",
    "arr"
   ]
  },
  {
   "cell_type": "code",
   "execution_count": 109,
   "id": "d9da1933-1ab4-41bf-b107-e22c5725f4d5",
   "metadata": {},
   "outputs": [
    {
     "data": {
      "text/plain": [
       "[0, 1, 2, 3, 4]"
      ]
     },
     "execution_count": 109,
     "metadata": {},
     "output_type": "execute_result"
    }
   ],
   "source": [
    "## 다차원 리스트 초기화: for 반복문 사용\n",
    "arr = [i for i in range(5)]   # 일차원 리스트 초기화\n",
    "\n",
    "arr"
   ]
  },
  {
   "cell_type": "markdown",
   "id": "e4ce5a98-028f-4487-a40f-f022aae2e984",
   "metadata": {},
   "source": [
    "##### **다차원 리스트 초기화**"
   ]
  },
  {
   "cell_type": "code",
   "execution_count": 108,
   "id": "38dc1a1d-d5ad-4887-a2cb-e973837c5ad5",
   "metadata": {},
   "outputs": [
    {
     "data": {
      "text/plain": [
       "[[0, 0, 0], [0, 0, 0], [0, 0, 0]]"
      ]
     },
     "execution_count": 108,
     "metadata": {},
     "output_type": "execute_result"
    }
   ],
   "source": [
    "## 다차원 리스트 초기화\n",
    "arr = [[0, 0, 0], [0, 0, 0], [0, 0, 0]]   # 다차원 리스트 구조\n",
    "\n",
    "arr"
   ]
  },
  {
   "cell_type": "code",
   "execution_count": 16,
   "id": "a0d340ff-eeca-4d8d-b213-d3d206e6fd24",
   "metadata": {},
   "outputs": [
    {
     "data": {
      "text/plain": [
       "[[0, 0, 0, 0], [0, 0, 0, 0], [0, 0, 0, 0]]"
      ]
     },
     "execution_count": 16,
     "metadata": {},
     "output_type": "execute_result"
    }
   ],
   "source": [
    "## 다차원 리스트 초기화 >> 가급적 사용하지 말 것(이상현상 발생)\n",
    "row = 3; col = 4\n",
    "arr = [[0]*col]*row\n",
    "\n",
    "arr"
   ]
  },
  {
   "cell_type": "code",
   "execution_count": 17,
   "id": "eed32443-ea83-4eeb-a09b-b1b677e2b475",
   "metadata": {},
   "outputs": [
    {
     "data": {
      "text/plain": [
       "[[1, 2, 0, 0], [1, 2, 0, 0], [1, 2, 0, 0]]"
      ]
     },
     "execution_count": 17,
     "metadata": {},
     "output_type": "execute_result"
    }
   ],
   "source": [
    "## 다차원 리스트 초기화 >> 가급적 사용하지 말 것(이상현상 발생)\n",
    "row = 3; col = 4\n",
    "arr = [[0]*col]*row\n",
    "\n",
    "arr[0][0] = 1  #의도하지 않은 결과가 발생\n",
    "arr[1][1] = 2  #의도하지 않은 결과가 발생\n",
    "arr"
   ]
  },
  {
   "cell_type": "code",
   "execution_count": 18,
   "id": "5a66fabb-49b8-4d20-bde4-824e614aafaf",
   "metadata": {},
   "outputs": [
    {
     "data": {
      "text/plain": [
       "[[0, 0, 0, 0], [0, 0, 0, 0], [0, 0, 0, 0]]"
      ]
     },
     "execution_count": 18,
     "metadata": {},
     "output_type": "execute_result"
    }
   ],
   "source": [
    "## 다차원 리스트 초기화: for 반복문 사용\n",
    "row = 3; col = 4\n",
    "arr = [[0 for j in range(col)] for i in range(row)]\n",
    "\n",
    "arr"
   ]
  },
  {
   "cell_type": "code",
   "execution_count": 19,
   "id": "31a4571c-644f-49cb-936f-5313e458ff03",
   "metadata": {},
   "outputs": [
    {
     "data": {
      "text/plain": [
       "[[0, 0, 0, 0], [0, 0, 0, 0], [0, 0, 0, 0]]"
      ]
     },
     "execution_count": 19,
     "metadata": {},
     "output_type": "execute_result"
    }
   ],
   "source": [
    "## 다차원 리스트 초기화: for 반복문 사용\n",
    "row = 3; col = 4\n",
    "arr=[]  #1차원 리스트 생성\n",
    "\n",
    "for i in range(row):\n",
    "    temp = []     #열 생성\n",
    "    for j in range(col):\n",
    "        temp.append(0) #열 값 추가\n",
    "    arr.append(temp)   #1차원 리스트에 열 추가\n",
    "\n",
    "arr"
   ]
  },
  {
   "cell_type": "markdown",
   "id": "f6641a7f-4725-4c7e-bcd9-86a55cffd23b",
   "metadata": {},
   "source": [
    "#### **[연습] 2차원 리스트 초기화**\n",
    "##### 2차원 배열 리스트를 순서번호(index)로 초기화 하시오.\n",
    "###### > 행(row)와 열(col)의 크기는 키보드로 입력받아서 사용"
   ]
  },
  {
   "cell_type": "code",
   "execution_count": 136,
   "id": "80c6c3af-ef52-4769-aef0-ffcf28853194",
   "metadata": {},
   "outputs": [
    {
     "name": "stdin",
     "output_type": "stream",
     "text": [
      "행 개수는?  3\n",
      "열 개수는?  4\n"
     ]
    },
    {
     "data": {
      "text/plain": [
       "[[0, 1, 2, 3], [4, 5, 6, 7], [8, 9, 10, 11]]"
      ]
     },
     "execution_count": 136,
     "metadata": {},
     "output_type": "execute_result"
    }
   ],
   "source": [
    "## [실습] 2차원 리스트 초기화\n",
    "row = int(input(\"행 개수는? \"))\n",
    "col = int(input(\"열 개수는? \"))\n",
    "\n",
    "arr = [[col*i+j for j in range(col)] for i in range(row)]    # 0 대신 순번으로 초기화\n",
    "arr"
   ]
  },
  {
   "cell_type": "code",
   "execution_count": null,
   "id": "789a34cb-fa77-4e72-b93e-d46f994e53dc",
   "metadata": {},
   "outputs": [],
   "source": []
  },
  {
   "cell_type": "markdown",
   "id": "f71b1755-501b-4f0e-abcb-f8d78af74459",
   "metadata": {},
   "source": [
    "### **다차원 리스트 접근**"
   ]
  },
  {
   "cell_type": "markdown",
   "id": "7478f7b0-255c-4faf-9b65-9b459349c723",
   "metadata": {},
   "source": [
    "##### **index를 사용한 접근**"
   ]
  },
  {
   "cell_type": "code",
   "execution_count": 127,
   "id": "6e5c4014-879a-4e37-b7ff-a2c42a2b2de1",
   "metadata": {},
   "outputs": [
    {
     "data": {
      "text/plain": [
       "[[0, 3, 1], [6, 1, 0], [8, 3, 6], [6, 9, 7]]"
      ]
     },
     "execution_count": 127,
     "metadata": {},
     "output_type": "execute_result"
    }
   ],
   "source": [
    "## 다차원 리스트 접근: index를 사용\n",
    "alist = [[0, 3, 2], [6, 1, 0], [8, 3, 6], [6, 9, 7]]   # 다차원 리스트 구조\n",
    "\n",
    "alist[0][2] = 1\n",
    "alist"
   ]
  },
  {
   "cell_type": "code",
   "execution_count": 128,
   "id": "2b48734b-ebde-4092-9def-119f58b7f63c",
   "metadata": {},
   "outputs": [
    {
     "data": {
      "text/plain": [
       "[[0, 3, 2], [6, 1, 1], [8, 3, 6], [6, 9, 7]]"
      ]
     },
     "execution_count": 128,
     "metadata": {},
     "output_type": "execute_result"
    }
   ],
   "source": [
    "## 다차원 리스트 접근: index를 사용\n",
    "alist = [[0, 3, 2], [6, 1, 0], [8, 3, 6], [6, 9, 7]]   # 다차원 리스트 구조\n",
    "\n",
    "alist[1] = [6, 1, 1]\n",
    "alist"
   ]
  },
  {
   "cell_type": "markdown",
   "id": "a8fbd637-ece6-4c53-8151-cb18ce60e458",
   "metadata": {},
   "source": [
    "##### **index를 사용한 접근: for 반복문 사용**"
   ]
  },
  {
   "cell_type": "code",
   "execution_count": 129,
   "id": "4fd82af7-e994-4342-b17a-bbdd39967845",
   "metadata": {},
   "outputs": [
    {
     "name": "stdout",
     "output_type": "stream",
     "text": [
      "0 3 2 \n",
      "6 1 0 \n",
      "8 3 6 \n",
      "6 9 7 \n"
     ]
    }
   ],
   "source": [
    "## 다차원 리스트 접근: index를 사용\n",
    "alist = [[0, 3, 2], [6, 1, 0], [8, 3, 6], [6, 9, 7]]   # 다차원 리스트 구조\n",
    "\n",
    "row = len(alist)\n",
    "for i in range(row):\n",
    "    col = len(alist[i])\n",
    "    for j in range(col):\n",
    "        print(alist[i][j], end=' ')\n",
    "    print()"
   ]
  },
  {
   "cell_type": "markdown",
   "id": "5e0bb997-a709-4ad2-b93e-37347b187866",
   "metadata": {},
   "source": [
    "##### **항목에 직접 접근: for 반복문 사용**"
   ]
  },
  {
   "cell_type": "code",
   "execution_count": 124,
   "id": "f7a339dc-137d-45d5-921d-5175d072a1b6",
   "metadata": {},
   "outputs": [
    {
     "name": "stdout",
     "output_type": "stream",
     "text": [
      "[0, 3, 2]\n",
      "[6, 1, 0]\n",
      "[8, 3, 6]\n",
      "[6, 9, 7]\n"
     ]
    }
   ],
   "source": [
    "## 다차원 리스트 접근: for 반복문 사용\n",
    "alist = [[0, 3, 2], [6, 1, 0], [8, 3, 6], [6, 9, 7]]   # 다차원 리스트 구조\n",
    "\n",
    "for x in alist:\n",
    "    print(x)"
   ]
  },
  {
   "cell_type": "code",
   "execution_count": 131,
   "id": "92d26f52-53d6-4591-9b02-3a06cf4de29a",
   "metadata": {},
   "outputs": [
    {
     "name": "stdout",
     "output_type": "stream",
     "text": [
      "0 3 2 \n",
      "6 1 0 \n",
      "8 3 6 \n",
      "6 9 7 \n"
     ]
    }
   ],
   "source": [
    "## 다차원 리스트 접근: for 반복문 사용\n",
    "alist = [[0, 3, 2], [6, 1, 0], [8, 3, 6], [6, 9, 7]]   # 다차원 리스트 구조\n",
    "\n",
    "for x in alist:\n",
    "    for y in x:\n",
    "        print(y, end=' ')\n",
    "    print()"
   ]
  },
  {
   "cell_type": "markdown",
   "id": "d8cfe913-94dc-49c3-90c7-b7fec9217e05",
   "metadata": {},
   "source": [
    "###### **복합 자료형으로 구성된 다차원 리스트**"
   ]
  },
  {
   "cell_type": "code",
   "execution_count": 125,
   "id": "97ee794f-6578-4ecd-894f-7d7a11d1c4c9",
   "metadata": {},
   "outputs": [
    {
     "name": "stdout",
     "output_type": "stream",
     "text": [
      "['Eng', 78]\n",
      "['Kor', 85]\n",
      "['Math', 68]\n",
      "['Art', 90]\n",
      "['Sci', 58]\n"
     ]
    }
   ],
   "source": [
    "## 다차원 리스트 접근: for 반복문 사용\n",
    "alist = [['Eng', 78], ['Kor', 85], ['Math', 68], ['Art', 90], ['Sci', 58]]  # 다차원 리스트 구조\n",
    "\n",
    "for x in alist:\n",
    "    print(x)"
   ]
  },
  {
   "cell_type": "code",
   "execution_count": 132,
   "id": "7ca28d56-9d88-498a-8cab-40f8425fe9d5",
   "metadata": {},
   "outputs": [
    {
     "name": "stdout",
     "output_type": "stream",
     "text": [
      "Eng 78 \n",
      "Kor 85 \n",
      "Math 68 \n",
      "Art 90 \n",
      "Sci 58 \n"
     ]
    }
   ],
   "source": [
    "## 다차원 리스트 접근: for 반복문 사용\n",
    "alist = [['Eng', 78], ['Kor', 85], ['Math', 68], ['Art', 90], ['Sci', 58]]  # 다차원 리스트 구조\n",
    "\n",
    "for x in alist:\n",
    "    for y in x:\n",
    "        print(y, end=' ')\n",
    "    print()"
   ]
  },
  {
   "cell_type": "markdown",
   "id": "f99f9f0c-70ce-475e-993e-5dadbf4cb177",
   "metadata": {},
   "source": [
    "##### **리스트 Unpacking**\n",
    "###### Unpacking은 하나의 변수에 포함된 복수 개의 값들을 분리해서 읽어내는 방법"
   ]
  },
  {
   "cell_type": "code",
   "execution_count": 20,
   "id": "2d2ca8c4-4ddc-4459-9f8f-119e8fc90da4",
   "metadata": {},
   "outputs": [
    {
     "name": "stdout",
     "output_type": "stream",
     "text": [
      "0 3 2\n",
      "6 1 0\n",
      "8 3 6\n",
      "6 9 7\n"
     ]
    }
   ],
   "source": [
    "## 다차원 리스트 Unpacking\n",
    "alist = [[0, 3, 2], [6, 1, 0], [8, 3, 6], [6, 9, 7]]   # 다차원 리스트 구조\n",
    "\n",
    "for x in alist:\n",
    "    x1, x2, x3 = x  #Unpacking\n",
    "    print(x1, x2, x3)"
   ]
  },
  {
   "cell_type": "code",
   "execution_count": 21,
   "id": "a433d89c-9bdd-41e5-bf11-16892a2b610f",
   "metadata": {},
   "outputs": [
    {
     "name": "stdout",
     "output_type": "stream",
     "text": [
      "0 3 2\n",
      "6 1 0\n",
      "8 3 6\n",
      "6 9 7\n"
     ]
    }
   ],
   "source": [
    "## 다차원 리스트 Unpacking\n",
    "alist = [[0, 3, 2], [6, 1, 0], [8, 3, 6], [6, 9, 7]]   # 다차원 리스트 구조\n",
    "\n",
    "for x1, x2, x3 in alist:  #Unpacking\n",
    "    print(x1, x2, x3)"
   ]
  },
  {
   "cell_type": "code",
   "execution_count": 22,
   "id": "c0addaf4-17de-4b22-940b-8a2bbe7486ac",
   "metadata": {},
   "outputs": [
    {
     "name": "stdout",
     "output_type": "stream",
     "text": [
      "Eng 78\n",
      "Kor 85\n",
      "Math 68\n",
      "Art 90\n",
      "Sci 58\n"
     ]
    }
   ],
   "source": [
    "## 다차원 리스트 접근: for 반복문 사용\n",
    "alist = [['Eng', 78], ['Kor', 85], ['Math', 68], ['Art', 90], ['Sci', 58]]  # 다차원 리스트 구조\n",
    "\n",
    "for subject, scr in alist:\n",
    "    print(subject, scr)"
   ]
  },
  {
   "cell_type": "code",
   "execution_count": 23,
   "id": "8b20a703-f7fc-4a27-ad59-08d5773e9fea",
   "metadata": {},
   "outputs": [
    {
     "name": "stdout",
     "output_type": "stream",
     "text": [
      "Eng 78\n",
      "Kor 85\n",
      "Math 68\n",
      "Art 90\n",
      "Sci 58\n"
     ]
    }
   ],
   "source": [
    "## 다차원 리스트 접근:  Unpacking\n",
    "alist = [['Eng', 78], ['Kor', 85], ['Math', 68], ['Art', 90], ['Sci', 58]]  # 다차원 리스트 구조\n",
    "\n",
    "for x in alist:\n",
    "    subject, scr = x\n",
    "    print(subject, scr)"
   ]
  },
  {
   "cell_type": "code",
   "execution_count": null,
   "id": "c3688671-3bca-4d2b-ab00-aaaf240990c8",
   "metadata": {},
   "outputs": [],
   "source": []
  },
  {
   "cell_type": "markdown",
   "id": "0e23fbee-e4a5-4769-9a3b-9576a087ccfb",
   "metadata": {},
   "source": [
    "#### **[연습] 1차원 리스트에서 가장 작은 값 찾기**\n",
    "##### 1차원 리스트 항목 중에 가장 작은 값을 찾아 그 항목의 index와 값을 출력 하시오."
   ]
  },
  {
   "cell_type": "code",
   "execution_count": 24,
   "id": "fd909dc7-60e7-433a-9e4c-9c4293b5b676",
   "metadata": {},
   "outputs": [
    {
     "name": "stdout",
     "output_type": "stream",
     "text": [
      "[4, 3, 2, 6, 1, 0, 8, 3, 6, 6, 9, 7]\n",
      ">Min: [5] 0\n"
     ]
    }
   ],
   "source": [
    "## [연습] 1차원 리스트에서 가장 작은 값 찾기\n",
    "alist = [4, 3, 2, 6, 1, 0, 8, 3, 6, 6, 9, 7]\n",
    "print(alist)\n",
    "\n",
    "minx = 0    #최소값 항목 index 초기화\n",
    "for i in range(1, len(alist)):\n",
    "    if alist[i] < alist[minx]:\n",
    "        minx = i\n",
    "print(\">Min: [%d] %d\" %(minx, alist[minx]))"
   ]
  },
  {
   "cell_type": "markdown",
   "id": "dd670b3b-34ea-417f-9755-b4b7e5291579",
   "metadata": {},
   "source": [
    "#### **[연습] 1차원 리스트에서 가장 작은 값을 찾아 위치 바꾸기**\n",
    "##### 가장 작은 값을 찾아 그 항목과 0번째 값을 교환 하시오."
   ]
  },
  {
   "cell_type": "code",
   "execution_count": 26,
   "id": "a4c7a8cb-c3a1-42ec-bb9f-f7a2abb9fb9d",
   "metadata": {},
   "outputs": [
    {
     "name": "stdout",
     "output_type": "stream",
     "text": [
      "[4, 3, 2, 6, 1, 0, 8, 3, 6, 6, 9, 7]\n",
      "[0, 3, 2, 6, 1, 4, 8, 3, 6, 6, 9, 7]\n"
     ]
    }
   ],
   "source": [
    "## [연습] 1차원 리스트에서 가장 작은 값 찾기\n",
    "alist = [4, 3, 2, 6, 1, 0, 8, 3, 6, 6, 9, 7]\n",
    "print(alist)\n",
    "\n",
    "minx = 0    #최소값 항목 index 초기화\n",
    "for i in range(1, len(alist)):\n",
    "    if alist[i] < alist[minx]:\n",
    "        minx = i\n",
    "        \n",
    "alist[0], alist[minx] = alist[minx], alist[0]    #항목 교환 > 작은 값이 앞으로\n",
    "print(alist)"
   ]
  },
  {
   "cell_type": "markdown",
   "id": "156a0a5e-4845-4489-ad84-6ebd1fbd7157",
   "metadata": {},
   "source": [
    "#### **[실습] 1차원 리스트 오름차순 정렬: Selection Sort**\n",
    "##### Selection Sort는 가장 작은 값을 왼쪽부터 차례대로 배치(위치 확정)시키는 방법\n",
    "###### >가장 작은 값을 찾아 그 항목과 i번째 값과 교환 하는 것을 순차적으로 적용\n",
    "###### > i번째 순서 i는 0, 1, 2, … 순으로 옮겨가며 그 이하 항목에서 가장 작은 값을 찾아 i번째와 교환\n",
    "###### > 1차원 리스트의 값들은 키보드로 입력 받아 사용\n",
    "###### >> 공백 입력 때까지 입력 가능토록 함"
   ]
  },
  {
   "cell_type": "code",
   "execution_count": 1,
   "id": "2c7136f2-1c48-492e-945b-df425378bcd9",
   "metadata": {},
   "outputs": [
    {
     "name": "stdin",
     "output_type": "stream",
     "text": [
      ">공백으로 분리된 숫자 값 입력 후 Enter> 65 67 87 89 90 54 43 45 66 77 90\n"
     ]
    },
    {
     "name": "stdout",
     "output_type": "stream",
     "text": [
      "[65, 67, 87, 89, 90, 54, 43, 45, 66, 77, 90]\n",
      "[43, 45, 54, 65, 66, 67, 77, 87, 89, 90, 90]\n"
     ]
    }
   ],
   "source": [
    "## [실습] 1차원 리스트 오름차순 정렬: Selection Sort\n",
    "#키보두로 리스트 구성\n",
    "\n",
    "\n",
    "#Selection Sort (오름차 순)\n",
    "for pos in range(len(alist)):  #기준 index\n",
    "    minx = pos  #최소값 항목 index를 교환 기준값 index로 시작\n",
    "    for i in range(pos+1, len(alist)):\n",
    "        if alist[i] < alist[minx]:\n",
    "            minx = i\n",
    "    alist[pos], alist[minx] = alist[minx], alist[pos]    #항목 교환 > 작은 값이 앞으로\n",
    "print(alist)"
   ]
  },
  {
   "cell_type": "markdown",
   "id": "24d95ca0-a680-42e4-b447-00d6c5bcb581",
   "metadata": {},
   "source": [
    "#### **[실습-과제] 1차원 리스트 오름차순 정렬: Bubble Sort**\n",
    "##### Bubble Sort는 인접한 항목과 값을 비교하여 작은 값이 우측으로 가도록 교환하는 방법\n",
    "###### >인접한 항목과 값을 비교하여 작은 값이 우측으로 가도록 교환하는 방법을 반복\n",
    "###### >한 차례를 반복하면, 가장 우측 끝 항목부터 가장 작은 값이 자리를 잡는다.\n",
    "###### >이러한 과정을 좌측으로 하나씩 이동하면서 정렬 완성\n",
    "###### > 1차원 리스트의 값들은 키보드로 입력 받아 사용\n",
    "###### >> 공백 입력 때까지 입력 가능토록 함"
   ]
  },
  {
   "cell_type": "code",
   "execution_count": 3,
   "id": "c726693d-6507-4dcc-b40e-a682092524a2",
   "metadata": {},
   "outputs": [
    {
     "name": "stdin",
     "output_type": "stream",
     "text": [
      ">공백으로 분리된 숫자 값 입력 후 Enter> 45 56 67 89 90 98 87 65 45 34 56 77\n"
     ]
    },
    {
     "name": "stdout",
     "output_type": "stream",
     "text": [
      "[45, 56, 67, 89, 90, 98, 87, 65, 45, 34, 56, 77]\n",
      "[98, 90, 89, 87, 77, 67, 65, 56, 56, 45, 45, 34]\n"
     ]
    }
   ],
   "source": [
    "## [실습-과제] 1차원 리스트 오름차순 정렬: Bubble Sort (내림차 순)\n",
    "\n",
    "\n"
   ]
  },
  {
   "cell_type": "code",
   "execution_count": null,
   "id": "a03c3afa-faff-4894-a85e-72f167270064",
   "metadata": {},
   "outputs": [],
   "source": []
  },
  {
   "cell_type": "markdown",
   "id": "11ee7edb-5592-43bd-b3c5-40da8814e327",
   "metadata": {},
   "source": [
    "#### **[연습] 2차원 리스트로 1차원 리스트 만들기**\n",
    "###### 2차원 리스트의 각 항목을 차례대로 읽어서 1자원 리스트로 구성"
   ]
  },
  {
   "cell_type": "code",
   "execution_count": 31,
   "id": "2996400c-8746-4557-8a46-c9fb4f2c42d1",
   "metadata": {},
   "outputs": [
    {
     "name": "stdout",
     "output_type": "stream",
     "text": [
      "[[0, 3, 2], [6, 1, 0], [8, 3, 6], [6, 9, 7]]\n",
      "[0, 3, 2, 6, 1, 0, 8, 3, 6, 6, 9, 7]\n"
     ]
    }
   ],
   "source": [
    "## [연습] 2차원 리스트로 1차원 리스트 만들기\n",
    "alist = [[0, 3, 2], [6, 1, 0], [8, 3, 6], [6, 9, 7]]\n",
    "print(alist)\n",
    "\n",
    "arr = []\n",
    "for x in alist:\n",
    "    for y in x:\n",
    "        arr.append(y)\n",
    "print(arr)"
   ]
  },
  {
   "cell_type": "markdown",
   "id": "991fa468-a082-409d-9ad7-a2106e5c10e6",
   "metadata": {},
   "source": [
    "#### **[연습] 1차원 리스트로 2차원 리스트 만들기**\n",
    "###### 1차원 리스트의 각 항목을 열의 개수만큼 차례대로 읽어서 2자원 리스트로 구성"
   ]
  },
  {
   "cell_type": "code",
   "execution_count": 32,
   "id": "d93f937e-b3d2-40c1-b4e8-85c54224af2e",
   "metadata": {},
   "outputs": [
    {
     "name": "stdout",
     "output_type": "stream",
     "text": [
      "[1, 2, 3, 4, 5, 6, 7, 8, 9, 10, 11, 12]\n",
      "[[1, 2, 3], [4, 5, 6], [7, 8, 9], [10, 11, 12]]\n"
     ]
    }
   ],
   "source": [
    "## [연습] 1차원 리스트로 2차원 리스트 만들기 [A]\n",
    "alist = [1, 2, 3, 4, 5, 6, 7, 8, 9, 10, 11, 12]\n",
    "print(alist)\n",
    "row = 4;   col = 3\n",
    "\n",
    "arr = []\n",
    "for i in range(row):\n",
    "    temp = []\n",
    "    for j in range(col):\n",
    "        temp.append(alist[i*col+j])   #행 리스트를 만들기\n",
    "    arr.append(temp) #행 리스트를 추가하여 2차원 리스트 만들기\n",
    "print(arr)"
   ]
  },
  {
   "cell_type": "code",
   "execution_count": 33,
   "id": "ec13c249-23ed-4c6d-b1b4-7bcc16d91577",
   "metadata": {},
   "outputs": [
    {
     "name": "stdout",
     "output_type": "stream",
     "text": [
      "[1, 2, 3, 4, 5, 6, 7, 8, 9, 10, 11, 12]\n",
      "[[1, 2, 3], [4, 5, 6], [7, 8, 9], [10, 11, 12]]\n"
     ]
    }
   ],
   "source": [
    "## [연습] 1차원 리스트로 2차원 리스트 만들기 [B]\n",
    "alist = [1, 2, 3, 4, 5, 6, 7, 8, 9, 10, 11, 12]\n",
    "print(alist)\n",
    "row = 4;   col = 3\n",
    "\n",
    "arr = []\n",
    "for i in range(0, len(alist), col):\n",
    "    arr.append(alist[i:i+col])   #범위 리스트를 추가하기\n",
    "print(arr)"
   ]
  },
  {
   "cell_type": "code",
   "execution_count": null,
   "id": "173c59e1-6cd9-4517-b9db-19270e36fbd1",
   "metadata": {},
   "outputs": [],
   "source": []
  },
  {
   "cell_type": "markdown",
   "id": "5f99293a-b3eb-47a0-ba42-f1419fc577b1",
   "metadata": {},
   "source": [
    "#### **[연습] 랜덤한 값으로 1차원 리스트 초기화 하기**\n",
    "##### 1차원 배열 리스트를 중복 없는 랜덤한 값으로 초기화 하시오.\n",
    "###### > 선택된 랜덤 수를 저장할 리스트의 크기는 3\n",
    "###### > 선택되는 중복없는 랜덤 수는 0~9 중에 선택"
   ]
  },
  {
   "cell_type": "markdown",
   "id": "67310450-73dc-4158-8a4a-c61d42ac9b85",
   "metadata": {},
   "source": [
    "###### **random.sample(arr, n)** 는 씨드 리스트 arr에서 중복없이 n개 선택"
   ]
  },
  {
   "cell_type": "code",
   "execution_count": 34,
   "id": "67707b96-1fe8-4ea6-8e9a-1f940dfbb76d",
   "metadata": {},
   "outputs": [
    {
     "name": "stdout",
     "output_type": "stream",
     "text": [
      "[5, 1, 4]\n"
     ]
    }
   ],
   "source": [
    "## [연습] 랜덤한 값으로 1차원 리스트 초기화 하기\n",
    "import random\n",
    "\n",
    "arr = [0, 1, 2, 3, 4, 5, 6, 7, 8, 9]   #씨드 리스트\n",
    "n = 3\n",
    "randarr = random.sample(arr, n)    #씨드 리스트에서 중복없이 3개 선택\n",
    "print(randarr)"
   ]
  },
  {
   "cell_type": "markdown",
   "id": "0a3bc599-240e-4df0-a96e-0ec0140df756",
   "metadata": {},
   "source": [
    "#### **[연습] 랜덤한 값으로 2차원 리스트 초기화 하기**\n",
    "##### 2차원 배열 리스트를 중복 없는 랜덤한 값으로 초기화 하시오.\n",
    "###### > 행(row)과 열(col)의 크기는 키보드로 입력 받아서 사용\n",
    "###### > 초기화 값은 0부터 시작하는 랜덤 수(중복 없이) 사용\n",
    "###### > arr[row*col]을 랜덤하게 만들어놓고, arr[]을 randarr[][]에 복사하는 방법 사용\n",
    "###### **random.shuffle(arr)** 는 리스트를 랜덤순으로 썩음(재정렬)"
   ]
  },
  {
   "cell_type": "code",
   "execution_count": 36,
   "id": "6fd21b71-6cd9-44b4-a26f-0329330500fc",
   "metadata": {},
   "outputs": [
    {
     "name": "stdin",
     "output_type": "stream",
     "text": [
      "행 개수는?  3\n",
      "열 개수는?  4\n"
     ]
    },
    {
     "name": "stdout",
     "output_type": "stream",
     "text": [
      "[4, 1, 2, 0, 11, 9, 8, 7, 10, 5, 3, 6]\n"
     ]
    }
   ],
   "source": [
    "## [연습] 랜덤한 값으로 2차원 리스트 초기화 하기: 랜덤한 1차원 리스트 만들기\n",
    "import random\n",
    "row = int(input(\"행 개수는? \"))\t\n",
    "col = int(input(\"열 개수는? \"))\t\n",
    "\n",
    "## 1차원 씨드(seed) 리스트 생성\n",
    "arr = [i for i in range(row*col)]   #씨드 리스트 초기화(오름차순)\n",
    "\n",
    "arr = random.sample(arr, row*col)   #씨드 리스트 재정렬(랜덤순)\n",
    "#random.shuffle(arr)               #씨드 리스트 재정렬(랜덤순)\n",
    "\n",
    "print(arr)"
   ]
  },
  {
   "cell_type": "code",
   "execution_count": 37,
   "id": "6d8f0ea3-7a15-4e12-8511-c18c4057d19e",
   "metadata": {},
   "outputs": [
    {
     "name": "stdout",
     "output_type": "stream",
     "text": [
      "[[4, 1, 2, 0], [11, 9, 8, 7], [10, 5, 3, 6]]\n"
     ]
    }
   ],
   "source": [
    "## [연습] 랜덤한 값으로 2차원 리스트 초기화 하기: 1차원 리스트로 2차원 리스트 만들기\n",
    "randarr = []\n",
    "for i in range(0, len(arr), col):\n",
    "    randarr.append(arr[i:i+col])\n",
    "\n",
    "print(randarr)"
   ]
  },
  {
   "cell_type": "code",
   "execution_count": null,
   "id": "ea0dc44e-1be5-4bc9-98fa-cec610371c51",
   "metadata": {},
   "outputs": [],
   "source": []
  },
  {
   "cell_type": "markdown",
   "id": "8d622cc5-6257-4857-a268-4910d8eeb8fe",
   "metadata": {},
   "source": [
    "#### **[실습-과제] 숫자 야구 게임**\n",
    "##### 랜덤한 3자리 숫자 맞추기 게임을 완성하시오.\n",
    "###### > 랜덤한 3자리 정수(1~999) 발생, 단 각 자리 수의 값은 같으면 안됨\n",
    "###### > 게이머는 추측하는 3자리 값을 키보드로 입력 (맞출 떄까지)\n",
    "###### >> 각 위치(digit)에서 값이 같으면 Strike, 값은 존재하나 위치가 다르면 Ball로 처리\n",
    "###### >> 매회 “>>%d Strike, %d Ball”로 결과 제공\n",
    "###### > 게임 종료 조건 : 3 Strike 또는 입력 값 00"
   ]
  },
  {
   "cell_type": "markdown",
   "id": "d01bb3d9-e13a-4725-aa53-6367f3ec2a24",
   "metadata": {},
   "source": [
    "###### **(1) 3자리 난수 리스트 생성**"
   ]
  },
  {
   "cell_type": "code",
   "execution_count": 39,
   "id": "b0ed1379-6f1d-4260-9821-982749fa30f7",
   "metadata": {},
   "outputs": [
    {
     "name": "stdout",
     "output_type": "stream",
     "text": [
      "[8, 7, 6]\n"
     ]
    }
   ],
   "source": [
    "## [실습-과제] 숫자 야구 게임: 3자리 난수 리스트 생성\n",
    "import random\n",
    "\n",
    "arr = [0, 1, 2, 3, 4, 5, 6, 7, 8, 9]     #씨드 리스트 > 중복방지 난수 발생용 \n",
    "randarr = random.sample(arr, 3)          #난수 리스트 > 랜덤 샘플링\n",
    "\n",
    "print(randarr)"
   ]
  },
  {
   "cell_type": "markdown",
   "id": "0350ed1f-0369-46bc-afcd-1136d6a5f0d0",
   "metadata": {},
   "source": [
    "###### **(2) 3자리 숫자 입력 > 리스트 구성**\n",
    "###### 예측되는 세자리 난수 값을 입력을 받아 리스트(inger)로 구성\n",
    "###### > 각 자리 수를 분리하여 리스트로 구성 > 예) 123 입력은 [1, 2, 3] 리스트로 구성\n",
    "###### > 0이 입력되면 게임 종료 처리"
   ]
  },
  {
   "cell_type": "code",
   "execution_count": 42,
   "id": "e8b04a16-ffe4-4afa-9ab1-74eda7d1d2a1",
   "metadata": {},
   "outputs": [
    {
     "name": "stdout",
     "output_type": "stream",
     "text": [
      "[7, 3, 2]\n"
     ]
    },
    {
     "name": "stdin",
     "output_type": "stream",
     "text": [
      ">>정수(1~999; esc 00) 입력:  123\n"
     ]
    },
    {
     "name": "stdout",
     "output_type": "stream",
     "text": [
      "[1, 2, 3]\n"
     ]
    },
    {
     "name": "stdin",
     "output_type": "stream",
     "text": [
      ">>정수(1~999; esc 00) 입력:  0\n"
     ]
    }
   ],
   "source": [
    "## [실습-과제] 숫자 야구 게임: ineger 리스트 사용\n",
    "import random\n",
    "\n",
    "arr = [0, 1, 2, 3, 4, 5, 6, 7, 8, 9]     #씨드 리스트 > 중복방지 난수 발생용 \n",
    "randarr = random.sample(arr, 3)          #난수 리스트 > 랜덤 샘플링\n",
    "print(randarr)\n",
    "\n",
    "guessarr = [0, 0, 0] #3자리 추측 리스트\n",
    "\n",
    "while True :  #게임 시작\n",
    "    innum = int(input(\">>정수(1~999; esc 00) 입력: \"))\n",
    "    if innum == 0:\n",
    "        break\n",
    "    #입력된 3자리 숫자에서 각 단위 자리수를 추출하는 스플릿 과정 필요\n",
    "\n",
    "    \n",
    "    \n",
    "    \n",
    "    \n",
    "    print(guessarr)"
   ]
  },
  {
   "cell_type": "markdown",
   "id": "660aa48a-f264-457c-a288-0e3c89c5aa57",
   "metadata": {},
   "source": [
    "###### **(3) Strike, Ball 판정**\n",
    "###### 난수 리스트와 입력 리스 값을 비교하여 Strike 또는 Ball 판정\n",
    "###### > 같은 위치에서 일치하면 Strike, 다른 위치에 존재하면 Ball 판정\n",
    "###### > Strike, Ball 숫자 출력\n",
    "###### 만약 strike = 3이면 \">>OK!\" 출력 후 종료"
   ]
  },
  {
   "cell_type": "code",
   "execution_count": 43,
   "id": "b72e1e1d-8ed5-44c9-b9d4-b2c18bb036d6",
   "metadata": {},
   "outputs": [
    {
     "name": "stdout",
     "output_type": "stream",
     "text": [
      "[2, 3, 7]\n"
     ]
    },
    {
     "name": "stdin",
     "output_type": "stream",
     "text": [
      ">>정수(1~999; esc 00) 입력:  123\n"
     ]
    },
    {
     "name": "stdout",
     "output_type": "stream",
     "text": [
      "[1] 0 Strike  2 Ball \n"
     ]
    },
    {
     "name": "stdin",
     "output_type": "stream",
     "text": [
      ">>정수(1~999; esc 00) 입력:  456\n"
     ]
    },
    {
     "name": "stdout",
     "output_type": "stream",
     "text": [
      "[2] 0 Strike  0 Ball \n"
     ]
    },
    {
     "name": "stdin",
     "output_type": "stream",
     "text": [
      ">>정수(1~999; esc 00) 입력:  789\n"
     ]
    },
    {
     "name": "stdout",
     "output_type": "stream",
     "text": [
      "[3] 0 Strike  1 Ball \n"
     ]
    },
    {
     "name": "stdin",
     "output_type": "stream",
     "text": [
      ">>정수(1~999; esc 00) 입력:  723\n"
     ]
    },
    {
     "name": "stdout",
     "output_type": "stream",
     "text": [
      "[4] 0 Strike  3 Ball \n"
     ]
    },
    {
     "name": "stdin",
     "output_type": "stream",
     "text": [
      ">>정수(1~999; esc 00) 입력:  237\n"
     ]
    },
    {
     "name": "stdout",
     "output_type": "stream",
     "text": [
      "[5] 3 Strike  0 Ball \n",
      ">>OK!\n"
     ]
    }
   ],
   "source": [
    "## [실습-과제] 숫자 야구 게임: ineger 리스트 사용\n",
    "import random\n",
    "\n",
    "arr = [0, 1, 2, 3, 4, 5, 6, 7, 8, 9]     #중복방지 난수 발생용 씨드\n",
    "randarr = random.sample(arr, 3)  #3자리 난수 리스트 랜덤 샘플링\n",
    "print(randarr)\n",
    "\n",
    "guessarr = [0, 0, 0] #3자리 추측 리스트\n",
    "strike = 0; ball = 0  \n",
    "bcnt = 0    #시도 횟수\n",
    "\n",
    "while True :\n",
    "    bcnt += 1\n",
    "    strike = 0;     ball = 0\n",
    "    innum = int(input(\">>정수(1~999; esc 00) 입력: \"))\n",
    "    if innum == 0:\n",
    "        break\n",
    "    #입력된 3자리 숫자에서 각 단위 자리수를 추출하는 스플릿 과정 필요\n",
    "\n",
    "    \n",
    "    \n",
    "    \n",
    "    \n",
    "    \n",
    "    \n",
    "    \n",
    "    print(\"[%d] %d Strike  %d Ball \" %(bcnt, strike, ball))\n",
    "    \n",
    "    if strike == 3:\n",
    "        print(\">>OK!\")\n",
    "        break"
   ]
  },
  {
   "cell_type": "code",
   "execution_count": null,
   "id": "610be9db-cf15-4da2-b05e-139b921a1baa",
   "metadata": {},
   "outputs": [],
   "source": []
  },
  {
   "cell_type": "markdown",
   "id": "2e90c78f-5030-4df8-8fc3-99751ac89008",
   "metadata": {},
   "source": [
    "###### **숫자 야구 게임을 Character 리스트를 사용하여 해결**"
   ]
  },
  {
   "cell_type": "code",
   "execution_count": 10,
   "id": "77f0252f-20de-4556-bc1c-46bc3ba3dd36",
   "metadata": {},
   "outputs": [
    {
     "name": "stdout",
     "output_type": "stream",
     "text": [
      "['9', '6', '3']\n"
     ]
    },
    {
     "name": "stdin",
     "output_type": "stream",
     "text": [
      ">>정수(1~999; esc 00) 입력:  123\n"
     ]
    },
    {
     "name": "stdout",
     "output_type": "stream",
     "text": [
      "[1] 1 Strike  0 Ball \n"
     ]
    },
    {
     "name": "stdin",
     "output_type": "stream",
     "text": [
      ">>정수(1~999; esc 00) 입력:  456\n"
     ]
    },
    {
     "name": "stdout",
     "output_type": "stream",
     "text": [
      "[2] 0 Strike  1 Ball \n"
     ]
    },
    {
     "name": "stdin",
     "output_type": "stream",
     "text": [
      ">>정수(1~999; esc 00) 입력:  789\n"
     ]
    },
    {
     "name": "stdout",
     "output_type": "stream",
     "text": [
      "[3] 0 Strike  1 Ball \n"
     ]
    },
    {
     "name": "stdin",
     "output_type": "stream",
     "text": [
      ">>정수(1~999; esc 00) 입력:  936\n"
     ]
    },
    {
     "name": "stdout",
     "output_type": "stream",
     "text": [
      "[4] 1 Strike  2 Ball \n"
     ]
    },
    {
     "name": "stdin",
     "output_type": "stream",
     "text": [
      ">>정수(1~999; esc 00) 입력:  963\n"
     ]
    },
    {
     "name": "stdout",
     "output_type": "stream",
     "text": [
      "[5] 3 Strike  0 Ball \n",
      ">>OK!\n"
     ]
    }
   ],
   "source": [
    "## [실습-과제] 숫자 야구 게임: Character 리스트 사용\n",
    "import random\n",
    "\n",
    "arr = ['0', '1', '2', '3', '4', '5', '6', '7', '8', '9']     #중복방지 난수 발생용 씨드\n",
    "randarr = random.sample(arr, 3)  #3자리 난수 리스트 랜덤 샘플링\n",
    "print(randarr)\n",
    "\n",
    "guessarr = ['0','0', '0'] #3자리 추측 리스트\n",
    "strike = 0; ball = 0  \n",
    "bcnt = 0    #시도 횟수\n",
    "\n",
    "while True :\n",
    "    bcnt += 1\n",
    "    strike = 0;     ball = 0\n",
    "    guessarr = input(\">>정수(1~999; esc 00) 입력: \")\n",
    "    if guessarr[0] == guessarr[1]:\n",
    "        break    \n",
    "    for i in range(3):\n",
    "        if guessarr[i] in randarr:\n",
    "            if guessarr[i] == randarr[i]:\n",
    "                strike += 1\n",
    "            else:\n",
    "                ball += 1\n",
    "    print(\"[%d] %d Strike  %d Ball \" %(bcnt, strike, ball))\n",
    "    \n",
    "    if strike == 3:\n",
    "        print(\">>OK!\")\n",
    "        break"
   ]
  },
  {
   "cell_type": "code",
   "execution_count": null,
   "id": "73081271-23db-41dd-bb16-8cd1afc5af02",
   "metadata": {},
   "outputs": [],
   "source": []
  },
  {
   "cell_type": "markdown",
   "id": "b3c3c2d3-3d42-476e-a588-89b1e8c09128",
   "metadata": {},
   "source": [
    "#### **[실습-과제] nxn 숫자 퍼즐 게임 만들기**\n",
    "##### 다음과 같은 숫자 퍼즐 정렬하기 게임을 완성 하시오.\n",
    "###### > 퍼즐의 크기는 키보드로 입력 받음 > 정방형으로 사용\n",
    "###### > 잘 못된 키 값('a', 'w', 's', 'd' 이외)이 입력되면 \"??잘못된 키 값입니다!\"를 출력\n",
    "###### > 이동할 수 없는 방향 값이 입력되면 ＂!!잘못된 이동입니다!\"를 출력\n",
    "###### > 퍼즐 정렬이 완성되면 \"%d번만에 성공하였습니다.\"를 출력하고 종료\n",
    "###### > 현제 시도 횟 수를 하단에 표시 \n",
    "###### >> 잘 못된 키 값이거나 이동할 수 없는 방향 값일 경우는 시도 횟수에서 제외 "
   ]
  },
  {
   "cell_type": "markdown",
   "id": "f33697d9-e244-457c-9f23-8832cfb59cc0",
   "metadata": {},
   "source": [
    "###### **(1) 랜덤한 2차원 숫자 리스트 초기화**\n",
    "###### > 퍼즐의 크기는 키보드로 입력 받음 > 정방형으로 사용"
   ]
  },
  {
   "cell_type": "code",
   "execution_count": 48,
   "id": "c782c621-f034-43b1-a9d3-29aa7d9e1a46",
   "metadata": {},
   "outputs": [
    {
     "name": "stdin",
     "output_type": "stream",
     "text": [
      "열 개수는?  4\n"
     ]
    },
    {
     "name": "stdout",
     "output_type": "stream",
     "text": [
      "[[12, 14, 0, 4], [6, 1, 8, 13], [10, 3, 2, 9], [7, 5, 11, 15]]\n"
     ]
    }
   ],
   "source": [
    "## [실습-과제] nxn 숫자 퍼즐 게임 만들기(1): 랜덤한 2차원 숫자 리스트 초기화\n",
    "import random\n",
    "\n",
    "##전역약변수 정의\n",
    "col = int(input(\"열 개수는? \"))\n",
    "row = col\n",
    "puzzle = []  #숫자 퍼즐 리스트\n",
    "\n",
    "# 퍼즐 리스트 난수 초기화\n",
    "arr = [i for i in range(row*col)]\n",
    "arr = random.sample(arr, row*col)\n",
    "\n",
    "for i in range(0, len(arr), col):\n",
    "    puzzle.append(arr[i:i+col])\n",
    "    \n",
    "print(puzzle)"
   ]
  },
  {
   "cell_type": "markdown",
   "id": "80f93ea8-5e2b-4851-8805-dd7c3d57cc75",
   "metadata": {},
   "source": [
    "###### **(2) 2차원 숫자 리스트를 2차원으로 출력**"
   ]
  },
  {
   "cell_type": "code",
   "execution_count": 47,
   "id": "fd18c39d-37f9-4ff6-bbc4-6a3b1c02850a",
   "metadata": {},
   "outputs": [
    {
     "name": "stdout",
     "output_type": "stream",
     "text": [
      "  6 14  3  1\n",
      " 15     2 11\n",
      "  7 12 10  4\n",
      "  5  8  9 13\n"
     ]
    }
   ],
   "source": [
    "## [실습-과제] nxn 숫자 퍼즐 게임 만들기(2): 2차원 숫자 리스트를 2차원으로 출력\n",
    "\n",
    "for i in range(row) :\n",
    "    for j in range(col) :\n",
    "        if puzzle[i][j] == 0 :\n",
    "            print(\"%3s\" %\"   \", end = \"\")\n",
    "        else :\n",
    "            print(\"%3s\" %str(puzzle[i][j]), end = \"\")\n",
    "    print()"
   ]
  },
  {
   "cell_type": "markdown",
   "id": "0e29da58-8b05-4141-b946-f93dd36f2f03",
   "metadata": {},
   "source": [
    "###### **(3) 퍼즐 초기화와 출력을 함수로 처리**\n",
    "###### > 함수: rand_Puzzle(), prt_puzzle()\n",
    "###### > 메인: puzzle 크기를 입력 받아, rand_Puzzle(), prt_puzzle() 함수 호출 처리"
   ]
  },
  {
   "cell_type": "code",
   "execution_count": 50,
   "id": "ac4a2351-66b1-477c-86ab-520f41fa209c",
   "metadata": {},
   "outputs": [
    {
     "name": "stdin",
     "output_type": "stream",
     "text": [
      "열 개수는?  4\n"
     ]
    },
    {
     "name": "stdout",
     "output_type": "stream",
     "text": [
      "\n",
      "  2 13  6 14\n",
      " 12  7  4  5\n",
      "     3 15  8\n",
      " 11  1 10  9\n"
     ]
    }
   ],
   "source": [
    "#### [실습-과제] nxn 숫자 퍼즐 게임 만들기(3): 퍼즐 초기화와 출력을 함수로 처리\n",
    "import random\n",
    "\n",
    "##전역약변수 정의\n",
    "puzzle = []  #숫자 퍼즐 리스트\n",
    "\n",
    "##함수 정의\n",
    "def rand_puzzle() :\n",
    "    #global puzzle, row, col\n",
    "    arr = [i for i in range(row*col)]\n",
    "    arr = random.sample(arr, row*col)\n",
    "    for i in range(0, len(arr), col):\n",
    "        puzzle.append(arr[i:i + col])\n",
    "\n",
    "def prt_puzzle() :\n",
    "    #global puzzle, row, col\n",
    "    print()\n",
    "    for i in range(row) :\n",
    "        for j in range(col) :\n",
    "            if puzzle[i][j] == 0 :\n",
    "                print(\"%3s\" %\"   \", end = \"\")\n",
    "            else :\n",
    "                print(\"%3s\" %str(puzzle[i][j]), end = \"\")\n",
    "        print()\n",
    "\n",
    "##====== 메인 시작 ======##\n",
    "## 변수 초기화\n",
    "col = int(input(\"열 개수는? \"))\n",
    "row = col\n",
    "\n",
    "rand_puzzle()\n",
    "prt_puzzle()\n",
    "##====== 메인 끝 ======##"
   ]
  },
  {
   "cell_type": "markdown",
   "id": "76847094-59bf-49f5-aba2-f0017b11571f",
   "metadata": {},
   "source": [
    "###### **(4) 키보드 방향 값 처리 함수 생성**\n",
    "###### > 방향키는 a(좌), w(상), s(하), d(우), 0(종료)를 사용\n",
    "###### > 방향키 값에 따라 해당 함수를 호출: , left(), right(), up(), down()\n",
    "###### > 방향키 처리 함수는 '>Left', '>Right', '>Up', '>Down'을 출력\n",
    "###### > 0입력 시 게임 종료 처리\n",
    "###### > 나머지 키는 경고 메시지 주고 재입력 처리"
   ]
  },
  {
   "cell_type": "code",
   "execution_count": 51,
   "id": "19c0c9ff-aec7-4146-a929-a8202ee1ff36",
   "metadata": {},
   "outputs": [
    {
     "name": "stdin",
     "output_type": "stream",
     "text": [
      "열 개수는?  4\n"
     ]
    },
    {
     "name": "stdout",
     "output_type": "stream",
     "text": [
      "\n",
      "  2 13  6 14\n",
      " 12  7  4  5\n",
      "     3 15  8\n",
      " 11  1 10  9\n"
     ]
    },
    {
     "name": "stdin",
     "output_type": "stream",
     "text": [
      "a(좌) w(상) s(하) d(우) 0(종료)>  ㅁ\n"
     ]
    },
    {
     "name": "stdout",
     "output_type": "stream",
     "text": [
      "??잘못된 키 값입니다!\n"
     ]
    },
    {
     "name": "stdin",
     "output_type": "stream",
     "text": [
      "a(좌) w(상) s(하) d(우) 0(종료)>  a\n"
     ]
    },
    {
     "name": "stdout",
     "output_type": "stream",
     "text": [
      ">Left\n"
     ]
    },
    {
     "name": "stdin",
     "output_type": "stream",
     "text": [
      "a(좌) w(상) s(하) d(우) 0(종료)>  s\n"
     ]
    },
    {
     "name": "stdout",
     "output_type": "stream",
     "text": [
      ">Down\n"
     ]
    },
    {
     "name": "stdin",
     "output_type": "stream",
     "text": [
      "a(좌) w(상) s(하) d(우) 0(종료)>  d\n"
     ]
    },
    {
     "name": "stdout",
     "output_type": "stream",
     "text": [
      ">Right\n"
     ]
    },
    {
     "name": "stdin",
     "output_type": "stream",
     "text": [
      "a(좌) w(상) s(하) d(우) 0(종료)>  w\n"
     ]
    },
    {
     "name": "stdout",
     "output_type": "stream",
     "text": [
      ">Up\n"
     ]
    },
    {
     "name": "stdin",
     "output_type": "stream",
     "text": [
      "a(좌) w(상) s(하) d(우) 0(종료)>  0\n"
     ]
    }
   ],
   "source": [
    "#### [실습-과제] nxn 숫자 퍼즐 게임 만들기(4): 키보드 방향 값 처리 함수 생성\n",
    "## <이상 생략> ## \n",
    "def left():\n",
    "    print(\">Left\")\n",
    "    \n",
    "def right():\n",
    "    print(\">Right\")\n",
    "    \n",
    "def up():\n",
    "    print(\">Up\")\n",
    "    \n",
    "def down():\n",
    "    print(\">Down\")\n",
    "    \n",
    "##====== 메인 시작 ======##\n",
    "## 변수 초기화\n",
    "col = int(input(\"열 개수는? \"))\n",
    "row = col\n",
    "\n",
    "rand_puzzle()\n",
    "prt_puzzle()\n",
    "\n",
    "while True:  #게임 시작\n",
    "    key = input(\"a(좌) w(상) s(하) d(우) 0(종료)> \")\n",
    "    if key == 'a' :\n",
    "        left()\n",
    "    elif key == 'd' :\n",
    "        right()\n",
    "    elif key == 'w' :\n",
    "        up()\n",
    "    elif key == 's' :\n",
    "        down()\n",
    "    elif key == '0' :\n",
    "        break\n",
    "    else:\n",
    "        print(\"??잘못된 키 값입니다!\")\n",
    "        continue        \n",
    "##====== 메인 끝 ======##    "
   ]
  },
  {
   "cell_type": "markdown",
   "id": "c62b105f-d314-4c81-b5c9-6bc8849f1896",
   "metadata": {},
   "source": [
    "###### **(5) 퍼즐에서 0의 위치 index 찾기**\n",
    "###### > 퍼즐에서 0의 위치 index를 찾아 행과 열 값을 출력 "
   ]
  },
  {
   "cell_type": "code",
   "execution_count": 52,
   "id": "2162654e-4ac2-465c-959b-57e15e30c894",
   "metadata": {},
   "outputs": [
    {
     "name": "stdout",
     "output_type": "stream",
     "text": [
      "2 0\n"
     ]
    }
   ],
   "source": [
    "## [연습] nxn 숫자 퍼즐 게임 만들기(5): 퍼즐에서 0의 위치 index 찾기\n",
    "r = 0;  c = 0   #0의 row, col index\n",
    "\n",
    "for i in range(row) :\n",
    "    for j in range(col) :\n",
    "        if puzzle[i][j] == 0 :\n",
    "            r = i\n",
    "            c = j\n",
    "print(r, c)"
   ]
  },
  {
   "cell_type": "markdown",
   "id": "5bcb4590-0bcd-41f9-8d26-d0e2515730ff",
   "metadata": {},
   "source": [
    "###### **(5) 퍼즐에서 0의 위치 index 찾기: 함수 호출로 처리**\n",
    "###### > 함수는 0의 index 값을 찾아 하나의 값으로 반환\n",
    "###### > 메인에서 반환 받은 값으로부터 행과 열 index 값 도출하여 출력"
   ]
  },
  {
   "cell_type": "code",
   "execution_count": 53,
   "id": "24c564e8-1cbc-43eb-82e6-51410617ccf5",
   "metadata": {},
   "outputs": [
    {
     "name": "stdin",
     "output_type": "stream",
     "text": [
      "열 개수는?  4\n"
     ]
    },
    {
     "name": "stdout",
     "output_type": "stream",
     "text": [
      "\n",
      "  2 13  6 14\n",
      " 12  7  4  5\n",
      "     3 15  8\n",
      " 11  1 10  9\n",
      "r: 2, c: 0\n"
     ]
    },
    {
     "name": "stdin",
     "output_type": "stream",
     "text": [
      "a(좌) w(상) s(하) d(우) 0(종료)>  0\n"
     ]
    }
   ],
   "source": [
    "## [실습-과제] nxn 숫자 퍼즐 게임 만들기(5): 퍼즐에서 0의 위치 index 찾기 > 함수 호출로 처리\n",
    "def find_zero():\n",
    "    for i in range(row) :\n",
    "        for j in range(col) :\n",
    "            if puzzle[i][j] == 0 :\n",
    "                return row*i+j\n",
    "\n",
    "##====== 메인 시작 ======##\n",
    "## 변수 초기화\n",
    "col = int(input(\"열 개수는? \"))\n",
    "row = col\n",
    "\n",
    "rand_puzzle()\n",
    "prt_puzzle()\n",
    "\n",
    "while True:  #게임 시작                \n",
    "    zero_seq = find_zero()\n",
    "    r = zero_seq // row   # zero 위치 행\t\n",
    "    c = zero_seq % row  # zero 위치 열\t\n",
    "    print(\"r: %d, c: %d\" %(r, c))\n",
    "    \n",
    "    key = input(\"a(좌) w(상) s(하) d(우) 0(종료)> \")\n",
    "    if key == 'a' :\n",
    "        left()\n",
    "    elif key == 'd' :\n",
    "        right()\n",
    "    elif key == 'w' :\n",
    "        up()\n",
    "    elif key == 's' :\n",
    "        down()\n",
    "    elif key == '0' :\n",
    "        break\n",
    "    else:\n",
    "        print(\"??잘못된 키 값입니다!\")\n",
    "        continue        \n",
    "##====== 메인 끝 ======##   "
   ]
  },
  {
   "cell_type": "markdown",
   "id": "f6fb1ab2-d006-4680-8196-bf4a6df299fa",
   "metadata": {},
   "source": [
    "###### **(6) 키보드로 방향키 값 받아 퍼즐 이동 처리**\n",
    "###### 입력 받은 방향으로 퍼즐 이동 결과를 리스트에 반영하여 출력하시오.\n",
    "###### > puzzle의 0 위치 값을 기준으로 인접 값과 상호 위치 교환\n",
    "###### > 위치 교환 후 puzzle 리스트 출력"
   ]
  },
  {
   "cell_type": "code",
   "execution_count": 55,
   "id": "2b027b03-e34e-412f-8e1a-2a320daeaa9c",
   "metadata": {},
   "outputs": [
    {
     "name": "stdin",
     "output_type": "stream",
     "text": [
      "열 개수는?  4\n"
     ]
    },
    {
     "name": "stdout",
     "output_type": "stream",
     "text": [
      "\n",
      "  1  7  8   \n",
      "  4 14 10  2\n",
      "  9  5 13 12\n",
      " 11  6  3 15\n",
      "r: 0, c: 3\n"
     ]
    },
    {
     "name": "stdin",
     "output_type": "stream",
     "text": [
      "a(좌) w(상) s(하) d(우) 0(종료)>  4\n"
     ]
    },
    {
     "name": "stdout",
     "output_type": "stream",
     "text": [
      "??잘못된 키 값입니다!\n",
      "r: 0, c: 3\n"
     ]
    },
    {
     "name": "stdin",
     "output_type": "stream",
     "text": [
      "a(좌) w(상) s(하) d(우) 0(종료)>  d\n"
     ]
    },
    {
     "name": "stdout",
     "output_type": "stream",
     "text": [
      "\n",
      "  1  7     8\n",
      "  4 14 10  2\n",
      "  9  5 13 12\n",
      " 11  6  3 15\n",
      "r: 0, c: 2\n"
     ]
    },
    {
     "name": "stdin",
     "output_type": "stream",
     "text": [
      "a(좌) w(상) s(하) d(우) 0(종료)>  d\n"
     ]
    },
    {
     "name": "stdout",
     "output_type": "stream",
     "text": [
      "\n",
      "  1     7  8\n",
      "  4 14 10  2\n",
      "  9  5 13 12\n",
      " 11  6  3 15\n",
      "r: 0, c: 1\n"
     ]
    },
    {
     "name": "stdin",
     "output_type": "stream",
     "text": [
      "a(좌) w(상) s(하) d(우) 0(종료)>  a\n"
     ]
    },
    {
     "name": "stdout",
     "output_type": "stream",
     "text": [
      "\n",
      "  1  7     8\n",
      "  4 14 10  2\n",
      "  9  5 13 12\n",
      " 11  6  3 15\n",
      "r: 0, c: 2\n"
     ]
    },
    {
     "name": "stdin",
     "output_type": "stream",
     "text": [
      "a(좌) w(상) s(하) d(우) 0(종료)>  w\n"
     ]
    },
    {
     "name": "stdout",
     "output_type": "stream",
     "text": [
      "\n",
      "  1  7 10  8\n",
      "  4 14     2\n",
      "  9  5 13 12\n",
      " 11  6  3 15\n",
      "r: 1, c: 2\n"
     ]
    },
    {
     "name": "stdin",
     "output_type": "stream",
     "text": [
      "a(좌) w(상) s(하) d(우) 0(종료)>  s\n"
     ]
    },
    {
     "name": "stdout",
     "output_type": "stream",
     "text": [
      "\n",
      "  1  7     8\n",
      "  4 14 10  2\n",
      "  9  5 13 12\n",
      " 11  6  3 15\n",
      "r: 0, c: 2\n"
     ]
    },
    {
     "name": "stdin",
     "output_type": "stream",
     "text": [
      "a(좌) w(상) s(하) d(우) 0(종료)>  0\n"
     ]
    }
   ],
   "source": [
    "## [실습-과제] nxn 숫자 퍼즐 게임 만들기(6): 키보드로 방향키 값 받아 퍼즐 이동\n",
    "import random\n",
    "\n",
    "##전역약변수 정의\n",
    "puzzle = []  #숫자 퍼즐 리스트\n",
    "\n",
    "##함수 정의\n",
    "def rand_puzzle() :\n",
    "    #global puzzle, row, col\n",
    "    arr = [i for i in range(row*col)]\n",
    "    arr = random.sample(arr, row*col)\n",
    "    for i in range(0, len(arr), col):\n",
    "        puzzle.append(arr[i:i + col])\n",
    "\n",
    "def prt_puzzle() :\n",
    "    #global puzzle, row, col\n",
    "    print()\n",
    "    for i in range(row) :\n",
    "        for j in range(col) :\n",
    "            if puzzle[i][j] == 0 :\n",
    "                print(\"%3s\" %\"   \", end = \"\")\n",
    "            else :\n",
    "                print(\"%3s\" %str(puzzle[i][j]), end = \"\")\n",
    "        print()\n",
    "\n",
    "def left(r, c):\n",
    "    puzzle[r][c], puzzle[r][c+1] = puzzle[r][c+1], puzzle[r][c]\t  #0과 우측 값과 교환\n",
    "    \n",
    "def right(r, c):\n",
    "     \n",
    "        \n",
    "def up(r, c):\n",
    "     \n",
    "    \n",
    "def down(r, c):\n",
    "     \n",
    "    \n",
    "def find_zero():\n",
    "    for i in range(row) :\n",
    "        for j in range(col) :\n",
    "            if puzzle[i][j] == 0 :\n",
    "                return row*i+j\n",
    "\n",
    "##====== 메인 시작 ======##\n",
    "## 변수 초기화\n",
    "col = int(input(\"열 개수는? \"))\n",
    "row = col\n",
    "\n",
    "rand_puzzle()\n",
    "prt_puzzle()\n",
    "\n",
    "while True:  #게임 시작                \n",
    "    zero_seq = find_zero()\n",
    "    r = zero_seq // row   # zero 위치 행\t\n",
    "    c = zero_seq % row  # zero 위치 열\t\n",
    "    print(\"r: %d, c: %d\" %(r, c))\n",
    "    \n",
    "    key = input(\"a(좌) w(상) s(하) d(우) 0(종료)> \")\n",
    "    if key == 'a' :\n",
    "        left(r, c)\n",
    "    elif key == 'd' :\n",
    "        right(r, c)\n",
    "    elif key == 'w' :\n",
    "        up(r, c)\n",
    "    elif key == 's' :\n",
    "        down(r, c)\n",
    "    elif key == '0' :\n",
    "        break\n",
    "    else:\n",
    "        print(\"??잘못된 키 값입니다!\")\n",
    "        continue\n",
    "        \n",
    "    prt_puzzle()\n",
    "##====== 메인 끝 ======##   "
   ]
  },
  {
   "cell_type": "markdown",
   "id": "946d559f-36d2-4ad4-a2d2-99cc9f40defe",
   "metadata": {},
   "source": [
    "###### **(6) 키보드로 방향키 값 받아 퍼즐 이동 처리: 이동 불가 처리**\n",
    "###### 이동이 불가능한 방향이 입력되면 puzzle 값 위치 교환 처리를 하지 않음."
   ]
  },
  {
   "cell_type": "code",
   "execution_count": 57,
   "id": "b0b7f7da-2d0b-45e0-909c-d9f1ead66a16",
   "metadata": {},
   "outputs": [
    {
     "name": "stdin",
     "output_type": "stream",
     "text": [
      "열 개수는?  4\n"
     ]
    },
    {
     "name": "stdout",
     "output_type": "stream",
     "text": [
      "\n",
      "     7 14  5\n",
      " 11  4  8  2\n",
      "  6 12 15  1\n",
      " 10  9 13  3\n",
      "r: 0, c: 0\n"
     ]
    },
    {
     "name": "stdin",
     "output_type": "stream",
     "text": [
      "a(좌) w(상) s(하) d(우) 0(종료)>  d\n"
     ]
    },
    {
     "name": "stdout",
     "output_type": "stream",
     "text": [
      "\n",
      "     7 14  5\n",
      " 11  4  8  2\n",
      "  6 12 15  1\n",
      " 10  9 13  3\n",
      "r: 0, c: 0\n"
     ]
    },
    {
     "name": "stdin",
     "output_type": "stream",
     "text": [
      "a(좌) w(상) s(하) d(우) 0(종료)>  s\n"
     ]
    },
    {
     "name": "stdout",
     "output_type": "stream",
     "text": [
      "\n",
      "     7 14  5\n",
      " 11  4  8  2\n",
      "  6 12 15  1\n",
      " 10  9 13  3\n",
      "r: 0, c: 0\n"
     ]
    },
    {
     "name": "stdin",
     "output_type": "stream",
     "text": [
      "a(좌) w(상) s(하) d(우) 0(종료)>  0\n"
     ]
    }
   ],
   "source": [
    "## [실습-과제] nxn 숫자 퍼즐 게임 만들기(6): 키보드로 방향키 값 받아 퍼즐 이동\n",
    "import random\n",
    "\n",
    "##전역약변수 정의\n",
    "puzzle = []  #숫자 퍼즐 리스트\n",
    "\n",
    "##함수 정의\n",
    "def rand_puzzle() :\n",
    "    #global puzzle, row, col\n",
    "    arr = [i for i in range(row*col)]\n",
    "    arr = random.sample(arr, row*col)\n",
    "    for i in range(0, len(arr), col):\n",
    "        puzzle.append(arr[i:i + col])\n",
    "\n",
    "def prt_puzzle() :\n",
    "    #global puzzle, row, col\n",
    "    print()\n",
    "    for i in range(row) :\n",
    "        for j in range(col) :\n",
    "            if puzzle[i][j] == 0 :\n",
    "                print(\"%3s\" %\"   \", end = \"\")\n",
    "            else :\n",
    "                print(\"%3s\" %str(puzzle[i][j]), end = \"\")\n",
    "        print()\n",
    "\n",
    "def left(r, c):\n",
    "    if c+1 < col:\n",
    "        puzzle[r][c], puzzle[r][c+1] = puzzle[r][c+1], puzzle[r][c]\t  #0과 우측 값과 교환\n",
    "    \n",
    "def right(r, c):\n",
    "      \n",
    "        \n",
    "    \n",
    "def up(r, c):\n",
    "    \n",
    "    \n",
    "    \n",
    "def down(r, c):\n",
    "    \n",
    "    \n",
    "    \n",
    "def find_zero():\n",
    "    for i in range(row) :\n",
    "        for j in range(col) :\n",
    "            if puzzle[i][j] == 0 :\n",
    "                return row*i+j\n",
    "\n",
    "##====== 메인 시작 ======##\n",
    "## 변수 초기화\n",
    "col = int(input(\"열 개수는? \"))\n",
    "row = col\n",
    "\n",
    "rand_puzzle()\n",
    "prt_puzzle()\n",
    "\n",
    "while True:  #게임 시작                \n",
    "    zero_seq = find_zero()\n",
    "    r = zero_seq // row   # zero 위치 행\t\n",
    "    c = zero_seq % row  # zero 위치 열\t\n",
    "    #print(\"r: %d, c: %d\" %(r, c))\n",
    "    \n",
    "    key = input(\"a(좌) w(상) s(하) d(우) 0(종료)> \")\n",
    "    if key == 'a' :\n",
    "        left(r, c)\n",
    "    elif key == 'd' :\n",
    "        right(r, c)\n",
    "    elif key == 'w' :\n",
    "        up(r, c)\n",
    "    elif key == 's' :\n",
    "        down(r, c)\n",
    "    elif key == '0' :\n",
    "        break\n",
    "    else:\n",
    "        print(\"??잘못된 키 값입니다!\")\n",
    "        continue\n",
    "        \n",
    "    prt_puzzle()\n",
    "##====== 메인 끝 ======##   "
   ]
  },
  {
   "cell_type": "markdown",
   "id": "c2d36870-7305-4647-9ba8-50b4e5c4910e",
   "metadata": {},
   "source": [
    "###### **(7) 키보드로 방향키 값 받아 퍼즐 이동 처리: 화면 클리어 사용**\n",
    "###### 입력 받은 방향으로 퍼즐 이동 결과를 출력하기 전에 화면을 클리어 처리"
   ]
  },
  {
   "cell_type": "code",
   "execution_count": 59,
   "id": "829afa57-590e-4d2e-b536-f95fc007c6e2",
   "metadata": {},
   "outputs": [
    {
     "name": "stdout",
     "output_type": "stream",
     "text": [
      "\n",
      "  1  8  3  9\n",
      "  7    12 13\n",
      " 14  5  4  6\n",
      " 10  2 15 11\n"
     ]
    },
    {
     "name": "stdin",
     "output_type": "stream",
     "text": [
      "a(좌) w(상) s(하) d(우) 0(종료)>  0\n"
     ]
    }
   ],
   "source": [
    "## [실습-과제] nxn 숫자 퍼즐 게임 만들기(7): 키보드로 방향키 값 받아 퍼즐 이동\n",
    "import random\n",
    "from IPython.display import clear_output\n",
    "\n",
    "##전역약변수 정의\n",
    "puzzle = []  #숫자 퍼즐 리스트\n",
    "\n",
    "##함수 정의\n",
    "def rand_puzzle() :\n",
    "    #global puzzle, row, col\n",
    "    arr = [i for i in range(row*col)]\n",
    "    arr = random.sample(arr, row*col)\n",
    "    for i in range(0, len(arr), col):\n",
    "        puzzle.append(arr[i:i + col])\n",
    "\n",
    "def prt_puzzle() :\n",
    "    #global puzzle, row, col\n",
    "    print()\n",
    "    for i in range(row) :\n",
    "        for j in range(col) :\n",
    "            if puzzle[i][j] == 0 :\n",
    "                print(\"%3s\" %\"   \", end = \"\")\n",
    "            else :\n",
    "                print(\"%3s\" %str(puzzle[i][j]), end = \"\")\n",
    "        print()\n",
    "\n",
    "def left(r, c):\n",
    "    if c+1 < col:\n",
    "        puzzle[r][c], puzzle[r][c+1] = puzzle[r][c+1], puzzle[r][c]\t  #0과 우측 값과 교환\n",
    "    \n",
    "def right(r, c):\n",
    "    if c-1 >= 0:\n",
    "        puzzle[r][c], puzzle[r][c-1] = puzzle[r][c-1], puzzle[r][c]\t  #0과 좌측 값과 교환\n",
    "    \n",
    "def up(r, c):\n",
    "    if r+1 < row:\n",
    "        puzzle[r][c], puzzle[r+1][c] = puzzle[r+1][c], puzzle[r][c]\t  #0과 하단 값과 교환\n",
    "    \n",
    "def down(r, c):\n",
    "    if r-1 >= 0:\n",
    "        puzzle[r][c], puzzle[r-1][c] = puzzle[r-1][c], puzzle[r][c]\t  #0과 상단 값과 교환\n",
    "    \n",
    "def find_zero():\n",
    "    for i in range(row) :\n",
    "        for j in range(col) :\n",
    "            if puzzle[i][j] == 0 :\n",
    "                return row*i+j\n",
    "\n",
    "##====== 메인 시작 ======##\n",
    "## 변수 초기화\n",
    "col = int(input(\"열 개수는? \"))\n",
    "row = col\n",
    "\n",
    "rand_puzzle()\n",
    "prt_puzzle()\n",
    "\n",
    "while True:  #게임 시작                \n",
    "    zero_seq = find_zero()\n",
    "    r = zero_seq // row   # zero 위치 행\t\n",
    "    c = zero_seq % row  # zero 위치 열\t\n",
    "    #print(\"r: %d, c: %d\" %(r, c))\n",
    "    \n",
    "    key = input(\"a(좌) w(상) s(하) d(우) 0(종료)> \")\n",
    "    if key == 'a' :\n",
    "        left(r, c)\n",
    "    elif key == 'd' :\n",
    "        right(r, c)\n",
    "    elif key == 'w' :\n",
    "        up(r, c)\n",
    "    elif key == 's' :\n",
    "        down(r, c)\n",
    "    elif key == '0' :\n",
    "        break\n",
    "    else:\n",
    "        print(\"??잘못된 키 값입니다!\")\n",
    "        continue\n",
    "        \n",
    "    clear_output(wait=True)\n",
    "    prt_puzzle()\n",
    "##====== 메인 끝 ======##   "
   ]
  },
  {
   "cell_type": "markdown",
   "id": "028ab50d-3e39-4d88-b9ce-b66fe52299b5",
   "metadata": {},
   "source": [
    "###### **(8) 퍼즐 완성 여부 판단**\n",
    "###### 2차원 배열 리스트 정렬이 완성되었는지 판단을 함수 호출로 해결하시오.\n",
    "###### > 전체 중에 0을 제외한 숫자가 모두 일치하는지 판단을 함수 호출로 해결  check_complete()\n",
    "###### > 정렬이 완성되었으면 1을 반환, 미완성이면 0을 반환\n",
    "###### > 키 입력 할 때마다 시도 횟수를 출력 \n",
    "###### >> 잘 못된 키 값이거나 이동할 수 없는 방향 값일 경우는 시도 횟수에서 제외 "
   ]
  },
  {
   "cell_type": "code",
   "execution_count": 61,
   "id": "ed4b366c-af73-4a61-b011-36008b28d1a9",
   "metadata": {},
   "outputs": [
    {
     "name": "stdout",
     "output_type": "stream",
     "text": [
      "\n",
      "  4  3 10  1\n",
      " 14 15 13  8\n",
      "  5 12  2  6\n",
      "  9 11     7\n",
      ">>아직 미완성\n"
     ]
    },
    {
     "name": "stdin",
     "output_type": "stream",
     "text": [
      "a(좌) w(상) s(하) d(우) 0(종료)>  0\n"
     ]
    }
   ],
   "source": [
    "## [실습-과제] nxn 숫자 퍼즐 게임 만들기(8): 퍼즐 완성 여부 판단\n",
    "import random\n",
    "from IPython.display import clear_output\n",
    "\n",
    "##전역약변수 정의\n",
    "puzzle = []  #숫자 퍼즐 리스트\n",
    "\n",
    "##함수 정의\n",
    "def rand_puzzle() :\n",
    "    #global puzzle, row, col\n",
    "    arr = [i for i in range(row*col)]\n",
    "    arr = random.sample(arr, row*col)\n",
    "    for i in range(0, len(arr), col):\n",
    "        puzzle.append(arr[i:i + col])\n",
    "\n",
    "def prt_puzzle() :\n",
    "    #global puzzle, row, col\n",
    "    print()\n",
    "    for i in range(row) :\n",
    "        for j in range(col) :\n",
    "            if puzzle[i][j] == 0 :\n",
    "                print(\"%3s\" %\"   \", end = \"\")\n",
    "            else :\n",
    "                print(\"%3s\" %str(puzzle[i][j]), end = \"\")\n",
    "        print()\n",
    "\n",
    "def left(r, c):\n",
    "    if c+1 < col:\n",
    "        puzzle[r][c], puzzle[r][c+1] = puzzle[r][c+1], puzzle[r][c]\t  #0과 우측 값과 교환\n",
    "    \n",
    "def right(r, c):\n",
    "    if c-1 >= 0:\n",
    "        puzzle[r][c], puzzle[r][c-1] = puzzle[r][c-1], puzzle[r][c]\t  #0과 좌측 값과 교환\n",
    "    \n",
    "def up(r, c):\n",
    "    if r+1 < row:\n",
    "        puzzle[r][c], puzzle[r+1][c] = puzzle[r+1][c], puzzle[r][c]\t  #0과 하단 값과 교환\n",
    "    \n",
    "def down(r, c):\n",
    "    if r-1 >= 0:\n",
    "        puzzle[r][c], puzzle[r-1][c] = puzzle[r-1][c], puzzle[r][c]\t  #0과 상단 값과 교환\n",
    "    \n",
    "def find_zero():\n",
    "    for i in range(row) :\n",
    "        for j in range(col) :\n",
    "            if puzzle[i][j] == 0 :\n",
    "                return row*i+j\n",
    "\n",
    "def check_complete():\n",
    "    global puzzle, row, col\n",
    "    chk_cnt = 0\n",
    "    for i in range(row) :\n",
    "        for j in range(col) :\n",
    "            if puzzle[i][j] == (row*i + j + 1) :\n",
    "                chk_cnt += 1\n",
    "    if chk_cnt >= (row*col-1) :\n",
    "        return 1    #complete\n",
    "    else :\n",
    "        return 0\n",
    "\n",
    "##====== 메인 시작 ======##\n",
    "## 변수 초기화\n",
    "col = int(input(\"열 개수는? \"))\n",
    "row = col\n",
    "\n",
    "rand_puzzle()\n",
    "prt_puzzle()\n",
    "\n",
    "while True:  #게임 시작                \n",
    "    zero_seq = find_zero()\n",
    "    r = zero_seq // row   # zero 위치 행\t\n",
    "    c = zero_seq % row  # zero 위치 열\t\n",
    "    #print(\"r: %d, c: %d\" %(r, c))\n",
    "    \n",
    "    key = input(\"a(좌) w(상) s(하) d(우) 0(종료)> \")\n",
    "    if key == 'a' :\n",
    "        left(r, c)\n",
    "    elif key == 'd' :\n",
    "        right(r, c)\n",
    "    elif key == 'w' :\n",
    "        up(r, c)\n",
    "    elif key == 's' :\n",
    "        down(r, c)\n",
    "    elif key == '0' :\n",
    "        break\n",
    "    else:\n",
    "        print(\"??잘못된 키 값입니다!\")\n",
    "        continue\n",
    "        \n",
    "    clear_output(wait=True)\n",
    "    prt_puzzle()\n",
    "    \n",
    "    if check_complete():\n",
    "        print(\">>성공하였습니다.\")\n",
    "    else:\n",
    "        print(\">>아직 미완성\")\n",
    "##====== 메인 끝 ======##   "
   ]
  },
  {
   "cell_type": "markdown",
   "id": "f6cf5962-e291-4fbb-a682-1ad4f1477ab0",
   "metadata": {},
   "source": [
    "###### **(9) 시도 횟수 출력**\n",
    "###### 시도 횟수 카운트해서 출력하시오.\n",
    "###### > 키 입력 할 때마다 시도 횟수를 출력 \n",
    "###### >> 잘 못된 키 값이거나 이동할 수 없는 방향 값일 경우는 시도 횟수에서 제외 "
   ]
  },
  {
   "cell_type": "code",
   "execution_count": 63,
   "id": "04f15129-ac0b-4f1f-aebd-5ed0a499d29f",
   "metadata": {},
   "outputs": [
    {
     "name": "stdout",
     "output_type": "stream",
     "text": [
      "\n",
      " 14  9 13  2\n",
      " 11  8 10 12\n",
      "  3  7  5  1\n",
      "  6 15     4\n"
     ]
    },
    {
     "name": "stdin",
     "output_type": "stream",
     "text": [
      "[6] a(좌) w(상) s(하) d(우) 0(종료)>  0\n"
     ]
    }
   ],
   "source": [
    "## [실습-과제] nxn 숫자 퍼즐 게임 만들기(9): 시도 횟수 출력\n",
    "import random\n",
    "from IPython.display import clear_output\n",
    "\n",
    "##전역약변수 정의\n",
    "puzzle = []  #숫자 퍼즐 리스트\n",
    "\n",
    "##함수 정의\n",
    "def rand_puzzle() :\n",
    "    #global puzzle, row, col\n",
    "    arr = [i for i in range(row*col)]\n",
    "    arr = random.sample(arr, row*col)\n",
    "    for i in range(0, len(arr), col):\n",
    "        puzzle.append(arr[i:i + col])\n",
    "\n",
    "def prt_puzzle() :\n",
    "    #global puzzle, row, col\n",
    "    print()\n",
    "    for i in range(row):\n",
    "        for j in range(col):\n",
    "            if puzzle[i][j] == 0:\n",
    "                print(\"%3s\" %\"   \", end = \"\")\n",
    "            else:\n",
    "                print(\"%3s\" %str(puzzle[i][j]), end = \"\")\n",
    "        print()\n",
    "\n",
    "def left(r, c):\n",
    "    if c+1 < col:\n",
    "        puzzle[r][c], puzzle[r][c+1] = puzzle[r][c+1], puzzle[r][c]\t  #0과 우측 값과 교환\n",
    "        return 1\n",
    "    else:\n",
    "        return 0\n",
    "    \n",
    "def right(r, c):\n",
    "    if c-1 >= 0:\n",
    "        puzzle[r][c], puzzle[r][c-1] = puzzle[r][c-1], puzzle[r][c]\t  #0과 좌측 값과 교환\n",
    "        return 1\n",
    "    else:\n",
    "        return 0\n",
    "    \n",
    "def up(r, c):\n",
    "    if r+1 < row:\n",
    "        puzzle[r][c], puzzle[r+1][c] = puzzle[r+1][c], puzzle[r][c]\t  #0과 하단 값과 교환\n",
    "        return 1\n",
    "    else:\n",
    "        return 0\n",
    "    \n",
    "def down(r, c):\n",
    "    if r-1 >= 0:\n",
    "        puzzle[r][c], puzzle[r-1][c] = puzzle[r-1][c], puzzle[r][c]\t  #0과 상단 값과 교환\n",
    "        return 1\n",
    "    else:\n",
    "        return 0\n",
    "    \n",
    "def find_zero():\n",
    "    for i in range(row) :\n",
    "        for j in range(col) :\n",
    "            if puzzle[i][j] == 0 :\n",
    "                return row*i+j\n",
    "\n",
    "def check_complete():\n",
    "    global puzzle, row, col\n",
    "    chk_cnt = 0\n",
    "    for i in range(row):\n",
    "        for j in range(col):\n",
    "            if puzzle[i][j] == (row*i + j + 1) :\n",
    "                chk_cnt += 1\n",
    "    if chk_cnt >= (row*col-1):\n",
    "        return 1    #complete\n",
    "    else:\n",
    "        return 0\n",
    "\n",
    "##====== 메인 시작 ======##\n",
    "## 변수 초기화\n",
    "col = int(input(\"열 개수는? \"))\n",
    "row = col\n",
    "cnt_try = 0  #시도 횟수\n",
    "\n",
    "rand_puzzle()\n",
    "prt_puzzle()\n",
    "\n",
    "while True:  #게임 시작                \n",
    "    zero_seq = find_zero()\n",
    "    r = zero_seq // row   # zero 위치 행\t\n",
    "    c = zero_seq % row  # zero 위치 열\t\n",
    "    #print(\"r: %d, c: %d\" %(r, c))\n",
    "    \n",
    "    key = input(\"[%d] a(좌) w(상) s(하) d(우) 0(종료)> \" %cnt_try)\n",
    "    cnt_try += 1\n",
    "    \n",
    "    if key == 'a' :\n",
    "        left(r, c)\n",
    "    elif key == 'd' :\n",
    "        right(r, c)\n",
    "    elif key == 'w' :\n",
    "        up(r, c)\n",
    "    elif key == 's' :\n",
    "        down(r, c)\n",
    "    elif key == '0' :\n",
    "        break\n",
    "    else:\n",
    "        print(\"??잘못된 키 값입니다!\")\n",
    "        continue\n",
    "        \n",
    "    clear_output(wait=True)\n",
    "    prt_puzzle()\n",
    "    \n",
    "    if check_complete():\n",
    "        print(\"\\n[%d]번만에 성공하였습니다.\" %cnt_try)\n",
    "##====== 메인 끝 ======##   "
   ]
  },
  {
   "cell_type": "code",
   "execution_count": null,
   "id": "b4547008-3bca-4b5f-a1bb-7feccb6fd2c5",
   "metadata": {},
   "outputs": [],
   "source": []
  }
 ],
 "metadata": {
  "kernelspec": {
   "display_name": "Python 3 (ipykernel)",
   "language": "python",
   "name": "python3"
  },
  "language_info": {
   "codemirror_mode": {
    "name": "ipython",
    "version": 3
   },
   "file_extension": ".py",
   "mimetype": "text/x-python",
   "name": "python",
   "nbconvert_exporter": "python",
   "pygments_lexer": "ipython3",
   "version": "3.9.13"
  }
 },
 "nbformat": 4,
 "nbformat_minor": 5
}
