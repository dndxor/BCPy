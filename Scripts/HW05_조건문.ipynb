{
 "cells": [
  {
   "cell_type": "markdown",
   "id": "988dcb4a-bc68-4563-adec-2d6464055972",
   "metadata": {},
   "source": [
    "----\n",
    "### **[과제] Ch05 조건문**\n",
    "----"
   ]
  },
  {
   "cell_type": "markdown",
   "id": "5358f369-5c28-4092-97dd-fafb9a6c1353",
   "metadata": {
    "tags": []
   },
   "source": [
    "#### **[실습] 목욕탕 입장 판단** \n",
    "##### 성별과 나이를 입력받아 남탕 또는 여탕 입장을 판단\n",
    "###### > 성별이 '남(M)'이면 남탕을, '여(F)'이면 여탕으로 판단\n",
    "###### > 단, 연령이 5세 미만이면 아무탕으로 판단"
   ]
  },
  {
   "cell_type": "code",
   "execution_count": null,
   "id": "8fe867f0-55b3-4ad5-92fe-ffda6d6af06d",
   "metadata": {},
   "outputs": [],
   "source": [
    "## [연습] 목욕탕 입장 판단\n",
    "sex = input(\">성별 입력(f/m): \")\n",
    "age = int(input(\">나이 입력: \"))\n",
    "\n",
    "\n",
    "\n",
    "\n",
    "\n"
   ]
  },
  {
   "cell_type": "code",
   "execution_count": null,
   "id": "a051c272-2f5d-4176-a184-5524a38ff829",
   "metadata": {},
   "outputs": [],
   "source": []
  },
  {
   "cell_type": "markdown",
   "id": "91819fc0-d5a4-4198-9ac7-d5a658559353",
   "metadata": {
    "tags": []
   },
   "source": [
    "#### **[실습] 할인 적용 여부 판단**\n",
    "##### 다음 요구사항에 맞는 할인율을 적용하는 코드를 완성하시오. (if~else 조건문 다중 사용)\n",
    "##### 할인율을 최대한 높게 결정해주어야 한다.\n",
    "##### 질문을 최소화 하여야 한다.\n",
    "###### > “지역주민”은 30% 할인\n",
    "###### > “국가유공자/현혁군인”은 50% 할인\n",
    "###### > “70세 이상” 어르신은 100% 할인\n",
    "##### 할인 대상은 \">>?% 할인 대상입니다\"라고 출력\n",
    "##### 비할인 대상은 \">>할인 대상이 아닙니다.\"라고 출력"
   ]
  },
  {
   "cell_type": "code",
   "execution_count": 15,
   "id": "a10454a7-9480-46d4-a526-85ff451c980e",
   "metadata": {},
   "outputs": [
    {
     "name": "stdout",
     "output_type": "stream",
     "text": [
      ">신분이 어떻게 되는지  y나 기타 키로 답하세요.\n"
     ]
    },
    {
     "name": "stdin",
     "output_type": "stream",
     "text": [
      ">70세 이상” 어르신인가요(y)?  \n",
      ">국가유공자 또는 현혁군인이신가요(y)?  y\n",
      ">지역주민이신가요(y)?  \n"
     ]
    },
    {
     "name": "stdout",
     "output_type": "stream",
     "text": [
      ">>50% 할인 대상입니다.\n"
     ]
    }
   ],
   "source": [
    "## [연습] 할인 적용 여부 판단\n",
    "rate = 0  #할인률\n",
    "print(\">신분이 어떻게 되는지  y나 기타 키로 답하세요.\")\n",
    "status = input(\">70세 이상” 어르신인가요(y)? \").strip().lower()\n",
    "status = input(\">국가유공자 또는 현혁군인이신가요(y)? \").strip().lower()\n",
    "status = input(\">지역주민이신가요(y)? \").strip().lower()\n",
    "\n",
    "\n",
    "\n",
    "\n"
   ]
  },
  {
   "cell_type": "code",
   "execution_count": null,
   "id": "8a9ad54d-4509-462a-89d3-9ba28342cb8e",
   "metadata": {},
   "outputs": [],
   "source": []
  },
  {
   "cell_type": "markdown",
   "id": "400e853b-599d-4a46-9f73-ca491519dfe7",
   "metadata": {},
   "source": [
    "#### **[실습] 숫자 맞추기 UpDown**\n",
    "##### 자동으로 생성한 난수를 맞추는 코드를 완성하시오. (if 조건문 사용)\n",
    "###### > 난수는 1~20까지 중에 정수로 생성\n",
    "###### > 맞출 값은 키보드로 입력\n",
    "###### > 난수 값과 입력 값을 비교하여 결과 출력\n",
    "###### >> ‘Up’ : 입력값 < 난수\n",
    "###### >> ‘Down’ : 입력값 > 난수\n",
    "###### >> ‘OK!’ : 입력값 == 난수\n",
    "##### > while 반복문 탈출은 break"
   ]
  },
  {
   "cell_type": "code",
   "execution_count": null,
   "id": "012e222f-9cce-458f-aaf0-0488e1802f31",
   "metadata": {},
   "outputs": [],
   "source": [
    "## [실습] 숫자 맞추기 UpDown\n",
    "import random  #random 모듈 불러오기\n",
    "rnum = random.randint(1, 20) # 1에서 20 사이의 랜덤 정수 저장\n",
    "print(\"1~20 중에 하나의 난수를 발생했습니다.\")\n",
    "\n",
    "innum = 0  #사용자 입력값\n",
    "while innum != rnum:\n",
    "    innum = int(input(\"숫자 입력(1~20) : \"))\n",
    "    \n",
    "    \n",
    "    \n",
    "        "
   ]
  },
  {
   "cell_type": "code",
   "execution_count": null,
   "id": "3045aad9-4b2b-4321-afac-c85ff3b13429",
   "metadata": {},
   "outputs": [],
   "source": []
  },
  {
   "cell_type": "markdown",
   "id": "0e4de3b1-7f27-405b-be53-02f42aebb6cf",
   "metadata": {},
   "source": [
    "#### **[실습] 점수의 등급 판정**\n",
    "##### 한개의 점수를 입력 받아 아래 등급으로 환산하여 출력하시오. (조건문 사용)\n",
    "###### > 점수 범위 : 0 ~ 100 \n",
    "###### > 95 이상은 ‘A+’, 90 이상 95 미만은 ‘A’,\n",
    "###### > 85 이상 90 미만은 ‘B+’, 80 이상 85 미만은 ‘B’, \n",
    "###### > 75 이상 80 미만은 ‘C+’, 70 이상 75 미만은 ‘C’, \n",
    "###### > 65 이상 70 미만은 ‘D+’, 60 이상 65 미만은 ‘D’,\n",
    "###### >  0 이상 60 미만은 ‘F’등급"
   ]
  },
  {
   "cell_type": "code",
   "execution_count": null,
   "id": "9c08c3a4-5693-4736-b4b6-f83419b49ef9",
   "metadata": {},
   "outputs": [],
   "source": [
    "## [실습] 점수의 등급 판정\n",
    "grade = ''\n",
    "score = 101\n",
    "while score < 0 or score > 100:\n",
    "    score = int(input(\">점수를 입력하세요 : \"))\n",
    "\n",
    "    \n",
    "    \n",
    "    \n",
    "\n",
    "print(\">>등급은 \", grade)"
   ]
  },
  {
   "cell_type": "code",
   "execution_count": null,
   "id": "eb7d5d9c-aae7-4c79-8465-24175daf3887",
   "metadata": {},
   "outputs": [],
   "source": []
  },
  {
   "cell_type": "markdown",
   "id": "bb13739f-8dd1-4781-a34b-63225579e336",
   "metadata": {},
   "source": [
    "#### **[실습] 3항 연산 조건문을 사용하여 세 수중에 큰 수 출력 [A]**\n",
    "##### > 아래 코드를 3항 연산 조건문을 사용하여 해결"
   ]
  },
  {
   "cell_type": "code",
   "execution_count": 32,
   "id": "ec0283e5-e3f0-4d5b-b258-2f9ce6582edb",
   "metadata": {},
   "outputs": [
    {
     "name": "stdout",
     "output_type": "stream",
     "text": [
      "4\n"
     ]
    }
   ],
   "source": [
    "## if ~ else ~ 조건문 사용: A\n",
    "a = 3; b = 4; c = 2\n",
    "if a >= b:\n",
    "    if a >= c:\n",
    "        max = a\n",
    "    else :\n",
    "        max = c\n",
    "elif b >= c:\n",
    "    max = b\n",
    "else:\n",
    "    max = c\n",
    "    \n",
    "print(max)"
   ]
  },
  {
   "cell_type": "code",
   "execution_count": null,
   "id": "37da2bf0-9855-4fc0-8cb9-d252440074f0",
   "metadata": {},
   "outputs": [],
   "source": []
  },
  {
   "cell_type": "markdown",
   "id": "a17e59cf-0836-494d-879a-7be01fd597df",
   "metadata": {},
   "source": [
    "#### **[실습] 3항 연산 조건문을 사용하여 세 수중에 큰 수 출력 [B]**\n",
    "##### > 아래 코드를 3항 연산 조건문을 사용하여 해결"
   ]
  },
  {
   "cell_type": "code",
   "execution_count": 16,
   "id": "9786457e-c848-4591-bbef-2512d14e8d86",
   "metadata": {},
   "outputs": [
    {
     "name": "stdout",
     "output_type": "stream",
     "text": [
      "4\n"
     ]
    }
   ],
   "source": [
    "## 3항 연산 조건문 사용: B\n",
    "a = 3; b = 4; c = 2\n",
    "max = a\n",
    "if b >= max:\n",
    "    max = b\n",
    "if c >= max:\n",
    "    max = c\n",
    "    \n",
    "print(max)"
   ]
  },
  {
   "cell_type": "code",
   "execution_count": 31,
   "id": "78e609be-9b01-4b51-b686-035ec854f114",
   "metadata": {},
   "outputs": [
    {
     "name": "stdout",
     "output_type": "stream",
     "text": [
      "4\n"
     ]
    }
   ],
   "source": [
    "## 3항 연산 조건문 사용: B\n",
    "a = 3; b = 4; c = 2\n",
    "\n",
    "\n",
    "\n",
    "print(max)"
   ]
  }
 ],
 "metadata": {
  "kernelspec": {
   "display_name": "Python 3 (ipykernel)",
   "language": "python",
   "name": "python3"
  },
  "language_info": {
   "codemirror_mode": {
    "name": "ipython",
    "version": 3
   },
   "file_extension": ".py",
   "mimetype": "text/x-python",
   "name": "python",
   "nbconvert_exporter": "python",
   "pygments_lexer": "ipython3",
   "version": "3.9.13"
  }
 },
 "nbformat": 4,
 "nbformat_minor": 5
}
