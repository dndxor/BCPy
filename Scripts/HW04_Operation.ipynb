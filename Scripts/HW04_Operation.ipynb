{
 "cells": [
  {
   "cell_type": "markdown",
   "id": "89445843-b36c-45f9-ab59-c5b214723cd9",
   "metadata": {},
   "source": [
    "----\n",
    "## **Ch04 연산자**\n",
    "> 연산자(Operator)를 활용하여 피연산자(Operand)에 대한 연산(Operation)을 수행하는 방법을 익힌다.\n",
    "----"
   ]
  },
  {
   "cell_type": "markdown",
   "id": "11ab2169-77c0-437a-bae7-0d391a66eede",
   "metadata": {},
   "source": [
    "#### **[실습] 원의 면적을 구해주는 코드 작성**\n",
    "##### 반지름은 키보드로 입력을 받는다.\n",
    "##### 원의 면적을 계산하여 출력한다."
   ]
  },
  {
   "cell_type": "code",
   "execution_count": 34,
   "id": "9219cbd9-b24d-4e70-b164-3c5e0dc41444",
   "metadata": {},
   "outputs": [
    {
     "name": "stdin",
     "output_type": "stream",
     "text": [
      ">반지름(cm) 입력:  3\n"
     ]
    },
    {
     "name": "stdout",
     "output_type": "stream",
     "text": [
      ">> 반지름이 3.000000cm 원의 면적은 28.274310cm2입니다.\n"
     ]
    }
   ],
   "source": [
    "## [실습] 원의 면적을 구하는 연산\n",
    "pi = 3.14159\n",
    "r = float(input(\">반지름(cm) 입력: \"))\n",
    "\n",
    "\n"
   ]
  },
  {
   "cell_type": "markdown",
   "id": "bbb31f49-559e-423f-9efd-794dccb91d14",
   "metadata": {},
   "source": [
    "#### **[실습] n일 후의 요일 알아보기 코드 작성**\n",
    "##### 오늘로부터 n일이 경과한 날의 요일을 알려주는 코드 작성\n",
    "###### > 오늘의 요일 값을 키보드로 입력을 받는다."
   ]
  },
  {
   "cell_type": "code",
   "execution_count": 40,
   "id": "1c062bcf-d532-4fe5-a554-3a3505590c8e",
   "metadata": {},
   "outputs": [
    {
     "name": "stdin",
     "output_type": "stream",
     "text": [
      ">오늘의 요일 값(0:일,1:월,2:화,3:수,4:목,5금,6:토) 입력:  6\n",
      ">몇일 후인가요?  7\n"
     ]
    },
    {
     "name": "stdout",
     "output_type": "stream",
     "text": [
      ">> 7일 후는 6요일입니다.\n"
     ]
    }
   ],
   "source": [
    "## [실습] n일 후의 요일 알아보기: 요일 index 값으로 해결하기\n",
    "wd = int(input(\">오늘의 요일 값(0:일,1:월,2:화,3:수,4:목,5금,6:토) 입력: \"))\n",
    "n = int(input(\">몇일 후인가요? \"))\n",
    "\n",
    "\n"
   ]
  },
  {
   "cell_type": "markdown",
   "id": "3e52b569-b57d-43de-9cd4-a36ff1e084f0",
   "metadata": {},
   "source": [
    "#### **[실습] 내 나이를 환산해주는 방식으로 코드 변경**\n",
    "##### 오늘 날자를 기준으로 내 나이(myage)를 결정해주 방식으로 변경"
   ]
  },
  {
   "cell_type": "code",
   "execution_count": 67,
   "id": "35937ab1-77eb-4e82-a20c-3070163c3d46",
   "metadata": {},
   "outputs": [
    {
     "name": "stdin",
     "output_type": "stream",
     "text": [
      ">나이 입력:  33\n"
     ]
    },
    {
     "name": "stdout",
     "output_type": "stream",
     "text": [
      "아~ 33살...\n",
      "나하고 10살 차이가 나네요.\n",
      "그럼 당신이 위네요.\n"
     ]
    },
    {
     "name": "stdin",
     "output_type": "stream",
     "text": [
      ">>그만 하려면 x를 입력?  x\n"
     ]
    }
   ],
   "source": [
    "## [실습] 내 나이를 환산해주기\n",
    "\n",
    "\n",
    "myage = 30\n",
    "\n",
    "while True : #무한 반복\n",
    "    age = int(input(\">나이 입력: \"))     \n",
    "    print(\"아~ %d살...\" % age)    \n",
    "    print(\"나하고 %d살 차이가 나네요.\" % abs(myage - age))\n",
    "\n",
    "    if myage > age :\n",
    "        print(\"그럼 내가 위네요.\")\n",
    "    elif myage < age :\n",
    "        print(\"그럼 당신이 위네요.\")\n",
    "    else :\n",
    "        print(\"그럼 동갑이네요.\")\n",
    "\n",
    "    yn = input(\">>그만 하려면 x를 입력? \")\n",
    "    if yn == 'x' or yn == 'X' :\n",
    "        break  #반복 탈출"
   ]
  },
  {
   "cell_type": "markdown",
   "id": "638d1cd9-b5f7-433d-a50b-6694ee6dba52",
   "metadata": {},
   "source": [
    "#### **[실습] 할인 적용 여부 판단**\n",
    "##### > “할인” 조건: “국가유공자”인 경우 또는 “현역 군인”인 경우"
   ]
  },
  {
   "cell_type": "code",
   "execution_count": 78,
   "id": "da1c3efe-67bb-4d4d-916c-227471a228cb",
   "metadata": {},
   "outputs": [
    {
     "name": "stdout",
     "output_type": "stream",
     "text": [
      ">신분이 어떻게 되는지  y나 기타 키로 답하세요.\n"
     ]
    },
    {
     "name": "stdin",
     "output_type": "stream",
     "text": [
      ">>국가유공자이신가요(y)?  y\n",
      ">>현혁군인이신가요(y)?  n\n"
     ]
    },
    {
     "name": "stdout",
     "output_type": "stream",
     "text": [
      ">>>할인 대상입니다.\n"
     ]
    }
   ],
   "source": [
    "## [실습] 할인 적용 여부 판단\n",
    "print(\">신분이 어떻게 되는지  y나 기타 키로 답하세요.\")\n",
    "status1 = input(\">>국가유공자이신가요(y)? \").strip().lower()\n",
    "status2 = input(\">>현혁군인이신가요(y)? \").strip().lower()\n",
    "\n"
   ]
  },
  {
   "cell_type": "markdown",
   "id": "a113a5d7-2b01-4858-bb97-e589f95b8c6c",
   "metadata": {},
   "source": [
    "#### **[실습] “합격”과 “불합격” 판단**\n",
    "##### “합격” 조건은 다음과 같이 조건-A와 조건-B를 모두 만족시켜야 한다.\n",
    "###### > 각 과목에서 40점 미만이 없어야 한다.\n",
    "###### > 모든 과목의 평균 점수가 60점 이상이어야 한다."
   ]
  },
  {
   "cell_type": "code",
   "execution_count": 92,
   "id": "5eccadb6-b79a-4a38-8a60-8c6a221948e0",
   "metadata": {},
   "outputs": [
    {
     "name": "stdout",
     "output_type": "stream",
     "text": [
      "Avg:  71.8, Min: 38\n",
      "불합격\n"
     ]
    }
   ],
   "source": [
    "## [실습] '합격', '불합격' 판단\n",
    "score = [80, 63, 38, 88, 90]\n",
    "\n",
    "avg = sum(score) / len(score)\n",
    "smin = min(score)\n",
    "print(\"Avg: %5.1f, Min: %d\" %(avg, smin))\n",
    "\n",
    "\n"
   ]
  },
  {
   "cell_type": "markdown",
   "id": "ac31bff2-cc63-4150-8d9c-02438ece5ae4",
   "metadata": {},
   "source": [
    "#### **[실습] 원하는 위치의 비트 값 알아내기**\n",
    "##### 대상 값은 10진숫자로 입력받는다.\n",
    "###### > 입력된 대상 값을 2진수로 출력해준다.\n",
    "##### 추출할 비트의 위치 값을 입력받는다.\n",
    "###### > 맨 왼쪽 비트를 0번째로 한 위치 값\n",
    "##### 추출한 비트 값을 출력한다."
   ]
  },
  {
   "cell_type": "code",
   "execution_count": 157,
   "id": "ad8a1f64-a95a-4af7-a5cf-cb6e868c4b0b",
   "metadata": {},
   "outputs": [
    {
     "name": "stdin",
     "output_type": "stream",
     "text": [
      ">대상 값(10진숫자)):  33\n"
     ]
    },
    {
     "name": "stdout",
     "output_type": "stream",
     "text": [
      "0b100001\n"
     ]
    },
    {
     "name": "stdin",
     "output_type": "stream",
     "text": [
      ">원하는 위치 값(맨 왼쪽 0번째 기준)):  5\n"
     ]
    },
    {
     "name": "stdout",
     "output_type": "stream",
     "text": [
      ">> 비트 1\n"
     ]
    }
   ],
   "source": [
    "## 비트 연산자: 원하는 위치의 비트 값 알아내기\n",
    "a = int(input(\">대상 값(10진숫자)): \"))\n",
    "print(bin(a))\n",
    "pos = int(input(\">원하는 위치 값(맨 왼쪽 0번째 기준)): \"))\n",
    "\n",
    "\n"
   ]
  },
  {
   "cell_type": "markdown",
   "id": "82fad3db-d762-4d6f-bca6-ed262b1a9ba5",
   "metadata": {},
   "source": [
    "----\n",
    "----"
   ]
  },
  {
   "cell_type": "markdown",
   "id": "c628372d-36ea-4888-8020-d4ddb7f5b7f9",
   "metadata": {},
   "source": [
    "### **[과제] 거스름 돈 반환 개수 최소화**\n",
    "#### 키보드로 다음을 입력받아 처리\n",
    "##### >청구한 금액 입력(원)? \n",
    "##### >받은 금액 입력(원)? \n",
    "#### 다음 내용을 출력(단, 거스름 돈은 최소 개수가 되도록 하시오.)\n",
    "##### >거스를 총 금액:   \n",
    "##### >50000원권 %d, 10000원권 %d, 5000원권 %d, 1000원권 %d\n",
    "##### >500원권 %d, 100원권 %d, 50원권 %d, 10원권 %d, 1원권 %d"
   ]
  },
  {
   "cell_type": "code",
   "execution_count": 165,
   "id": "943de271-af47-4726-b807-b1f3ed928c09",
   "metadata": {},
   "outputs": [
    {
     "name": "stdin",
     "output_type": "stream",
     "text": [
      ">청구한 금액 입력(원)?  1234\n",
      ">받은 금액 입력(원)?  10000\n"
     ]
    },
    {
     "name": "stdout",
     "output_type": "stream",
     "text": [
      ">>거스를 총 금액 : 8766\n",
      "5000원권 1\n",
      "1000원권 3\n",
      "500원권 1\n",
      "100원권 2\n",
      "50원권 1\n",
      "10원권 1\n",
      "1원권 6\n",
      "\n",
      "\n"
     ]
    }
   ],
   "source": [
    "## [과제] 거스름 돈 반환 개수 최소화: 금액 입력 처리\n",
    "totwon = 0\n",
    "inwon = 0\n",
    "outwon = 0\n",
    "\n",
    "while inwon <= totwon:\n",
    "    totwon = int(input(\">청구한 금액 입력(원)? \"))\n",
    "    inwon = int(input(\">받은 금액 입력(원)? \"))\n",
    "\n",
    "outwon = inwon - totwon    ##거스를 금액\n",
    "print(\">>거스를 총 금액 : %d\" %outwon)\n",
    "\n",
    "\n",
    "\n"
   ]
  },
  {
   "cell_type": "markdown",
   "id": "5ff08f3c-5546-4f08-8bbb-5238e0ea64c4",
   "metadata": {},
   "source": [
    "----"
   ]
  }
 ],
 "metadata": {
  "kernelspec": {
   "display_name": "Python 3 (ipykernel)",
   "language": "python",
   "name": "python3"
  },
  "language_info": {
   "codemirror_mode": {
    "name": "ipython",
    "version": 3
   },
   "file_extension": ".py",
   "mimetype": "text/x-python",
   "name": "python",
   "nbconvert_exporter": "python",
   "pygments_lexer": "ipython3",
   "version": "3.9.13"
  }
 },
 "nbformat": 4,
 "nbformat_minor": 5
}
