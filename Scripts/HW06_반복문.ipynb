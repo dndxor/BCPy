{
 "cells": [
  {
   "cell_type": "markdown",
   "id": "1fda9430-1698-4e46-8ed3-b39527454d38",
   "metadata": {},
   "source": [
    "----\n",
    "## **[과제] Ch06 반복문**\n",
    "----"
   ]
  },
  {
   "cell_type": "markdown",
   "id": "697292a2-2116-4ed2-ac37-362ac5fc00d5",
   "metadata": {},
   "source": [
    "#### **[실습] 랜덤 숫자 맞추기 코드 업그레이드** (while 반복문 사용)\n",
    "##### > 매 반복 횟 수마다 진행 횟수(반복 횟수)를 출력\n",
    "##### > 5회 내에 맞추면 “당신이 이겼습니다.”를 그 외는 “당신이 졌습니다.＂를 출력\n",
    "##### > 게임을 마치고, 다음 게임을 더 할지 선택"
   ]
  },
  {
   "cell_type": "code",
   "execution_count": null,
   "id": "16419233-890d-493b-affb-f9cf45940206",
   "metadata": {},
   "outputs": [],
   "source": [
    "## [실습] 랜덤 숫자 맞추기 코드 업그레이드: while 반복문 사용\n",
    "import random as r\n",
    "\n",
    "rnum = r.randint(1, 20)  # 1에서 20 사이의 랜덤 정수 저장\n",
    "print(\">>1~20 중에 하나의 난수를 발생했습니다.\")\n",
    "innum = 0  ## innum이 반복 변수 역할, [반복 변수 초기화]\n",
    "\n",
    "while True:\n",
    "    innum = int(input(\">숫자 입력(1~20) : \"))  ## innum이 반복 변수 역할, [반복 변수 증감]\n",
    "    if innum > rnum:\n",
    "        print(\">>Down\")\n",
    "    elif innum < rnum:\n",
    "        print(\">>Up\")\n",
    "    else:\n",
    "        print(\">>OK!\")\n",
    "        break  #[반복 탈출]"
   ]
  },
  {
   "cell_type": "code",
   "execution_count": null,
   "id": "622be80e-1c4d-48c3-93f1-742929bf7cd4",
   "metadata": {},
   "outputs": [],
   "source": []
  },
  {
   "cell_type": "markdown",
   "id": "164f1e32-9839-4c92-8ecd-cdfae9706a72",
   "metadata": {},
   "source": [
    "#### **[실습] 두 값 범위에 있는 모든 정수 더하기**: while 반복문 사용\n",
    "##### > while 반복문을 사용하여 해결\n",
    "##### > 시작 수와 종료 수가 뒤바뀌어 입력되어도 동일한 결과가 나오도록 하시오."
   ]
  },
  {
   "cell_type": "code",
   "execution_count": 24,
   "id": "4e7eb5ea-2cb8-4d90-8c67-088b2332da03",
   "metadata": {},
   "outputs": [
    {
     "name": "stdin",
     "output_type": "stream",
     "text": [
      ">시작 숫자(정수) 입력 :  1\n",
      ">끝 숫자(정수) 입력 :  10\n"
     ]
    },
    {
     "name": "stdout",
     "output_type": "stream",
     "text": [
      ">>1에서 10까지의 합은 : 55\n"
     ]
    }
   ],
   "source": [
    "## 실습] 두 값 범위에 있는 모든 정수 더하기\n",
    "in1 = int(input(\">시작 숫자(정수) 입력 : \"))\n",
    "in2 = int(input(\">끝 숫자(정수) 입력 : \"))\n",
    "\n",
    "\n",
    "\n",
    "print(\">>%d에서 %d까지의 합은 : %d\" %(in1, in2, sum))"
   ]
  },
  {
   "cell_type": "code",
   "execution_count": null,
   "id": "4b8beca6-dee3-4664-992c-21df8af6016f",
   "metadata": {},
   "outputs": [],
   "source": []
  },
  {
   "cell_type": "markdown",
   "id": "f088d9f8-a9dd-4040-b92e-9a11dd23d684",
   "metadata": {},
   "source": [
    "#### **[실습] 두 값 범위에 있는 모든 정수 더하기 : for 반복문 사용**\n",
    "##### > for 반복문을 사용하여 해결\n",
    "##### > 시작 수와 종료 수가 뒤바뀌어 입력되어도 동일한 결과가 나오도록 하시오."
   ]
  },
  {
   "cell_type": "code",
   "execution_count": 25,
   "id": "083e5756-f9e4-482b-a570-8b48039385ba",
   "metadata": {},
   "outputs": [
    {
     "name": "stdin",
     "output_type": "stream",
     "text": [
      ">시작 숫자(정수) 입력 :  1\n",
      ">끝 숫자(정수) 입력 :  10\n"
     ]
    },
    {
     "name": "stdout",
     "output_type": "stream",
     "text": [
      ">>1에서 10까지의 합은 : 55\n"
     ]
    }
   ],
   "source": [
    "## 실습] 두 값 범위에 있는 모든 정수 더하기\n",
    "in1 = int(input(\">시작 숫자(정수) 입력 : \"))\n",
    "in2 = int(input(\">끝 숫자(정수) 입력 : \"))\n",
    "\n",
    "\n",
    "\n",
    "\n",
    "print(\">>%d에서 %d까지의 합은 : %d\" %(in1, in2, sum))"
   ]
  },
  {
   "cell_type": "code",
   "execution_count": null,
   "id": "fce2ff21-dcde-4285-8e63-6e11c142a34e",
   "metadata": {},
   "outputs": [],
   "source": []
  },
  {
   "cell_type": "markdown",
   "id": "b449bbd5-5451-4846-882c-a21361078c85",
   "metadata": {},
   "source": [
    "#### **[과제] 토끼와 거북이 경주**\n",
    "##### 토끼와 거북이가 달리기 시합을 한다. 토끼는 1분에 45m를 달리고, 거북이는 1분에 11m를 달린다.\n",
    "##### > 거북이와 토끼의 출발 위치 값(m)는 키보드로 각각 입력받는다.\n",
    "##### > 토끼는 몇 분 후에 거북이를 앞설 수 있을까?\n",
    "##### > 또 그 때까지 토끼가 달린 거리는?\n",
    "##### > 단, 누가 앞서고 있는가는 1분마다 확인한다고 가정한다."
   ]
  },
  {
   "cell_type": "code",
   "execution_count": 26,
   "id": "bf8dc5ec-1048-4d64-8e1f-187a10a88647",
   "metadata": {},
   "outputs": [
    {
     "name": "stdin",
     "output_type": "stream",
     "text": [
      "거북이 위치(m) 입력 :  100\n",
      "또끼 위치(m) 입력 :  0\n"
     ]
    },
    {
     "name": "stdout",
     "output_type": "stream",
     "text": [
      ">1분 r: 45m, t: 111m\n",
      ">2분 r: 90m, t: 122m\n",
      ">3분 r: 135m, t: 133m\n",
      "------------------------------------------------------------\n",
      ">3분 후에 133m에 거북이, 135m에 토끼가 있음\n"
     ]
    }
   ],
   "source": [
    "## [과제] 토끼와 거북이 경주\n",
    "min = 0\n",
    "\n",
    "p_ttl = int(input(\"거북이 위치(m) 입력 : \"))\n",
    "p_rbt = int(input(\"또끼 위치(m) 입력 : \"))\n",
    "\n",
    "\n",
    "\n",
    "print(\"%s\" %('-'*60))\n",
    "print(\">%d분 후에 %dm에 거북이, %dm에 토끼가 있음\" %(min, p_ttl, p_rbt))"
   ]
  },
  {
   "cell_type": "code",
   "execution_count": null,
   "id": "8c37ff78-91e5-4217-aa09-03b1f315aab8",
   "metadata": {},
   "outputs": [],
   "source": []
  },
  {
   "cell_type": "markdown",
   "id": "3ce527e9-bc28-401e-90e3-adda27704d2a",
   "metadata": {},
   "source": [
    "#### **[과제] 달팽이 우물에서 탈출하기**\n",
    "##### 우물에 빠진 달팽이가 우물 밖으로 빠져나오는데 걸리는 기간 출력\n",
    "##### > 낮 동안에 55cm를 올라가고, 밤에는 13cm를 미끄러지게 된다.\n",
    "##### > 달팽이가 빠져있는 우물의 깊이(cm)는 키보드로 입력 받음.\n",
    "##### > “>%d일 만에 탈출 성공”로 출력 "
   ]
  },
  {
   "cell_type": "code",
   "execution_count": 28,
   "id": "3c41a4ef-f2d8-4c58-8c04-9aed15e87458",
   "metadata": {},
   "outputs": [
    {
     "name": "stdin",
     "output_type": "stream",
     "text": [
      ">우물 깊이 값 입력(cm, 양수)?  500\n"
     ]
    },
    {
     "name": "stdout",
     "output_type": "stream",
     "text": [
      " 1일째:  -445cm   >  -458cm\n",
      " 2일째:  -403cm   >  -416cm\n",
      " 3일째:  -361cm   >  -374cm\n",
      " 4일째:  -319cm   >  -332cm\n",
      " 5일째:  -277cm   >  -290cm\n",
      " 6일째:  -235cm   >  -248cm\n",
      " 7일째:  -193cm   >  -206cm\n",
      " 8일째:  -151cm   >  -164cm\n",
      " 9일째:  -109cm   >  -122cm\n",
      "10일째:   -67cm   >   -80cm\n",
      "11일째:   -25cm   >   -38cm\n",
      "12일째:    17cm  \n",
      ">>12일만에 탈출 성공\n"
     ]
    }
   ],
   "source": [
    "## [과제] 달팽이 우물에서 탈출하기\n",
    "heigh = 0       #우물 밖 목표 위치(cm)\n",
    "p_dal = int(input(\">우물 깊이 값 입력(cm, 양수)? \"))    #우물 안 달팽이 위치(cm)\n",
    "\n",
    "\n",
    "\n",
    "\n",
    "print(\"\\n>>%d일만에 탈출 성공\" %days)"
   ]
  },
  {
   "cell_type": "code",
   "execution_count": null,
   "id": "87d2890a-1efa-436f-8237-95067a2371c8",
   "metadata": {},
   "outputs": [],
   "source": []
  },
  {
   "cell_type": "markdown",
   "id": "32001358-045b-44f1-a619-2a4ebce5b323",
   "metadata": {},
   "source": [
    "#### **[과제] 숫자 탑 쌓기**\n",
    "##### 아래 결과와 같이 출력되도록 중첩 for 문을 사용하여 해결하시오.\n",
    "##### > for 문을 복수개 사용\n",
    "##### 54321 \n",
    "##### 5432 \n",
    "##### 543 \n",
    "##### 54 \n",
    "##### 5 "
   ]
  },
  {
   "cell_type": "code",
   "execution_count": 51,
   "id": "718d13a9-20ba-4fb7-8745-b8974550b4f3",
   "metadata": {},
   "outputs": [
    {
     "name": "stdout",
     "output_type": "stream",
     "text": [
      "54321\n",
      "5432\n",
      "543\n",
      "54\n",
      "5\n"
     ]
    }
   ],
   "source": [
    "##[과제] 숫자 탑 쌓기\n",
    "\n",
    "\n"
   ]
  },
  {
   "cell_type": "code",
   "execution_count": null,
   "id": "0f237127-adef-4139-b0e6-98de6c6a9966",
   "metadata": {},
   "outputs": [],
   "source": []
  },
  {
   "cell_type": "markdown",
   "id": "001d82c8-8895-4fd6-a8a7-e0da941174ad",
   "metadata": {},
   "source": [
    "#### **[과제] 구구단표 출력 (n열 출력)**\n",
    "##### > 2~9단까지 n열로 출력\n",
    "##### > 열 n 값을 키보드로 입력을 받음"
   ]
  },
  {
   "cell_type": "code",
   "execution_count": 61,
   "id": "8006f5f8-f31e-4b67-b3c9-679766d5e809",
   "metadata": {},
   "outputs": [
    {
     "name": "stdin",
     "output_type": "stream",
     "text": [
      "몇 열로 출력할까요?  5\n"
     ]
    },
    {
     "name": "stdout",
     "output_type": "stream",
     "text": [
      "2 x 1 =  2 \t 3 x 1 =  3 \t 4 x 1 =  4 \t 5 x 1 =  5 \t 6 x 1 =  6 \t \n",
      "2 x 2 =  4 \t 3 x 2 =  6 \t 4 x 2 =  8 \t 5 x 2 = 10 \t 6 x 2 = 12 \t \n",
      "2 x 3 =  6 \t 3 x 3 =  9 \t 4 x 3 = 12 \t 5 x 3 = 15 \t 6 x 3 = 18 \t \n",
      "2 x 4 =  8 \t 3 x 4 = 12 \t 4 x 4 = 16 \t 5 x 4 = 20 \t 6 x 4 = 24 \t \n",
      "2 x 5 = 10 \t 3 x 5 = 15 \t 4 x 5 = 20 \t 5 x 5 = 25 \t 6 x 5 = 30 \t \n",
      "2 x 6 = 12 \t 3 x 6 = 18 \t 4 x 6 = 24 \t 5 x 6 = 30 \t 6 x 6 = 36 \t \n",
      "2 x 7 = 14 \t 3 x 7 = 21 \t 4 x 7 = 28 \t 5 x 7 = 35 \t 6 x 7 = 42 \t \n",
      "2 x 8 = 16 \t 3 x 8 = 24 \t 4 x 8 = 32 \t 5 x 8 = 40 \t 6 x 8 = 48 \t \n",
      "2 x 9 = 18 \t 3 x 9 = 27 \t 4 x 9 = 36 \t 5 x 9 = 45 \t 6 x 9 = 54 \t \n",
      "\n",
      "7 x 1 =  7 \t 8 x 1 =  8 \t 9 x 1 =  9 \t \n",
      "7 x 2 = 14 \t 8 x 2 = 16 \t 9 x 2 = 18 \t \n",
      "7 x 3 = 21 \t 8 x 3 = 24 \t 9 x 3 = 27 \t \n",
      "7 x 4 = 28 \t 8 x 4 = 32 \t 9 x 4 = 36 \t \n",
      "7 x 5 = 35 \t 8 x 5 = 40 \t 9 x 5 = 45 \t \n",
      "7 x 6 = 42 \t 8 x 6 = 48 \t 9 x 6 = 54 \t \n",
      "7 x 7 = 49 \t 8 x 7 = 56 \t 9 x 7 = 63 \t \n",
      "7 x 8 = 56 \t 8 x 8 = 64 \t 9 x 8 = 72 \t \n",
      "7 x 9 = 63 \t 8 x 9 = 72 \t 9 x 9 = 81 \t \n",
      "\n"
     ]
    }
   ],
   "source": [
    "## [과제] 구구단표 출력 (n열 출력)\n",
    "col = int(input(\"몇 열로 출력할까요? \"))\n",
    "\n",
    "\n"
   ]
  },
  {
   "cell_type": "code",
   "execution_count": null,
   "id": "5af1897d-a3e3-4ed8-b9ab-05820e303ad3",
   "metadata": {},
   "outputs": [],
   "source": []
  }
 ],
 "metadata": {
  "kernelspec": {
   "display_name": "Python 3 (ipykernel)",
   "language": "python",
   "name": "python3"
  },
  "language_info": {
   "codemirror_mode": {
    "name": "ipython",
    "version": 3
   },
   "file_extension": ".py",
   "mimetype": "text/x-python",
   "name": "python",
   "nbconvert_exporter": "python",
   "pygments_lexer": "ipython3",
   "version": "3.9.13"
  }
 },
 "nbformat": 4,
 "nbformat_minor": 5
}
