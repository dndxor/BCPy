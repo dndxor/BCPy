{
 "cells": [
  {
   "cell_type": "markdown",
   "id": "988dcb4a-bc68-4563-adec-2d6464055972",
   "metadata": {},
   "source": [
    "----\n",
    "# **Ch05 조건문**\n",
    "##### > 연산의 결과에 따라 명령의 실행 순서가 선택되어지는 명령어\n",
    "----"
   ]
  },
  {
   "cell_type": "markdown",
   "id": "4ca02059-7743-4772-8ecc-752a04bfa794",
   "metadata": {},
   "source": [
    "#### **제어 구조**\n",
    "##### **순차 구조** : 프로그램의 각 명령문이 순차적으로 실행되는 방식\n",
    "##### **선택 구조** : 조건에 따라 실행할 동작을 선택하는 방식 (**조건문**)\n",
    "##### **반복 구조** : 조건에 따라 특정 동작을 계속 반복할지 말지를 결정하는 방식 (**반복문**)"
   ]
  },
  {
   "cell_type": "code",
   "execution_count": null,
   "id": "07ad1f1b-f0cf-47cd-adf7-189457411771",
   "metadata": {},
   "outputs": [],
   "source": []
  },
  {
   "cell_type": "markdown",
   "id": "993d9e32-dc44-4fb2-a235-e7a2b2164522",
   "metadata": {},
   "source": [
    "### **조건문 if**\n",
    "##### if (_조건식_) :   #조건식은 True나 False가 될 수 있는 값이나 식\n",
    "##### elif (_조건식_) : #반복적으로 사용 가능 [선택]\n",
    "##### else :            #마지막에 한번만 사용 가능 [선택]"
   ]
  },
  {
   "cell_type": "markdown",
   "id": "a6552602-c193-4dd5-8349-632d40cc5a67",
   "metadata": {},
   "source": [
    "##### **단일 조건식 사용**"
   ]
  },
  {
   "cell_type": "code",
   "execution_count": 3,
   "id": "4a04f972-f455-4b37-8564-d5d4ecf5a808",
   "metadata": {},
   "outputs": [
    {
     "name": "stdin",
     "output_type": "stream",
     "text": [
      "인사말 입력: 안녕?\n"
     ]
    },
    {
     "name": "stdout",
     "output_type": "stream",
     "text": [
      ">반가워요!\n"
     ]
    }
   ],
   "source": [
    "## [조건문] if ~ :\n",
    "msg = input(\"인사말 입력:\")\n",
    "\n",
    "if len(msg) > 0:\n",
    "    print(\">반가워요!\")    "
   ]
  },
  {
   "cell_type": "code",
   "execution_count": 2,
   "id": "09984736-8736-44eb-afbf-abdd9aa04b16",
   "metadata": {},
   "outputs": [
    {
     "name": "stdin",
     "output_type": "stream",
     "text": [
      "인사말 입력: \n"
     ]
    },
    {
     "name": "stdout",
     "output_type": "stream",
     "text": [
      ">안녕!\n"
     ]
    }
   ],
   "source": [
    "## [조건문] if ~ : else ~ :\n",
    "msg = input(\"인사말 입력:\")\n",
    "\n",
    "if len(msg) > 0:\n",
    "    print(\">반가워요!\")  \n",
    "else:\n",
    "    print(\">안녕!\")"
   ]
  },
  {
   "cell_type": "code",
   "execution_count": 7,
   "id": "5852d9e7-a326-4658-86a2-ebad19cca13e",
   "metadata": {},
   "outputs": [
    {
     "name": "stdin",
     "output_type": "stream",
     "text": [
      ">숫자 입력: 0\n"
     ]
    },
    {
     "name": "stdout",
     "output_type": "stream",
     "text": [
      "0입니다.\n"
     ]
    }
   ],
   "source": [
    "## [조건문] if ~ : elif ~ : else ~ :\n",
    "x = float(input(\">숫자 입력:\"))\n",
    "\n",
    "if x > 0:\n",
    "    print(\"양수입니다.\")\n",
    "elif x < 0:\n",
    "    print(\"음수입니다.\")\n",
    "else:\n",
    "    print(\"0입니다.\")"
   ]
  },
  {
   "cell_type": "code",
   "execution_count": 10,
   "id": "a10fe478-f042-4f44-a225-5966b20b04ad",
   "metadata": {},
   "outputs": [
    {
     "name": "stdin",
     "output_type": "stream",
     "text": [
      ">숫자 입력: 88\n"
     ]
    },
    {
     "name": "stdout",
     "output_type": "stream",
     "text": [
      "100보다 작은 양수입니다.\n"
     ]
    }
   ],
   "source": [
    "## [조건문] \n",
    "x = float(input(\">숫자 입력:\"))\n",
    "\n",
    "if x < 0:\n",
    "    print(\"음수입니다.\")\n",
    "elif x == 0:\n",
    "    print(\"0입니다.\")\n",
    "elif x < 100:\n",
    "    print(\"100보다 작은 양수입니다.\")\n",
    "else:\n",
    "    print(\"100보다 큽니다.\")"
   ]
  },
  {
   "cell_type": "markdown",
   "id": "78032836-ac15-46a2-b9b3-07954369518b",
   "metadata": {},
   "source": [
    "##### **복수 조건식 사용**"
   ]
  },
  {
   "cell_type": "code",
   "execution_count": 78,
   "id": "4d714b3f-73b4-44ff-862a-a2e99372db39",
   "metadata": {},
   "outputs": [
    {
     "name": "stdout",
     "output_type": "stream",
     "text": [
      ">신분이 어떻게 되는지  y나 기타 키로 답하세요.\n"
     ]
    },
    {
     "name": "stdin",
     "output_type": "stream",
     "text": [
      ">>국가유공자이신가요(y)?  y\n",
      ">>현혁군인이신가요(y)?  n\n"
     ]
    },
    {
     "name": "stdout",
     "output_type": "stream",
     "text": [
      ">>>할인 대상입니다.\n"
     ]
    }
   ],
   "source": [
    "## [실습] 할인 적용 여부 판단\n",
    "print(\">신분이 어떻게 되는지  y나 기타 키로 답하세요.\")\n",
    "\n",
    "status1 = input(\">>국가유공자이신가요(y)? \").strip().lower()\n",
    "status2 = input(\">>현혁군인이신가요(y)? \").strip().lower()\n",
    "\n",
    "if (status1 != 'y') and (status2 != 'y'):\n",
    "    print(\">>>할인 대상이 아닙니다.\")\n",
    "else:    \n",
    "    print(\">>>할인 대상입니다.\")"
   ]
  },
  {
   "cell_type": "markdown",
   "id": "2c80912d-0856-493b-bee6-ef55f3ccc79e",
   "metadata": {},
   "source": [
    "##### **[연습] '합격', '불합격' 판단**"
   ]
  },
  {
   "cell_type": "code",
   "execution_count": 17,
   "id": "0381c485-c1f7-4279-a39c-43d40abaf06f",
   "metadata": {},
   "outputs": [
    {
     "name": "stdout",
     "output_type": "stream",
     "text": [
      "Avg:  71.8, Min: 38\n",
      "불합격\n"
     ]
    }
   ],
   "source": [
    "## [조건문] '합격', '불합격' 판단\n",
    "score = [80, 63, 38, 88, 90]\n",
    "\n",
    "avg = sum(score) / len(score)\n",
    "smin = min(score)\n",
    "print(\"Avg: %5.1f, Min: %d\" %(avg, smin))\n",
    "\n",
    "if (avg >= 60) and (smin >= 40):\n",
    "    print(\"합격입니다!\")\n",
    "else:\n",
    "    print(\"불합격\")"
   ]
  },
  {
   "cell_type": "markdown",
   "id": "aca3664e-cc11-4ccf-a0fa-5fde19b9fa94",
   "metadata": {},
   "source": [
    "##### **[연습] 연령대별 영화 추천**\n",
    "###### > '어벤저스' : 10대 이하\n",
    "###### > '뮬란' : 30대 이하\n",
    "###### > '테넷' : 20대 ~ 50대 이하\n",
    "###### > '오!문희' : 20대 ~ 30대, 60대 이상"
   ]
  },
  {
   "cell_type": "code",
   "execution_count": null,
   "id": "c5e6d36a-b79f-4d3a-affd-4fe2ccea8109",
   "metadata": {},
   "outputs": [],
   "source": [
    "## [조건문] 연령대별 영화 추천\n",
    "age = int(input(\"나이를 입력하세요 : \"))\n",
    "\n",
    "print(\"** 추천 영화 목록 **\")\n",
    "if age < 20:\n",
    "    print(\"어벤저스\")\n",
    "if age < 40:\n",
    "    print(\"뮬란\")\n",
    "if 20 <= age < 60:\n",
    "    print(\"테넷\")\n",
    "if 20 <= age < 40 or age >= 60:\n",
    "    print(\"오!문희\")"
   ]
  },
  {
   "cell_type": "code",
   "execution_count": null,
   "id": "6ebe86c1-eb8f-450c-a0ce-5b9ae8163122",
   "metadata": {},
   "outputs": [],
   "source": []
  },
  {
   "cell_type": "markdown",
   "id": "7d7ff919-9049-4f3b-9c0c-2639739532b3",
   "metadata": {
    "tags": []
   },
   "source": [
    "### **if 문 중첩 사용**\n",
    "##### > if 문 안에 if 문 사용"
   ]
  },
  {
   "cell_type": "code",
   "execution_count": 12,
   "id": "4fd5b947-9ecf-4f68-98d3-98d2cc954447",
   "metadata": {},
   "outputs": [
    {
     "name": "stdin",
     "output_type": "stream",
     "text": [
      ">오늘 기온을 입력하세요 :  5\n"
     ]
    },
    {
     "name": "stdout",
     "output_type": "stream",
     "text": [
      ">>오늘 기온은 5도입니다.\n",
      ">>긴바지를 입으세요.\n",
      ">>외투도 입는 게 좋겠네요.\n"
     ]
    }
   ],
   "source": [
    "## [조건문] if문 중첩 사용\n",
    "temp = int(input(\">오늘 기온을 입력하세요 : \"))\n",
    "print(\">>오늘 기온은 %d도입니다.\" % temp)\n",
    "\n",
    "if temp < 24 :\n",
    "    print(\">>긴바지를 입으세요.\")\n",
    "    if temp < 10 :\n",
    "        print(\">>외투도 입는 게 좋겠네요.\")\n",
    "else :      #기온이 24도 이상인 경우\n",
    "    print(\">>반바지를 입으세요.\")"
   ]
  },
  {
   "cell_type": "code",
   "execution_count": null,
   "id": "69b76b4a-054c-4d51-8fcf-8cd05a057af3",
   "metadata": {},
   "outputs": [],
   "source": [
    "## [조건문] if문 중첩 사용\n",
    "number = int(input(\"주민번호 뒷부분 한 자리 숫자를 입력하세요 : \"))\n",
    "\n",
    "if 1 <= number <= 4 :\n",
    "    if number % 2 == 1 :    # 2로 나눈 나머지가 1인 경우(= 1 또는 3)\n",
    "        print(\"회원은 남자입니다.\")\n",
    "    else :\n",
    "        print(\"회원은 여자입니다.\")\n",
    "else :       # 잘못된 입력인 경우\n",
    "    print(\"올바른 값이 아닙니다!\")"
   ]
  },
  {
   "cell_type": "code",
   "execution_count": 14,
   "id": "9902bd3a-39ea-4afd-8fff-31ff3a3b6b82",
   "metadata": {},
   "outputs": [
    {
     "name": "stdin",
     "output_type": "stream",
     "text": [
      ">청구한 금액 입력(원)?  5678\n",
      ">받은 금액 입력(원)?  10000\n"
     ]
    },
    {
     "name": "stdout",
     "output_type": "stream",
     "text": [
      ">>여기, 거스름 돈 4322원입니다.\n"
     ]
    }
   ],
   "source": [
    "## [조건문] if 문 중첩 사용\n",
    "totwon = int(input(\">청구한 금액 입력(원)? \"))\n",
    "inwon = int(input(\">받은 금액 입력(원)? \"))\n",
    "outwon = inwon - totwon    ##거스를 금액\n",
    "\n",
    "if outwon >= 0:\n",
    "    if outwon > 0:\n",
    "        print(\">>여기, 거스름 돈 %d원입니다.\" %(outwon))\n",
    "    else:\n",
    "        print(\">>네! 감사합니다.\")\n",
    "else:\n",
    "        print(\">>금액이 부족합니다.\")"
   ]
  },
  {
   "cell_type": "markdown",
   "id": "5358f369-5c28-4092-97dd-fafb9a6c1353",
   "metadata": {
    "tags": []
   },
   "source": [
    "#### **[실습] 목욕탕 입장 판단** \n",
    "##### 성별과 나이를 입력받아 남탕 또는 여탕 입장을 판단\n",
    "###### > 성별이 '남(M)'이면 남탕을, '여(F)'이면 여탕으로 판단\n",
    "###### > 단, 연령이 5세 미만이면 아무탕으로 판단"
   ]
  },
  {
   "cell_type": "code",
   "execution_count": null,
   "id": "8fe867f0-55b3-4ad5-92fe-ffda6d6af06d",
   "metadata": {},
   "outputs": [],
   "source": [
    "## [연습] 목욕탕 입장 판단\n",
    "sex = input(\">성별 입력(f/m): \")\n",
    "age = int(input(\">나이 입력: \"))\n",
    "\n",
    "\n",
    "\n",
    "\n"
   ]
  },
  {
   "cell_type": "code",
   "execution_count": null,
   "id": "a051c272-2f5d-4176-a184-5524a38ff829",
   "metadata": {},
   "outputs": [],
   "source": []
  },
  {
   "cell_type": "markdown",
   "id": "6bd71564-1780-4486-b4eb-f252bfd05e64",
   "metadata": {},
   "source": [
    "### **if ~ : elif ~ : 조건문**\n",
    "##### else: if A: 는 elif A: 와 동격"
   ]
  },
  {
   "cell_type": "markdown",
   "id": "d57e6012-32a5-484d-97e6-91278b478bc6",
   "metadata": {
    "tags": []
   },
   "source": [
    "##### **[연습] 연령대 판단: if ~ : else ~ : 조건문 사용** "
   ]
  },
  {
   "cell_type": "code",
   "execution_count": null,
   "id": "91631121-2f43-40f6-9fc1-55bb2b0201f1",
   "metadata": {},
   "outputs": [
    {
     "name": "stdin",
     "output_type": "stream",
     "text": [
      "이름을 입력하세요 :  Kims\n",
      "나이를 입력하세요 :  33\n"
     ]
    },
    {
     "name": "stdout",
     "output_type": "stream",
     "text": [
      "Kims 님은 30대입니다.\n"
     ]
    }
   ],
   "source": [
    "## [조건문] if ~ else ~문\n",
    "name = input(\"이름을 입력하세요 : \")\n",
    "age = int(input(\"나이를 입력하세요 : \"))\n",
    "\n",
    "if age < 20 :\n",
    "    print(name, \"님은 청소년입니다.\")\n",
    "else:\n",
    "    if age < 30 :\n",
    "        print(name, \"님은 20대입니다.\")\n",
    "    else:\n",
    "        if age < 40 :\n",
    "            print(name, \"님은 30대입니다.\")\n",
    "        else:\n",
    "            if age < 50 :   \n",
    "                print(name, \"님은 40대입니다.\")\n",
    "            else:\n",
    "                if age < 60 :\n",
    "                    print(name, \"님은 50대입니다.\")\n",
    "                else :\n",
    "                    print(name, \"님은 60대 이상입니다.\")"
   ]
  },
  {
   "cell_type": "markdown",
   "id": "9e4910c9-14b0-45fe-86d5-edff5c25975e",
   "metadata": {
    "tags": []
   },
   "source": [
    "##### **[연습] 연령대 판단: if ~ : elif ~ : 조건문 사용** "
   ]
  },
  {
   "cell_type": "code",
   "execution_count": null,
   "id": "d8c66e09-0b1d-4847-bed6-ca5b215d6969",
   "metadata": {},
   "outputs": [],
   "source": [
    "## [조건문] if ~ elif ~문\n",
    "name = input(\"이름을 입력하세요 : \")\n",
    "age = int(input(\"나이를 입력하세요 : \"))\n",
    "\n",
    "if age < 20 :\n",
    "    print(name, \"님은 청소년입니다.\")\n",
    "elif age < 30 :\n",
    "    print(name, \"님은 20대입니다.\")\n",
    "elif age < 40 :\n",
    "    print(name, \"님은 30대입니다.\")\n",
    "elif age < 50 :\n",
    "    print(name, \"님은 40대입니다.\")\n",
    "elif age < 60 :\n",
    "    print(name, \"님은 50대입니다.\")\n",
    "else :\n",
    "    print(name, \"님은 60대 이상입니다.\")"
   ]
  },
  {
   "cell_type": "markdown",
   "id": "0d768aef-e8a1-4211-8ca8-959de1ce5c94",
   "metadata": {},
   "source": [
    "##### **[연습] 환률 계산: if ~ : elif ~ : 조건문 사용** \n",
    "###### > 미국 : 1달러 : 1188.5원\n",
    "###### > 영국 : 1달러 : 1188.5원\n",
    "###### > 미국 : 1달러 : 1188.5원\n",
    "###### > 미국 : 1달러 : 1188.5원\n",
    "###### > 미국 : 1달러 : 1188.5원"
   ]
  },
  {
   "cell_type": "code",
   "execution_count": null,
   "id": "67424e32-96e4-4bf7-b116-8cf7a7df4f6d",
   "metadata": {},
   "outputs": [],
   "source": [
    "## [실습] 환율 계산\n",
    "money = int(input(\"환전하려는 금액(원) : \"))\n",
    "nation = input(\"국가 선택(미국/영국/러시아/중국) : \")\n",
    "\n",
    "exchange = 0; currency = \"\"\n",
    "\n",
    "if nation == \"미국\":\n",
    "    exchange = money / 1188.50\n",
    "    currency = \"달러\"\n",
    "elif nation == \"영국\":\n",
    "    exchange = money / 1570.13\n",
    "    currency = \"파운드\"\n",
    "elif nation == \"러시아\":\n",
    "    exchange = money / 15.01\n",
    "    currency = \"루블\"\n",
    "elif nation == \"중국\":\n",
    "    exchange = money / 173.93\n",
    "    currency = \"위안\"\n",
    "else:\n",
    "    print(\"국가를 잘못 입력했습니다.\")\n",
    "    \n",
    "print(\"%.2f\" % exchange, currency) #소수점 이하 2자리로 단위도 함께 출력 "
   ]
  },
  {
   "cell_type": "code",
   "execution_count": null,
   "id": "6b40bc08-1d3a-4bb3-9b41-68f6d544f9c4",
   "metadata": {},
   "outputs": [],
   "source": []
  },
  {
   "cell_type": "markdown",
   "id": "cb9b04d2-c3fa-4c18-ae93-184b93313e43",
   "metadata": {},
   "source": [
    "#### **실행 복잡도(Complexity) 비교**\n",
    "###### 코드의 실행 복잡도는 평균 실행 명령 수로 비교"
   ]
  },
  {
   "cell_type": "markdown",
   "id": "a077f456-dd46-4eb8-bc61-f15f01295b00",
   "metadata": {
    "tags": []
   },
   "source": [
    "##### **[연습] BMI 기준 비만도 판단** \n",
    "###### > 18.5 미만 : 저체중, 건강 위험도 높음\n",
    "###### > 18.5 이상, 25 미만 : 정상체중, 건강 위험도 낮음\n",
    "###### > 25 이상 30 미만: 과체중, 건강 위험도 낮음\n",
    "###### > 30 이상 : 비만, 건강 위험도 높음"
   ]
  },
  {
   "cell_type": "markdown",
   "id": "08d67495-bf74-4007-92c2-f5fa13d8b43a",
   "metadata": {},
   "source": [
    "##### **[A] BMI 기준 비만도 판단**"
   ]
  },
  {
   "cell_type": "code",
   "execution_count": 15,
   "id": "a32e3800-3d96-42f9-b525-919e05926119",
   "metadata": {},
   "outputs": [
    {
     "name": "stdin",
     "output_type": "stream",
     "text": [
      ">키 입력(cm) :  175\n",
      ">몸무게 입력(kg) :  60\n"
     ]
    },
    {
     "name": "stdout",
     "output_type": "stream",
     "text": [
      "*** 체질량지수 19.6 : 정상체중, 건강 위험도 낮음 ***\n"
     ]
    }
   ],
   "source": [
    "## [조건문] if문 중첩 사용: 체질량지수 Tppe-A\n",
    "height = int(input(\">키 입력(cm) : \"))\n",
    "weight = int(input(\">몸무게 입력(kg) : \"))\n",
    "\n",
    "bmi = weight / (height / 100) ** 2  # 키를 미터 단위로 변환한 후 계산\n",
    "print(\"*** 체질량지수 %.1f :\" % bmi, end=' ')  # 소수점 이하 1자리로 출력\n",
    "\n",
    "#복잡도 : 36/4=9.0\n",
    "if bmi < 18.5 :\n",
    "    print(\"저체중, 건강 위험도 높음 ***\")\n",
    "if bmi >= 18.5 and bmi < 25 :\n",
    "    print(\"정상체중, 건강 위험도 낮음 ***\")\n",
    "if bmi >= 25.0 and bmi < 30 :\n",
    "    print(\"과체중, 건강 위험도 낮음 ***\")\n",
    "if bmi >= 30 :\n",
    "    print(\"비만, 건강 위험도 높음 ***\")"
   ]
  },
  {
   "cell_type": "markdown",
   "id": "5e0691df-f0c5-452c-9778-208a7d58a132",
   "metadata": {},
   "source": [
    "##### **[A] 실행 복잡도(Complexity) 계산** : 9.0\n",
    "###### > bmi < 18.5 일 때: 총 실행 횟수는 9 (비교 8회, print() 1회)\n",
    "###### > bmi >= 18.5 and bmi < 25 일 때: 총 실행 횟수는 9\n",
    "###### > bmi >= 25.0 and bmi < 30 일 때: 총 실행 횟수는 9\n",
    "###### > bmi >= 30 일 때: 총 실행 횟수는 9\n",
    "###### 평균 복잡도 = (9 + 9 + 9 + 9) / 4 = 36 / 4 = 9.0"
   ]
  },
  {
   "cell_type": "code",
   "execution_count": null,
   "id": "05e604a0-1b45-4ae1-a5ee-873f906855c4",
   "metadata": {},
   "outputs": [],
   "source": []
  },
  {
   "cell_type": "markdown",
   "id": "478039ff-18b9-42db-b9ba-cacfb124d805",
   "metadata": {},
   "source": [
    "##### **[B] BMI 기준 비만도 판단**"
   ]
  },
  {
   "cell_type": "code",
   "execution_count": 18,
   "id": "98df0cb7-d436-400c-9e1c-30a3b6d667ce",
   "metadata": {},
   "outputs": [
    {
     "name": "stdin",
     "output_type": "stream",
     "text": [
      "키 입력(cm) :  174\n",
      "몸무게 입력(kg) :  60\n"
     ]
    },
    {
     "name": "stdout",
     "output_type": "stream",
     "text": [
      "*** 체질량지수 19.8 : 정상체중, 건강 위험도 낮음 ***\n"
     ]
    }
   ],
   "source": [
    "## [조건문] if문 중첩 사용: 체질량지수 Tppe-B\n",
    "height = int(input(\">키 입력(cm) : \"))\n",
    "weight = int(input(\">몸무게 입력(kg) : \"))\n",
    "\n",
    "bmi = weight / (height / 100) ** 2  # 키를 미터 단위로 변환한 후 계산\n",
    "print(\"*** 체질량지수 %.1f :\" % bmi, end=' ')  # 소수점 이하 1자리로 출력\n",
    "\n",
    "#복잡도 : 23/4=5.75\n",
    "if bmi < 18.5 :\n",
    "    print(\"저체중, 건강 위험도 높음 ***\")\n",
    "elif bmi >= 18.5 and bmi < 25 :\n",
    "    print(\"정상체중, 건강 위험도 낮음 ***\")\n",
    "elif bmi >= 25.0 and bmi < 30 :\n",
    "    print(\"과체중, 건강 위험도 낮음 ***\")\n",
    "else :\n",
    "    print(\"비만, 건강 위험도 높음 ***\")"
   ]
  },
  {
   "cell_type": "markdown",
   "id": "e9ab6ae0-afa7-465c-9c1b-361841b18d74",
   "metadata": {},
   "source": [
    "##### **[B] 실행 복잡도(Complexity) 계산** : 5.75\n",
    "###### > bmi < 18.5 일 때: 총 실행 횟수는 2 (비교 1회, print() 1회)\n",
    "###### > bmi < 25.0 일 때: 총 실행 횟수는 5 (비교 4회, print() 1회)\n",
    "###### > bmi < 30 일 때: 총 실행 횟수는 8 (비교 3회, print() 1회)\n",
    "###### > bmi >= 30 일 때: 총 실행 횟수는 8 (비교 3회, print() 1회)\n",
    "##### 평균 복잡도 = (2 + 5 + 8 + 8) / 4 = 13 / 4 = 5.75"
   ]
  },
  {
   "cell_type": "code",
   "execution_count": null,
   "id": "158e6cc8-c3e4-4e34-94fc-28827e839a94",
   "metadata": {},
   "outputs": [],
   "source": []
  },
  {
   "cell_type": "markdown",
   "id": "9c96359e-f241-419b-bdd5-d08e55baceb6",
   "metadata": {},
   "source": [
    "##### **[C] BMI 기준 비만도 판단**"
   ]
  },
  {
   "cell_type": "code",
   "execution_count": 18,
   "id": "0a31a8ba-7ab3-4fc6-908e-991254b35bfb",
   "metadata": {},
   "outputs": [
    {
     "name": "stdin",
     "output_type": "stream",
     "text": [
      "키 입력(cm) :  174\n",
      "몸무게 입력(kg) :  60\n"
     ]
    },
    {
     "name": "stdout",
     "output_type": "stream",
     "text": [
      "*** 체질량지수 19.8 : 정상체중, 건강 위험도 낮음 ***\n"
     ]
    }
   ],
   "source": [
    "## [조건문] if문 중첩 사용: 체질량지수 Tppe-C\n",
    "height = int(input(\">키 입력(cm) : \"))\n",
    "weight = int(input(\">몸무게 입력(kg) : \"))\n",
    "\n",
    "bmi = weight / (height / 100) ** 2  # 키를 미터 단위로 변환한 후 계산\n",
    "print(\"*** 체질량지수 %.1f :\" % bmi, end=' ')  # 소수점 이하 1자리로 출력\n",
    "\n",
    "#복잡도 : 13/4=3.25\n",
    "if bmi < 18.5 :\n",
    "    print(\"저체중, 건강 위험도 높음 ***\")\n",
    "elif bmi < 25 :\n",
    "    print(\"정상체중, 건강 위험도 낮음 ***\")\n",
    "elif bmi < 30 :\n",
    "    print(\"과체중, 건강 위험도 낮음 ***\")\n",
    "else :\n",
    "    print(\"비만, 건강 위험도 높음 ***\")"
   ]
  },
  {
   "cell_type": "markdown",
   "id": "656a163c-06af-4223-a032-49f29d17428a",
   "metadata": {},
   "source": [
    "##### **[C] 실행 복잡도(Complexity) 계산** : 3.25\n",
    "###### > bmi < 18.5 일 때: 총 실행 횟수는 2 (비교 1회, print() 1회)\n",
    "###### > bmi < 25.0 일 때: 총 실행 횟수는 3 (비교 2회, print() 1회)\n",
    "###### > bmi < 30 일 때: 총 실행 횟수는 4 (비교 3회, print() 1회)\n",
    "###### > bmi >= 30 일 때: 총 실행 횟수는 4 (비교 3회, print() 1회)\n",
    "##### 평균 복잡도 = (2 + 3 + 4 + 4) / 4 = 13 / 4 = 3.25"
   ]
  },
  {
   "cell_type": "code",
   "execution_count": null,
   "id": "63d94b35-0b46-4163-8c66-4a3e861bc94d",
   "metadata": {},
   "outputs": [],
   "source": []
  },
  {
   "cell_type": "markdown",
   "id": "aff7ffb2-70d1-49bf-bca1-8faf7b0b8390",
   "metadata": {},
   "source": [
    "##### **[D] BMI 기준 비만도 판단**"
   ]
  },
  {
   "cell_type": "code",
   "execution_count": 18,
   "id": "63ce486d-a2fe-4027-9442-7a02b5f4df32",
   "metadata": {},
   "outputs": [
    {
     "name": "stdin",
     "output_type": "stream",
     "text": [
      "키 입력(cm) :  174\n",
      "몸무게 입력(kg) :  60\n"
     ]
    },
    {
     "name": "stdout",
     "output_type": "stream",
     "text": [
      "*** 체질량지수 19.8 : 정상체중, 건강 위험도 낮음 ***\n"
     ]
    }
   ],
   "source": [
    "## [조건문] if문 중첩 사용: 체질량지수 Tppe-D\n",
    "height = int(input(\">키 입력(cm) : \"))\n",
    "weight = int(input(\">몸무게 입력(kg) : \"))\n",
    "\n",
    "bmi = weight / (height / 100) ** 2  # 키를 미터 단위로 변환한 후 계산\n",
    "print(\"*** 체질량지수 %.1f :\" % bmi, end=' ')  # 소수점 이하 1자리로 출력\n",
    "\n",
    "##복잡도 : 10/4=2.5\n",
    "if bmi < 25 :   # 저체중이거나 정상체중인 경우\n",
    "    if bmi < 18.5 :\n",
    "        print(\"저체중, 건강 위험도 높음 ***\")\n",
    "    else :\n",
    "        print(\"정상체중, 건강 위험도 낮음 ***\")\n",
    "else :          # 과체중이거나 비만인 경우\n",
    "    if bmi < 30 :\n",
    "        print(\"과체중, 건강 위험도 낮음 ***\")\n",
    "    else :\n",
    "        print(\"비만, 건강 위험도 높음 ***\")"
   ]
  },
  {
   "cell_type": "markdown",
   "id": "82c1d762-6685-4d1f-8de9-b8ead213da15",
   "metadata": {},
   "source": [
    "##### **[D] 실행 복잡도(Complexity) 계산** : 2.5\n",
    "###### > bmi < 18.5 일 때: 총 실행 횟수는 3 (비교 2회, print() 1회)\n",
    "###### > bmi < 25.0 일 때: 총 실행 횟수는 3 (비교 2회, print() 1회)\n",
    "###### > bmi < 30 일 때: 총 실행 횟수는 2 (비교 1회, print() 1회)\n",
    "###### > bmi >= 30 일 때: 총 실행 횟수는 2 (비교 1회, print() 1회)\n",
    "##### 평균 복잡도 = (3 + 3 + 2 + 2) / 4 = 10 / 4 = 2.5"
   ]
  },
  {
   "cell_type": "code",
   "execution_count": null,
   "id": "dd56e718-6996-4eb1-b670-7dcca934c71c",
   "metadata": {},
   "outputs": [],
   "source": []
  },
  {
   "cell_type": "markdown",
   "id": "91819fc0-d5a4-4198-9ac7-d5a658559353",
   "metadata": {
    "tags": []
   },
   "source": [
    "#### **[실습] 할인 적용 여부 판단**\n",
    "##### 다음 요구사항에 맞는 할인율을 적용하는 코드를 완성하시오. (if~else 조건문 다중 사용)\n",
    "##### 할인율을 최대한 높게 결정해주어야 한다.\n",
    "##### 질문을 최소화 하여야 한다.\n",
    "###### > “지역주민”은 30% 할인\n",
    "###### > “국가유공자/현혁군인”은 50% 할인\n",
    "###### > “70세 이상” 어르신은 100% 할인\n",
    "##### 할인 대상은 \">>?% 할인 대상입니다\"라고 출력\n",
    "##### 비할인 대상은 \">>할인 대상이 아닙니다.\"라고 출력"
   ]
  },
  {
   "cell_type": "code",
   "execution_count": 15,
   "id": "a10454a7-9480-46d4-a526-85ff451c980e",
   "metadata": {},
   "outputs": [
    {
     "name": "stdout",
     "output_type": "stream",
     "text": [
      ">신분이 어떻게 되는지  y나 기타 키로 답하세요.\n"
     ]
    },
    {
     "name": "stdin",
     "output_type": "stream",
     "text": [
      ">70세 이상” 어르신인가요(y)?  \n",
      ">국가유공자 또는 현혁군인이신가요(y)?  y\n",
      ">지역주민이신가요(y)?  \n"
     ]
    },
    {
     "name": "stdout",
     "output_type": "stream",
     "text": [
      ">>50% 할인 대상입니다.\n"
     ]
    }
   ],
   "source": [
    "## [연습] 할인 적용 여부 판단\n",
    "rate = 0  #할인률\n",
    "print(\">신분이 어떻게 되는지  y나 기타 키로 답하세요.\")\n",
    "status = input(\">70세 이상” 어르신인가요(y)? \").strip().lower()\n",
    "status = input(\">국가유공자 또는 현혁군인이신가요(y)? \").strip().lower()\n",
    "status = input(\">지역주민이신가요(y)? \").strip().lower()\n",
    "\n",
    "\n",
    "\n",
    "\n"
   ]
  },
  {
   "cell_type": "code",
   "execution_count": null,
   "id": "8a9ad54d-4509-462a-89d3-9ba28342cb8e",
   "metadata": {},
   "outputs": [],
   "source": []
  },
  {
   "cell_type": "markdown",
   "id": "400e853b-599d-4a46-9f73-ca491519dfe7",
   "metadata": {},
   "source": [
    "#### **[실습] 숫자 맞추기 UpDown**\n",
    "##### 자동으로 생성한 난수를 맞추는 코드를 완성하시오. (if 조건문 사용)\n",
    "###### > 난수는 1~20까지 중에 정수로 생성\n",
    "###### > 맞출 값은 키보드로 입력\n",
    "###### > 난수 값과 입력 값을 비교하여 결과 출력\n",
    "###### >> ‘Up’ : 입력값 < 난수\n",
    "###### >> ‘Down’ : 입력값 > 난수\n",
    "###### >> ‘OK!’ : 입력값 == 난수\n",
    "##### > while 반복문 탈출은 break"
   ]
  },
  {
   "cell_type": "code",
   "execution_count": null,
   "id": "012e222f-9cce-458f-aaf0-0488e1802f31",
   "metadata": {},
   "outputs": [],
   "source": [
    "## [실습] 숫자 맞추기 UpDown\n",
    "import random  #random 모듈 불러오기\n",
    "rnum = random.randint(1, 20) # 1에서 20 사이의 랜덤 정수 저장\n",
    "print(\"1~20 중에 하나의 난수를 발생했습니다.\")\n",
    "\n",
    "innum = 0  #사용자 입력값\n",
    "while innum != rnum:\n",
    "    innum = int(input(\"숫자 입력(1~20) : \"))\n",
    "    \n",
    "    \n",
    "    \n",
    "        "
   ]
  },
  {
   "cell_type": "code",
   "execution_count": null,
   "id": "3045aad9-4b2b-4321-afac-c85ff3b13429",
   "metadata": {},
   "outputs": [],
   "source": []
  },
  {
   "cell_type": "markdown",
   "id": "0e4de3b1-7f27-405b-be53-02f42aebb6cf",
   "metadata": {},
   "source": [
    "#### **[실습] 점수의 등급 판정**\n",
    "##### 한개의 점수를 입력 받아 아래 등급으로 환산하여 출력하시오. (조건문 사용)\n",
    "###### > 점수 범위 : 0 ~ 100 \n",
    "###### > 95 이상은 ‘A+’, 90 이상 95 미만은 ‘A’,\n",
    "###### > 85 이상 90 미만은 ‘B+’, 80 이상 85 미만은 ‘B’, \n",
    "###### > 75 이상 80 미만은 ‘C+’, 70 이상 75 미만은 ‘C’, \n",
    "###### > 65 이상 70 미만은 ‘D+’, 60 이상 65 미만은 ‘D’,\n",
    "###### >  0 이상 60 미만은 ‘F’등급"
   ]
  },
  {
   "cell_type": "code",
   "execution_count": null,
   "id": "9c08c3a4-5693-4736-b4b6-f83419b49ef9",
   "metadata": {},
   "outputs": [],
   "source": [
    "## [실습] 점수의 등급 판정\n",
    "grade = ''\n",
    "score = 101\n",
    "while score < 0 or score > 100:\n",
    "    score = int(input(\">점수를 입력하세요 : \"))\n",
    "\n",
    "    \n",
    "    \n",
    "    \n",
    "\n",
    "print(\">>등급은 \", grade)"
   ]
  },
  {
   "cell_type": "code",
   "execution_count": null,
   "id": "eb7d5d9c-aae7-4c79-8465-24175daf3887",
   "metadata": {},
   "outputs": [],
   "source": []
  },
  {
   "cell_type": "markdown",
   "id": "ba2d5c36-857a-410e-8abc-6e166189ae73",
   "metadata": {},
   "source": [
    "### **3항 연산 조건문**\n",
    "##### if ~ : else ~ : 선택문을 3항 연산자로 표현\n",
    "> _변수_ = {_true 시 실행/반환 값_} if _조건식_ else {_false 시 실행/반환 값_}  "
   ]
  },
  {
   "cell_type": "markdown",
   "id": "82393980-913f-47db-87d0-fad08a55c1a4",
   "metadata": {},
   "source": [
    "##### **[연습] 두 수중에 큰 수 출력**"
   ]
  },
  {
   "cell_type": "code",
   "execution_count": 23,
   "id": "b0cc529e-876b-48a3-bd1f-9e73d8f01fd4",
   "metadata": {},
   "outputs": [
    {
     "name": "stdout",
     "output_type": "stream",
     "text": [
      "4\n"
     ]
    }
   ],
   "source": [
    "## 3항 연산 조건문 사용\n",
    "a = 3; b = 4\n",
    "if a >= b:\n",
    "    max = a\n",
    "else:\n",
    "    max = b\n",
    "print(max)"
   ]
  },
  {
   "cell_type": "code",
   "execution_count": 24,
   "id": "ba450f95-d0fa-4cfd-abcd-6744095b9dd8",
   "metadata": {},
   "outputs": [
    {
     "name": "stdout",
     "output_type": "stream",
     "text": [
      "4\n"
     ]
    }
   ],
   "source": [
    "## 3항 연산 조건문 사용\n",
    "a = 3; b = 4\n",
    "max = a if (a >= b) else b\n",
    "print(max)"
   ]
  },
  {
   "cell_type": "markdown",
   "id": "bb13739f-8dd1-4781-a34b-63225579e336",
   "metadata": {},
   "source": [
    "#### **[실습] 3항 연산 조건문을 사용하여 세 수중에 큰 수 출력 [A]**\n",
    "##### > 아래 코드를 3항 연산 조건문을 사용하여 해결"
   ]
  },
  {
   "cell_type": "code",
   "execution_count": 32,
   "id": "ec0283e5-e3f0-4d5b-b258-2f9ce6582edb",
   "metadata": {},
   "outputs": [
    {
     "name": "stdout",
     "output_type": "stream",
     "text": [
      "4\n"
     ]
    }
   ],
   "source": [
    "## if ~ else ~ 조건문 사용: A\n",
    "a = 3; b = 4; c = 2\n",
    "if a >= b:\n",
    "    if a >= c:\n",
    "        max = a\n",
    "    else :\n",
    "        max = c\n",
    "elif b >= c:\n",
    "    max = b\n",
    "else:\n",
    "    max = c\n",
    "    \n",
    "print(max)"
   ]
  },
  {
   "cell_type": "code",
   "execution_count": 33,
   "id": "615ef4fe-4a21-4bff-b3c1-25897d617533",
   "metadata": {},
   "outputs": [
    {
     "name": "stdout",
     "output_type": "stream",
     "text": [
      "4\n"
     ]
    }
   ],
   "source": [
    "## 3항 연산 조건문 사용: A\n",
    "a = 3; b = 4; c = 2\n",
    "\n",
    "\n",
    "\n",
    "print(max)"
   ]
  },
  {
   "cell_type": "markdown",
   "id": "ed33a855-06c3-419e-86df-325145fb95c2",
   "metadata": {},
   "source": [
    "#### **[실습] 3항 연산 조건문을 사용하여 세 수중에 큰 수 출력 [B]**\n",
    "##### > 아래 코드를 3항 연산 조건문을 사용하여 해결"
   ]
  },
  {
   "cell_type": "code",
   "execution_count": 3,
   "id": "a36dd2de-f9c0-45ec-9eab-8f954669b01d",
   "metadata": {},
   "outputs": [
    {
     "name": "stdout",
     "output_type": "stream",
     "text": [
      "4\n"
     ]
    }
   ],
   "source": [
    "## 3항 연산 조건문 사용: B\n",
    "a = 3; b = 4; c = 2\n",
    "max = a\n",
    "if b >= max:\n",
    "    max = b\n",
    "if c >= max:\n",
    "    max = c\n",
    "    \n",
    "print(max)"
   ]
  },
  {
   "cell_type": "code",
   "execution_count": 31,
   "id": "f590e5cf-d641-48a5-b5ab-1f377f9d41f3",
   "metadata": {},
   "outputs": [
    {
     "name": "stdout",
     "output_type": "stream",
     "text": [
      "4\n"
     ]
    }
   ],
   "source": [
    "## 3항 연산 조건문 사용: B\n",
    "a = 3; b = 4; c = 2\n",
    "\n",
    "\n",
    "\n",
    "print(max)"
   ]
  },
  {
   "cell_type": "code",
   "execution_count": null,
   "id": "37da2bf0-9855-4fc0-8cb9-d252440074f0",
   "metadata": {},
   "outputs": [],
   "source": []
  }
 ],
 "metadata": {
  "kernelspec": {
   "display_name": "Python 3 (ipykernel)",
   "language": "python",
   "name": "python3"
  },
  "language_info": {
   "codemirror_mode": {
    "name": "ipython",
    "version": 3
   },
   "file_extension": ".py",
   "mimetype": "text/x-python",
   "name": "python",
   "nbconvert_exporter": "python",
   "pygments_lexer": "ipython3",
   "version": "3.9.13"
  }
 },
 "nbformat": 4,
 "nbformat_minor": 5
}
