{
 "cells": [
  {
   "cell_type": "markdown",
   "id": "d0fab4bf-9618-4516-bafb-5ae7bba13e03",
   "metadata": {},
   "source": [
    "---------\n",
    "## Ch02 파이썬 데이터 분석 환경 만들기\n",
    "-------------"
   ]
  },
  {
   "cell_type": "markdown",
   "id": "3eb5fc9a-7ddb-4135-b127-41988050afd7",
   "metadata": {},
   "source": [
    "-----------------------------\n",
    "## [Platform] Anaconda\n",
    "----------------"
   ]
  },
  {
   "cell_type": "markdown",
   "id": "9db7b8dd-eeaa-4253-889c-b117400f59fc",
   "metadata": {},
   "source": [
    "### ㅇ Anaconda는 데이터 과학 및 분석 작업을 위한 오픈 소스 패키지 관리 및 환경 관리 플랫폼\n",
    "### ㅇ 주로 Python 기반의 데이터 과학 프로젝트를 효율적으로 관리하고 실행하기 위해 사용"
   ]
  },
  {
   "cell_type": "markdown",
   "id": "0b502cc1-8e2c-4c03-b8b6-5c64bd8b9d48",
   "metadata": {},
   "source": [
    "#### 1. 패키지 관리: Anaconda는 데이터 분석을 위한 다양한 패키지와 라이브러리를 포함하고 있습니다. 주요 패키지로는 NumPy, pandas, Matplotlib, SciPy, scikit-learn 등이 포함되어 있습니다. 이러한 패키지들은 데이터 처리, 시각화, 머신 러닝, 과학적 계산 등에 사용됩니다.\n",
    "#### 2. 환경 관리: Anaconda는 가상 환경을 생성하고 관리하는 기능을 제공하여 프로젝트별로 필요한 패키지와 버전을 분리해서 관리할 수 있습니다. 이를 통해 프로젝트 간 충돌을 방지하고 환경을 체계적으로 관리할 수 있습니다.\n",
    "#### 3. Conda: Conda는 Anaconda 패키지 관리자로, 패키지 설치, 업데이트, 제거 등을 관리합니다. 또한 가상 환경을 생성하고 관리하는데 사용됩니다. Conda는 Python 외에도 R 등의 패키지도 관리할 수 있습니다.\n",
    "#### 4. Anaconda Navigator: Anaconda에는 GUI 기반의 애플리케이션인 Anaconda Navigator도 포함되어 있습니다. 이를 사용하여 환경 생성, 패키지 설치, Jupyter Notebook 및 Jupyter Lab 실행 등을 손쉽게 수행할 수 있습니다.\n",
    "#### 5. Jupyter Notebook 및 Jupyter Lab: Anaconda는 데이터 분석 및 시각화를 위한 Jupyter Notebook과 Jupyter Lab을 기본적으로 제공합니다. 이는 인터랙티브한 환경에서 코드와 결과를 함께 작성하고 공유할 수 있는 강력한 도구입니다.\n",
    "#### 6. 데이터 분석 생태계 지원: Anaconda는 데이터 과학자들이 사용하는 다양한 패키지와 라이브러리를 하나의 통합된 환경에서 제공함으로써 데이터 분석 생태계를 지원합니다.\n",
    "#### 7. 무료 및 오픈 소스: Anaconda는 무료로 사용할 수 있으며 오픈 소스 기반입니다."
   ]
  },
  {
   "cell_type": "markdown",
   "id": "cc013a96-c622-49bc-98ef-c944b7285c4f",
   "metadata": {},
   "source": [
    "## ▷ Anaconda 설치\n",
    "#### ㅇ Site : https://www.anaconda.com/download  \n",
    "#### >> 페이지 하단에 'Anaconda Installers' 항목에서 'Windows' 버전으로 실행 파일을 Download 받아 설치 "
   ]
  },
  {
   "cell_type": "markdown",
   "id": "5ebf19c6-22a8-4cf1-9093-60762908dbb0",
   "metadata": {},
   "source": [
    "## ▷ Anaconda 실행\n",
    "#### > 시작 메뉴에서 : Anaconda Navigator 실행\n",
    "#### >> C:\\Users\\ADMIN\\AppData\\Roaming\\Microsoft\\Windows\\Start Menu\\Programs\\Anaconda3 (64-bit)\\Anaconda Navigator (anaconda3).lnk"
   ]
  },
  {
   "cell_type": "code",
   "execution_count": null,
   "id": "a5f6f268-8d4b-4c82-85a0-14ded7f13c49",
   "metadata": {},
   "outputs": [],
   "source": []
  },
  {
   "cell_type": "markdown",
   "id": "45eda223-6b82-4c5a-8344-7588d533d961",
   "metadata": {},
   "source": [
    "-----------------\n",
    "## [Tool] Jupyter Lab\n",
    "----------------"
   ]
  },
  {
   "cell_type": "markdown",
   "id": "80bf42dd-c016-4354-a16c-a5ef129c2152",
   "metadata": {},
   "source": [
    "### Jupyter Lab은 대화형 컴퓨팅과 데이터 과학 작업을 위한 강력한 웹 기반 환경\n",
    "#### 1. 다양한 문서 유형: Jupyter Notebook 노트북을 포함하여 스크립트, 마크다운, 텍스트 파일 등 다양한 문서 형식을 지원\n",
    "#### 2. 통합적 환경: 텍스트 편집기, 터미널, 데이터 파일 탐색기, 플롯 및 시각화 도구 등 다양한 환경을 하나의 인터페이스 안에서 통합하여 제공\n",
    "#### 3. 가상 환경 지원: Conda와 같은 가상 환경을 관리하고 사용\n",
    "#### 4. 확장성: 플러그인 시스템을 통해 확장성을 제공\n",
    "#### 5. 인터랙티브한 시각화: Matplotlib, Plotly, Bokeh와 같은 시각화 라이브러리를 지원하여 인터랙티브한 차트와 그래프를 생성\n",
    "#### 6. 다양한 언어 지원: 주로 Python을 지원하지만, IPython 커널을 통해 R, Julia, Scala 등 다양한 프로그래밍 언어를 지원\n",
    "#### 7. 마크다운 및 라텍 지원: 마크다운과 라텍을 사용하여 문서를 편집하고 서식을 지정할 수 있다.\n",
    "#### 8. 협업 기능: 다수의 사용자가 동시에 작업하고 공유할 수 있는 협업 기능도 제공"
   ]
  },
  {
   "cell_type": "markdown",
   "id": "e387334d-618e-4766-b411-8f774599ca87",
   "metadata": {},
   "source": [
    "## ▷ Jupyter Lab 실행 [A]\n",
    "#### > 시작 메뉴에서 : Anaconda Prompt 실행\n",
    "#### >> 'D:'로 드라이브 이동(원하는 자신의 드라이브로 이동)\n",
    "#### >> 'jupyter lab' 으로 실행"
   ]
  },
  {
   "cell_type": "markdown",
   "id": "97c24733-056e-4077-a4e4-44a8ee912628",
   "metadata": {},
   "source": [
    "## ▷ Jupyter Lab 실행 [B]\n",
    "#### > 시작 메뉴에서 : Anaconda Navigator 실행\n",
    "#### >> Jupyter Lab 클릭 실행"
   ]
  },
  {
   "cell_type": "markdown",
   "id": "975395dd-a665-47f6-a71e-5110cde83227",
   "metadata": {},
   "source": [
    "## ▷ Jupyter Lab 관련 용어\n",
    "#### ㅇNotebook : .ipynb 확장자를 갖는 작업 파일 (Cell들로 구성)\n",
    "#### ㅇCell : Notebook 내에서 실행 가능한 작업 단위(Code, Markdown 등으로 구성)\n",
    "#### >> Code는 코드 실행용 Cell, Markdown은 문서화를 위한 스크립트 Cell\n",
    "#### >> Cell 실행은 Shift+Enter 선택"
   ]
  },
  {
   "cell_type": "markdown",
   "id": "daa379d4-3604-42fd-bcfa-5ac724b13c26",
   "metadata": {},
   "source": [
    "## ▷ 기타 : Notebook를 PDF 파일로 만들기\n",
    "#### > Notebook 선택\n",
    "#### > 메뉴: File > Print 선택\n",
    "#### > Print : 상단 '프린트' 선택에서 'Microsoft Print to PDF' 선택\n",
    "#### > 하단에 '인쇄'를 선택하여\n",
    "#### > PDF 파일을 저장할 디렉토리 선택 \n",
    "#### > PDF 파일명 지정 후 '저장(S)' 선택"
   ]
  },
  {
   "cell_type": "code",
   "execution_count": null,
   "id": "7e216c23-df4d-417c-89fc-08c38bcf4a8b",
   "metadata": {},
   "outputs": [],
   "source": []
  }
 ],
 "metadata": {
  "kernelspec": {
   "display_name": "Python 3 (ipykernel)",
   "language": "python",
   "name": "python3"
  },
  "language_info": {
   "codemirror_mode": {
    "name": "ipython",
    "version": 3
   },
   "file_extension": ".py",
   "mimetype": "text/x-python",
   "name": "python",
   "nbconvert_exporter": "python",
   "pygments_lexer": "ipython3",
   "version": "3.9.13"
  }
 },
 "nbformat": 4,
 "nbformat_minor": 5
}
